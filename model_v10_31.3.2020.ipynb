{
 "cells": [
  {
   "cell_type": "code",
   "execution_count": 100,
   "metadata": {},
   "outputs": [],
   "source": [
    "## Nahratie balikov, pouzitie Anaconda Jupyter notebook + updatovane baliky.\n",
    "import numpy as np\n",
    "import pandas as pd\n",
    "from pandas.plotting import register_matplotlib_converters\n",
    "register_matplotlib_converters()\n",
    "from tqdm import tqdm_notebook\n",
    "import pickle\n",
    "import matplotlib.pyplot as plt\n",
    "import matplotlib.dates as mdates\n",
    "import seaborn as sns\n",
    "import datetime as dt\n",
    "from random import sample\n",
    "from sklearn.utils import shuffle\n",
    "\n",
    "def power_law(k_min, k_max, y, kappa):\n",
    "    return ((k_max**(-kappa+1) - k_min**(-kappa+1))*y  + k_min**(-kappa+1.0))**(1.0/(-kappa + 1.0))\n",
    "\n",
    "np.random.seed(14)"
   ]
  },
  {
   "cell_type": "code",
   "execution_count": 101,
   "metadata": {},
   "outputs": [],
   "source": [
    "## Funkcie pre ziskavanie agregovanych vysledkov zo simulacie\n",
    "def sumlist(x):\n",
    "    tmp=x[0]\n",
    "    if len(x)>1:\n",
    "        for i in x[1:]:\n",
    "            tmp=tmp+i\n",
    "    return tmp/len(x)\n",
    "\n",
    "def stdlist_inf(x):\n",
    "    tmp=pd.DataFrame(x[0].inf)\n",
    "    if len(x)>1:\n",
    "        for i in x[1:]:\n",
    "            tmp=pd.concat([tmp,pd.DataFrame(i.inf)],1)\n",
    "    return tmp.apply(np.std,1)\n",
    "\n",
    "def meanlist_inf(x):\n",
    "    tmp=pd.DataFrame(x[0].inf)\n",
    "    if len(x)>1:\n",
    "        for i in x[1:]:\n",
    "            tmp=pd.concat([tmp,pd.DataFrame(i.inf)],1)    \n",
    "    return tmp.apply(np.mean,1)\n",
    "\n",
    "def meanlist_inf_diff(x):\n",
    "    tmp_list=x\n",
    "    tmp=pd.DataFrame(tmp_list[0][:,1,:].sum(0)[1:]-tmp_list[0][:,1,:].sum(0)[:-1])\n",
    "    for i in tmp_list:\n",
    "         if len(tmp_list)>1:\n",
    "            for i in x[1:]:\n",
    "                tmp=pd.concat([tmp,\n",
    "                               pd.DataFrame(i[:,1,:].sum(0)[1:]-i[:,1,:].sum(0)[:-1])],1)    \n",
    "    return tmp.apply(np.mean,1)\n",
    "\n",
    "def stdlist_inf_diff(x):\n",
    "    tmp_list=x\n",
    "    tmp=pd.DataFrame(tmp_list[0][:,1,:].sum(0)[1:]-tmp_list[0][:,1,:].sum(0)[:-1])\n",
    "    for i in tmp_list:\n",
    "         if len(tmp_list)>1:\n",
    "            for i in x[1:]:\n",
    "                tmp=pd.concat([tmp,\n",
    "                               pd.DataFrame(i[:,1,:].sum(0)[1:]-i[:,1,:].sum(0)[:-1])],1)    \n",
    "    return tmp.apply(np.std,1)"
   ]
  },
  {
   "cell_type": "code",
   "execution_count": 107,
   "metadata": {},
   "outputs": [],
   "source": [
    "## Funkcia pre nahratie OD matice\n",
    "def OD_mat_load(path):\n",
    "    with open(path,'rb') as f:\n",
    "        OD=pickle.load(f)\n",
    "        f.close()\n",
    "    return OD\n",
    "\n",
    "# OD=OD_mat_load('./zdroje_int/OD_IFP/OD_final3.pickle')\n",
    "\n",
    "# Matica mobility? medzi mestami i,j\n",
    "# zatial je to kompletny graf\n",
    "OD = np.ones((2926,2926)) #pd.DataFrame(data=[[0,1],[1,0]])\n",
    "locs_len = OD.shape[0]"
   ]
  },
  {
   "cell_type": "code",
   "execution_count": 108,
   "metadata": {},
   "outputs": [],
   "source": [
    "# Nahratie populacie\n",
    "# pop = pd.read_excel('./zdroje_int/munic_pop.xlsx')\n",
    "# Matica populacie pre \n",
    "#pop = pd.DataFrame(data={\n",
    "#    'munic': [500011,2],\n",
    "#    'popul': [1,2],\n",
    "#})\n",
    "\n",
    "pop = pd.read_csv('./inputs/obce_pocet_obyvatelov.csv')\n",
    "pop.rename(columns={'kod_obce': 'munic', '2019Q4':'popul'}, inplace=True)\n",
    "\n",
    "pop_N = np.array(pop['popul'])\n",
    "\n",
    "# Priradenie populacie k obci\n",
    "def get_coors_long(x):\n",
    "    try:\n",
    "        return float(df_coords.long[df_coords.IDN4.apply(str)==x])\n",
    "    except:\n",
    "        return 0\n",
    "def get_coors_lat(x):\n",
    "    try:\n",
    "        return float(df_coords.lat[df_coords.IDN4.apply(str)==x])\n",
    "    except:\n",
    "        return 0\n",
    "#df_coords=pd.read_excel('./zdroje_int/obce1.xlsx')\n",
    "# df_coords = pd.DataFrame(data={\n",
    "#     'long': [17.11, 17.99],\n",
    "#     'lat': [48.11, 48.99],\n",
    "#     'IDN4': [1, 2]\n",
    "# })\n",
    "\n",
    "df_coords = pd.read_json('./inputs/obce_gps.json')\n",
    "df_coords.rename(columns={'kod_obce': 'IDN4'}, inplace=True)\n",
    "\n",
    "data_i=pop\n",
    "data_i.loc[:,'long']=data_i.munic.apply(str).apply(get_coors_long)\n",
    "data_i.loc[:,'lat']=data_i.munic.apply(str).apply(get_coors_lat)\n",
    "\n",
    "# Nahratie prvych nakaz\n",
    "#nakazy_sk=pd.read_excel('./zdroje_int/Cov_data_v0.1_20200328.xlsx', sheet_name = 'final')\n",
    "nakazy_sk_data = {\n",
    "    'kod_obce': [1,2],\n",
    "    'pocet': [1, 2]\n",
    "}\n",
    "nakazy_sk = pd.DataFrame(data=nakazy_sk_data)\n",
    "first_infections=np.zeros(locs_len)\n",
    "for i in np.arange(nakazy_sk.shape[0]):\n",
    "    first_infections[pop.munic==nakazy_sk.kod_obce.iloc[i]]=nakazy_sk.pocet.iloc[i]   \n",
    "\n",
    "first_infections_original=first_infections"
   ]
  },
  {
   "cell_type": "code",
   "execution_count": 109,
   "metadata": {},
   "outputs": [],
   "source": [
    "## Socio-ekonomicke faktory rizika\n",
    "#mrk=pd.read_excel('./zdroje_int/KoeficientyR0.xlsx')\n",
    "\n",
    "mrk_data = [\n",
    "    [1, 1, 1],\n",
    "    [2, 2, 2]\n",
    "]\n",
    "mrk = pd.DataFrame(data=mrk_data)\n",
    "\n",
    "mrk.columns=['kod','coef_r0','pct']\n",
    "mrk.loc[:,'coef_r0']=mrk.coef_r0.apply(lambda x : x**(2/3))\n",
    "\n",
    "R0_correction_demogr=np.zeros(locs_len)\n",
    "for i in np.arange(data_i.shape[0]):\n",
    "    if data_i.munic[i] in set(mrk.kod):\n",
    "        R0_correction_demogr[np.where(mrk.kod==data_i.munic[i])[0]]=(mrk.coef_r0[mrk.kod==data_i.munic[i]]*mrk.pct[mrk.kod==data_i.munic[i]])+1*(1-mrk.pct[mrk.kod==data_i.munic[i]])\n",
    "\n",
    "R0_correction_demogr[R0_correction_demogr==0]=1\n",
    "R0_correction_demogr=R0_correction_demogr**(1/2)"
   ]
  },
  {
   "cell_type": "code",
   "execution_count": 110,
   "metadata": {
    "scrolled": true
   },
   "outputs": [
    {
     "name": "stdout",
     "output_type": "stream",
     "text": [
      "R0 mean:  2.3991435834384247\n",
      "R0_izol mean: 1.500034050689335\n",
      "R0_neizol mean: 4.497065826519636\n"
     ]
    }
   ],
   "source": [
    "## R0 2.4\n",
    "if True:\n",
    "    U = 0.7\n",
    "    k_min = 0.165\n",
    "    k_max = 20\n",
    "    kappa = 2.5\n",
    "    nodes_izol = round(U*1000000)\n",
    "    nodes_neizol = 1000000 - nodes_izol\n",
    "    beta_vec_neizol = np.zeros(nodes_neizol, float)\n",
    "    for n in range(nodes_neizol):\n",
    "        beta_vec_neizol[n] = power_law(k_min, k_max, np.random.uniform(0,1), kappa)\n",
    "    \n",
    "    # factor to skew gamma distribution towards low values with the same mean and smaller variance\n",
    "    gamma_factor = 30\n",
    "    beta = 0.15*gamma_factor\n",
    "    scale = 1/gamma_factor\n",
    "\n",
    "    beta_vec_izol = np.random.gamma(beta, scale, nodes_izol)\n",
    "    gamma = 0.1\n",
    "\n",
    "    # create joined vector from two distributions\n",
    "    beta_unsorted = np.transpose([*np.transpose(beta_vec_izol),*np.transpose(beta_vec_neizol)])\n",
    "    beta_vec = shuffle(beta_unsorted,random_state=0)\n",
    "    print('R0 mean: ', beta_vec.mean()/ gamma)\n",
    "    beta_list_240=beta_vec.tolist()\n",
    "print('R0_izol mean:', beta_vec_izol.mean() / gamma)\n",
    "print('R0_neizol mean:', beta_vec_neizol.mean() / gamma)"
   ]
  },
  {
   "cell_type": "code",
   "execution_count": 111,
   "metadata": {},
   "outputs": [
    {
     "name": "stdout",
     "output_type": "stream",
     "text": [
      "New beta average:  0.165\n",
      "New beta average:  0.14\n",
      "New beta average:  0.12\n",
      "New beta average:  0.20000000000000007\n"
     ]
    }
   ],
   "source": [
    "def adjust_beta(beta_new, beta_orig = beta_list_240):\n",
    "    m = beta_new / np.average(np.array(beta_orig))\n",
    "    beta_list_new = m * np.array(beta_orig)\n",
    "    print('New beta average: ', np.average(beta_list_new))\n",
    "    return beta_list_new.tolist()\n",
    "\n",
    "# R0 1.65\n",
    "beta_list_165 = adjust_beta(beta_new = 0.165)\n",
    "# R0 1.40\n",
    "beta_list_140 = adjust_beta(beta_new = 0.140)\n",
    "# R0 1.20\n",
    "beta_list_120 = adjust_beta(beta_new = 0.120)\n",
    "# R0 2.00\n",
    "beta_list_200 = adjust_beta(beta_new = 0.200)"
   ]
  },
  {
   "cell_type": "code",
   "execution_count": 112,
   "metadata": {},
   "outputs": [],
   "source": [
    "def simulation(N_popul,OD,alpha_vec,R0_correction_demogr,first_infections,beta_list,gamma=0.1,\n",
    "               tau= 16/24, T = 300):\n",
    "    \n",
    "    N_popul = pop.popul.to_numpy()          \n",
    "    N_munic = len(N_popul)                 \n",
    "    SIR = np.zeros(shape=(N_munic, 3)) \n",
    "    SIR[:,0] = N_popul                      \n",
    "    SIR[:, 0] = SIR[:, 0] - first_infections\n",
    "    SIR[:, 1] = SIR[:, 1] + first_infections     # infikovani presunuti do I skupiny\n",
    "    row_sums = SIR.sum(axis=1)\n",
    "    SIR_n = SIR / row_sums[:, np.newaxis]\n",
    "    gamma_vec = np.full(N_munic, gamma)\n",
    "    SIR_sim = SIR.copy()\n",
    "    SIR_nsim = SIR_n.copy()\n",
    "    \n",
    "    ## Prebiehame simulaciu\n",
    "    infected_pop_norm = []\n",
    "    susceptible_pop_norm = []\n",
    "    recovered_pop_norm = []\n",
    "    SIR_sim_arr=np.zeros((SIR_sim.shape[0],SIR_sim.shape[1],T))\n",
    "     \n",
    "    print('Average beta: ', np.round(np.average(beta_list),3))\n",
    "    \n",
    "    SIR_sim_arr=np.zeros((locs_len,3,T))\n",
    "    w=0\n",
    "    for time_step in tqdm_notebook(range(T)):\n",
    "    #for time_step in tqdm.notebook.tqdm(range(T)):\n",
    "        \n",
    "        alpha = alpha_vec[w]\n",
    "        #print('Alpha draw:', alpha)\n",
    "        ## Transmission rate je na kazdu obec ina, prvotne data su z gamma distribucie\n",
    "        beta_vec = np.array(sample(beta_list,locs_len))*R0_correction_demogr\n",
    "        # Matice infekcii\n",
    "        \n",
    "        y = SIR_sim[:,0] / N_popul\n",
    "        x = SIR_sim[:,1] / N_popul\n",
    "               \n",
    "        ## Clen 1\n",
    "        outside_work = beta_vec * SIR_sim[:,0] * SIR_sim[:, 1] / N_popul\n",
    "        \n",
    "        ## Clen 2\n",
    "        # Define the second term\n",
    "        during_work1 = np.zeros(N_munic) # Second term in the sum\n",
    "        num_2 = np.zeros(N_munic) # Just to keep the code legible\n",
    "        denominator_t = N_popul  + OD.sum(axis = 1) - OD.sum(axis = 0)\n",
    "        num_2=  (SIR_sim[:,0] -y*OD.sum(0))*( np.sum(OD*(x*beta_vec),1)+ (SIR_sim[:,1] - x * OD.sum(0))*beta_vec  )\n",
    "        ## Clen 3\n",
    "        during_work1 = num_2/denominator_t\n",
    "        numerator_t = np.zeros(N_munic)\n",
    "        numerator_t = ((SIR_sim[:,1]-x*OD.sum(0))*beta_vec + np.sum(OD*beta_vec*x,1))\n",
    "\n",
    "        during_work2 = np.zeros(N_munic)\n",
    "        during_work2 = y * np.sum(OD.transpose()*numerator_t/denominator_t,1)\n",
    "              \n",
    "        total_new_infect = tau*outside_work + alpha*(1-tau)*during_work1 + alpha*(1-tau)*during_work2      \n",
    "        ## Nemoze byt viac infikovanych ako susceptible\n",
    "        total_new_infect = np.where(total_new_infect>SIR_sim[:, 0], SIR_sim[:, 0], total_new_infect)\n",
    "         \n",
    "        # Vylieceni\n",
    "        new_recovered = gamma_vec*SIR_sim[:, 1]\n",
    "        \n",
    "        ## Novoinfikovani odchadzaju z kategorie S\n",
    "        SIR_sim[:, 0] = SIR_sim[:, 0] - total_new_infect\n",
    "        ## Novoinfikovani prichadzaju do kategorie I a z nej odchadzaju vylieceni\n",
    "        SIR_sim[:, 1] = SIR_sim[:, 1] + total_new_infect - new_recovered\n",
    "        ## Vylieceni prichadzaju do kat. R\n",
    "        SIR_sim[:, 2] = SIR_sim[:, 2] + new_recovered\n",
    "        SIR_sim = np.where(SIR_sim<0,0,SIR_sim)\n",
    "        \n",
    "        # Normalizacia\n",
    "        row_sums = SIR_sim.sum(axis=1)\n",
    "        SIR_nsim = SIR_sim / row_sums[:, np.newaxis]\n",
    "        #SIR_sim_arr[:,:,j]=SIR_sim\n",
    "\n",
    "        SIR_sim_arr[:,:,w]=SIR_sim\n",
    "        w=w+1\n",
    "        S = SIR_sim[:,0].sum()/N_popul.sum()\n",
    "        I = SIR_sim[:,1].sum()/N_popul.sum()\n",
    "        R = SIR_sim[:,2].sum()/N_popul.sum()\n",
    "        infected_pop_norm.append(I)\n",
    "        susceptible_pop_norm.append(S)\n",
    "        recovered_pop_norm.append(R)\n",
    "    ## Vytvorenie konecnej maticu\n",
    "    res = pd.DataFrame(list(zip(infected_pop_norm, susceptible_pop_norm, recovered_pop_norm)), columns = ['inf','sus','rec'])\n",
    "    return res,SIR_sim_arr"
   ]
  },
  {
   "cell_type": "code",
   "execution_count": 113,
   "metadata": {
    "scrolled": false
   },
   "outputs": [
    {
     "name": "stdout",
     "output_type": "stream",
     "text": [
      "sim:0\n",
      "Average beta:  0.24\n"
     ]
    },
    {
     "data": {
      "application/vnd.jupyter.widget-view+json": {
       "model_id": "60e858c9a7ed47d4aa05c762af95aa93",
       "version_major": 2,
       "version_minor": 0
      },
      "text/html": [
       "<p>Failed to display Jupyter Widget of type <code>HBox</code>.</p>\n",
       "<p>\n",
       "  If you're reading this message in the Jupyter Notebook or JupyterLab Notebook, it may mean\n",
       "  that the widgets JavaScript is still loading. If this message persists, it\n",
       "  likely means that the widgets JavaScript library is either not installed or\n",
       "  not enabled. See the <a href=\"https://ipywidgets.readthedocs.io/en/stable/user_install.html\">Jupyter\n",
       "  Widgets Documentation</a> for setup instructions.\n",
       "</p>\n",
       "<p>\n",
       "  If you're reading this message in another frontend (for example, a static\n",
       "  rendering on GitHub or <a href=\"https://nbviewer.jupyter.org/\">NBViewer</a>),\n",
       "  it may mean that your frontend doesn't currently support widgets.\n",
       "</p>\n"
      ],
      "text/plain": [
       "HBox(children=(IntProgress(value=0, max=300), HTML(value='')))"
      ]
     },
     "metadata": {},
     "output_type": "display_data"
    },
    {
     "name": "stdout",
     "output_type": "stream",
     "text": [
      "\n",
      "Average beta:  0.24\n"
     ]
    },
    {
     "data": {
      "application/vnd.jupyter.widget-view+json": {
       "model_id": "661190161ebb44538dba0f0207f5064e",
       "version_major": 2,
       "version_minor": 0
      },
      "text/html": [
       "<p>Failed to display Jupyter Widget of type <code>HBox</code>.</p>\n",
       "<p>\n",
       "  If you're reading this message in the Jupyter Notebook or JupyterLab Notebook, it may mean\n",
       "  that the widgets JavaScript is still loading. If this message persists, it\n",
       "  likely means that the widgets JavaScript library is either not installed or\n",
       "  not enabled. See the <a href=\"https://ipywidgets.readthedocs.io/en/stable/user_install.html\">Jupyter\n",
       "  Widgets Documentation</a> for setup instructions.\n",
       "</p>\n",
       "<p>\n",
       "  If you're reading this message in another frontend (for example, a static\n",
       "  rendering on GitHub or <a href=\"https://nbviewer.jupyter.org/\">NBViewer</a>),\n",
       "  it may mean that your frontend doesn't currently support widgets.\n",
       "</p>\n"
      ],
      "text/plain": [
       "HBox(children=(IntProgress(value=0, max=300), HTML(value='')))"
      ]
     },
     "metadata": {},
     "output_type": "display_data"
    },
    {
     "name": "stdout",
     "output_type": "stream",
     "text": [
      "\n",
      "Average beta:  0.2\n"
     ]
    },
    {
     "data": {
      "application/vnd.jupyter.widget-view+json": {
       "model_id": "04e37b06105a4955aa6083db2aed8681",
       "version_major": 2,
       "version_minor": 0
      },
      "text/html": [
       "<p>Failed to display Jupyter Widget of type <code>HBox</code>.</p>\n",
       "<p>\n",
       "  If you're reading this message in the Jupyter Notebook or JupyterLab Notebook, it may mean\n",
       "  that the widgets JavaScript is still loading. If this message persists, it\n",
       "  likely means that the widgets JavaScript library is either not installed or\n",
       "  not enabled. See the <a href=\"https://ipywidgets.readthedocs.io/en/stable/user_install.html\">Jupyter\n",
       "  Widgets Documentation</a> for setup instructions.\n",
       "</p>\n",
       "<p>\n",
       "  If you're reading this message in another frontend (for example, a static\n",
       "  rendering on GitHub or <a href=\"https://nbviewer.jupyter.org/\">NBViewer</a>),\n",
       "  it may mean that your frontend doesn't currently support widgets.\n",
       "</p>\n"
      ],
      "text/plain": [
       "HBox(children=(IntProgress(value=0, max=300), HTML(value='')))"
      ]
     },
     "metadata": {},
     "output_type": "display_data"
    },
    {
     "name": "stdout",
     "output_type": "stream",
     "text": [
      "\n",
      "Average beta:  0.165\n"
     ]
    },
    {
     "data": {
      "application/vnd.jupyter.widget-view+json": {
       "model_id": "63d1b41c1cd6466eba0f6a6f94d4cb4c",
       "version_major": 2,
       "version_minor": 0
      },
      "text/html": [
       "<p>Failed to display Jupyter Widget of type <code>HBox</code>.</p>\n",
       "<p>\n",
       "  If you're reading this message in the Jupyter Notebook or JupyterLab Notebook, it may mean\n",
       "  that the widgets JavaScript is still loading. If this message persists, it\n",
       "  likely means that the widgets JavaScript library is either not installed or\n",
       "  not enabled. See the <a href=\"https://ipywidgets.readthedocs.io/en/stable/user_install.html\">Jupyter\n",
       "  Widgets Documentation</a> for setup instructions.\n",
       "</p>\n",
       "<p>\n",
       "  If you're reading this message in another frontend (for example, a static\n",
       "  rendering on GitHub or <a href=\"https://nbviewer.jupyter.org/\">NBViewer</a>),\n",
       "  it may mean that your frontend doesn't currently support widgets.\n",
       "</p>\n"
      ],
      "text/plain": [
       "HBox(children=(IntProgress(value=0, max=300), HTML(value='')))"
      ]
     },
     "metadata": {},
     "output_type": "display_data"
    },
    {
     "name": "stdout",
     "output_type": "stream",
     "text": [
      "\n",
      "Average beta:  0.14\n"
     ]
    },
    {
     "data": {
      "application/vnd.jupyter.widget-view+json": {
       "model_id": "943c07357646459db117a0cea3195c31",
       "version_major": 2,
       "version_minor": 0
      },
      "text/html": [
       "<p>Failed to display Jupyter Widget of type <code>HBox</code>.</p>\n",
       "<p>\n",
       "  If you're reading this message in the Jupyter Notebook or JupyterLab Notebook, it may mean\n",
       "  that the widgets JavaScript is still loading. If this message persists, it\n",
       "  likely means that the widgets JavaScript library is either not installed or\n",
       "  not enabled. See the <a href=\"https://ipywidgets.readthedocs.io/en/stable/user_install.html\">Jupyter\n",
       "  Widgets Documentation</a> for setup instructions.\n",
       "</p>\n",
       "<p>\n",
       "  If you're reading this message in another frontend (for example, a static\n",
       "  rendering on GitHub or <a href=\"https://nbviewer.jupyter.org/\">NBViewer</a>),\n",
       "  it may mean that your frontend doesn't currently support widgets.\n",
       "</p>\n"
      ],
      "text/plain": [
       "HBox(children=(IntProgress(value=0, max=300), HTML(value='')))"
      ]
     },
     "metadata": {},
     "output_type": "display_data"
    },
    {
     "name": "stdout",
     "output_type": "stream",
     "text": [
      "\n",
      "Average beta:  0.12\n"
     ]
    },
    {
     "data": {
      "application/vnd.jupyter.widget-view+json": {
       "model_id": "48f9bbc4173b4bba8e177204eb4a3e2d",
       "version_major": 2,
       "version_minor": 0
      },
      "text/html": [
       "<p>Failed to display Jupyter Widget of type <code>HBox</code>.</p>\n",
       "<p>\n",
       "  If you're reading this message in the Jupyter Notebook or JupyterLab Notebook, it may mean\n",
       "  that the widgets JavaScript is still loading. If this message persists, it\n",
       "  likely means that the widgets JavaScript library is either not installed or\n",
       "  not enabled. See the <a href=\"https://ipywidgets.readthedocs.io/en/stable/user_install.html\">Jupyter\n",
       "  Widgets Documentation</a> for setup instructions.\n",
       "</p>\n",
       "<p>\n",
       "  If you're reading this message in another frontend (for example, a static\n",
       "  rendering on GitHub or <a href=\"https://nbviewer.jupyter.org/\">NBViewer</a>),\n",
       "  it may mean that your frontend doesn't currently support widgets.\n",
       "</p>\n"
      ],
      "text/plain": [
       "HBox(children=(IntProgress(value=0, max=300), HTML(value='')))"
      ]
     },
     "metadata": {},
     "output_type": "display_data"
    },
    {
     "name": "stdout",
     "output_type": "stream",
     "text": [
      "\n",
      "sim:1\n",
      "Average beta:  0.24\n"
     ]
    },
    {
     "data": {
      "application/vnd.jupyter.widget-view+json": {
       "model_id": "6574afa36658431f92e85352c5a6cda5",
       "version_major": 2,
       "version_minor": 0
      },
      "text/html": [
       "<p>Failed to display Jupyter Widget of type <code>HBox</code>.</p>\n",
       "<p>\n",
       "  If you're reading this message in the Jupyter Notebook or JupyterLab Notebook, it may mean\n",
       "  that the widgets JavaScript is still loading. If this message persists, it\n",
       "  likely means that the widgets JavaScript library is either not installed or\n",
       "  not enabled. See the <a href=\"https://ipywidgets.readthedocs.io/en/stable/user_install.html\">Jupyter\n",
       "  Widgets Documentation</a> for setup instructions.\n",
       "</p>\n",
       "<p>\n",
       "  If you're reading this message in another frontend (for example, a static\n",
       "  rendering on GitHub or <a href=\"https://nbviewer.jupyter.org/\">NBViewer</a>),\n",
       "  it may mean that your frontend doesn't currently support widgets.\n",
       "</p>\n"
      ],
      "text/plain": [
       "HBox(children=(IntProgress(value=0, max=300), HTML(value='')))"
      ]
     },
     "metadata": {},
     "output_type": "display_data"
    },
    {
     "name": "stdout",
     "output_type": "stream",
     "text": [
      "\n",
      "Average beta:  0.24\n"
     ]
    },
    {
     "data": {
      "application/vnd.jupyter.widget-view+json": {
       "model_id": "ff2c2742ff1c4e0697bd408b8ef546ad",
       "version_major": 2,
       "version_minor": 0
      },
      "text/html": [
       "<p>Failed to display Jupyter Widget of type <code>HBox</code>.</p>\n",
       "<p>\n",
       "  If you're reading this message in the Jupyter Notebook or JupyterLab Notebook, it may mean\n",
       "  that the widgets JavaScript is still loading. If this message persists, it\n",
       "  likely means that the widgets JavaScript library is either not installed or\n",
       "  not enabled. See the <a href=\"https://ipywidgets.readthedocs.io/en/stable/user_install.html\">Jupyter\n",
       "  Widgets Documentation</a> for setup instructions.\n",
       "</p>\n",
       "<p>\n",
       "  If you're reading this message in another frontend (for example, a static\n",
       "  rendering on GitHub or <a href=\"https://nbviewer.jupyter.org/\">NBViewer</a>),\n",
       "  it may mean that your frontend doesn't currently support widgets.\n",
       "</p>\n"
      ],
      "text/plain": [
       "HBox(children=(IntProgress(value=0, max=300), HTML(value='')))"
      ]
     },
     "metadata": {},
     "output_type": "display_data"
    },
    {
     "name": "stdout",
     "output_type": "stream",
     "text": [
      "\n",
      "Average beta:  0.2\n"
     ]
    },
    {
     "data": {
      "application/vnd.jupyter.widget-view+json": {
       "model_id": "92826df78c93432ca2a21c02818b9d75",
       "version_major": 2,
       "version_minor": 0
      },
      "text/html": [
       "<p>Failed to display Jupyter Widget of type <code>HBox</code>.</p>\n",
       "<p>\n",
       "  If you're reading this message in the Jupyter Notebook or JupyterLab Notebook, it may mean\n",
       "  that the widgets JavaScript is still loading. If this message persists, it\n",
       "  likely means that the widgets JavaScript library is either not installed or\n",
       "  not enabled. See the <a href=\"https://ipywidgets.readthedocs.io/en/stable/user_install.html\">Jupyter\n",
       "  Widgets Documentation</a> for setup instructions.\n",
       "</p>\n",
       "<p>\n",
       "  If you're reading this message in another frontend (for example, a static\n",
       "  rendering on GitHub or <a href=\"https://nbviewer.jupyter.org/\">NBViewer</a>),\n",
       "  it may mean that your frontend doesn't currently support widgets.\n",
       "</p>\n"
      ],
      "text/plain": [
       "HBox(children=(IntProgress(value=0, max=300), HTML(value='')))"
      ]
     },
     "metadata": {},
     "output_type": "display_data"
    },
    {
     "name": "stdout",
     "output_type": "stream",
     "text": [
      "\n",
      "Average beta:  0.165\n"
     ]
    },
    {
     "data": {
      "application/vnd.jupyter.widget-view+json": {
       "model_id": "a647d56a233341fcb629b6dccda6d550",
       "version_major": 2,
       "version_minor": 0
      },
      "text/html": [
       "<p>Failed to display Jupyter Widget of type <code>HBox</code>.</p>\n",
       "<p>\n",
       "  If you're reading this message in the Jupyter Notebook or JupyterLab Notebook, it may mean\n",
       "  that the widgets JavaScript is still loading. If this message persists, it\n",
       "  likely means that the widgets JavaScript library is either not installed or\n",
       "  not enabled. See the <a href=\"https://ipywidgets.readthedocs.io/en/stable/user_install.html\">Jupyter\n",
       "  Widgets Documentation</a> for setup instructions.\n",
       "</p>\n",
       "<p>\n",
       "  If you're reading this message in another frontend (for example, a static\n",
       "  rendering on GitHub or <a href=\"https://nbviewer.jupyter.org/\">NBViewer</a>),\n",
       "  it may mean that your frontend doesn't currently support widgets.\n",
       "</p>\n"
      ],
      "text/plain": [
       "HBox(children=(IntProgress(value=0, max=300), HTML(value='')))"
      ]
     },
     "metadata": {},
     "output_type": "display_data"
    },
    {
     "name": "stdout",
     "output_type": "stream",
     "text": [
      "\n",
      "Average beta:  0.14\n"
     ]
    },
    {
     "data": {
      "application/vnd.jupyter.widget-view+json": {
       "model_id": "5a330d0cc2284c3086eac64e49dcba99",
       "version_major": 2,
       "version_minor": 0
      },
      "text/html": [
       "<p>Failed to display Jupyter Widget of type <code>HBox</code>.</p>\n",
       "<p>\n",
       "  If you're reading this message in the Jupyter Notebook or JupyterLab Notebook, it may mean\n",
       "  that the widgets JavaScript is still loading. If this message persists, it\n",
       "  likely means that the widgets JavaScript library is either not installed or\n",
       "  not enabled. See the <a href=\"https://ipywidgets.readthedocs.io/en/stable/user_install.html\">Jupyter\n",
       "  Widgets Documentation</a> for setup instructions.\n",
       "</p>\n",
       "<p>\n",
       "  If you're reading this message in another frontend (for example, a static\n",
       "  rendering on GitHub or <a href=\"https://nbviewer.jupyter.org/\">NBViewer</a>),\n",
       "  it may mean that your frontend doesn't currently support widgets.\n",
       "</p>\n"
      ],
      "text/plain": [
       "HBox(children=(IntProgress(value=0, max=300), HTML(value='')))"
      ]
     },
     "metadata": {},
     "output_type": "display_data"
    },
    {
     "name": "stdout",
     "output_type": "stream",
     "text": [
      "\n",
      "Average beta:  0.12\n"
     ]
    },
    {
     "data": {
      "application/vnd.jupyter.widget-view+json": {
       "model_id": "bfcd9382f5d74d2a99e003d6e0a2f9a8",
       "version_major": 2,
       "version_minor": 0
      },
      "text/html": [
       "<p>Failed to display Jupyter Widget of type <code>HBox</code>.</p>\n",
       "<p>\n",
       "  If you're reading this message in the Jupyter Notebook or JupyterLab Notebook, it may mean\n",
       "  that the widgets JavaScript is still loading. If this message persists, it\n",
       "  likely means that the widgets JavaScript library is either not installed or\n",
       "  not enabled. See the <a href=\"https://ipywidgets.readthedocs.io/en/stable/user_install.html\">Jupyter\n",
       "  Widgets Documentation</a> for setup instructions.\n",
       "</p>\n",
       "<p>\n",
       "  If you're reading this message in another frontend (for example, a static\n",
       "  rendering on GitHub or <a href=\"https://nbviewer.jupyter.org/\">NBViewer</a>),\n",
       "  it may mean that your frontend doesn't currently support widgets.\n",
       "</p>\n"
      ],
      "text/plain": [
       "HBox(children=(IntProgress(value=0, max=300), HTML(value='')))"
      ]
     },
     "metadata": {},
     "output_type": "display_data"
    },
    {
     "name": "stdout",
     "output_type": "stream",
     "text": [
      "\n",
      "sim:2\n",
      "Average beta:  0.24\n"
     ]
    },
    {
     "data": {
      "application/vnd.jupyter.widget-view+json": {
       "model_id": "42757eee36f64e90bbbdc7a1f39dc5a1",
       "version_major": 2,
       "version_minor": 0
      },
      "text/html": [
       "<p>Failed to display Jupyter Widget of type <code>HBox</code>.</p>\n",
       "<p>\n",
       "  If you're reading this message in the Jupyter Notebook or JupyterLab Notebook, it may mean\n",
       "  that the widgets JavaScript is still loading. If this message persists, it\n",
       "  likely means that the widgets JavaScript library is either not installed or\n",
       "  not enabled. See the <a href=\"https://ipywidgets.readthedocs.io/en/stable/user_install.html\">Jupyter\n",
       "  Widgets Documentation</a> for setup instructions.\n",
       "</p>\n",
       "<p>\n",
       "  If you're reading this message in another frontend (for example, a static\n",
       "  rendering on GitHub or <a href=\"https://nbviewer.jupyter.org/\">NBViewer</a>),\n",
       "  it may mean that your frontend doesn't currently support widgets.\n",
       "</p>\n"
      ],
      "text/plain": [
       "HBox(children=(IntProgress(value=0, max=300), HTML(value='')))"
      ]
     },
     "metadata": {},
     "output_type": "display_data"
    },
    {
     "name": "stdout",
     "output_type": "stream",
     "text": [
      "\n",
      "Average beta:  0.24\n"
     ]
    },
    {
     "data": {
      "application/vnd.jupyter.widget-view+json": {
       "model_id": "f778bb344a844853aacc87ee5a999006",
       "version_major": 2,
       "version_minor": 0
      },
      "text/html": [
       "<p>Failed to display Jupyter Widget of type <code>HBox</code>.</p>\n",
       "<p>\n",
       "  If you're reading this message in the Jupyter Notebook or JupyterLab Notebook, it may mean\n",
       "  that the widgets JavaScript is still loading. If this message persists, it\n",
       "  likely means that the widgets JavaScript library is either not installed or\n",
       "  not enabled. See the <a href=\"https://ipywidgets.readthedocs.io/en/stable/user_install.html\">Jupyter\n",
       "  Widgets Documentation</a> for setup instructions.\n",
       "</p>\n",
       "<p>\n",
       "  If you're reading this message in another frontend (for example, a static\n",
       "  rendering on GitHub or <a href=\"https://nbviewer.jupyter.org/\">NBViewer</a>),\n",
       "  it may mean that your frontend doesn't currently support widgets.\n",
       "</p>\n"
      ],
      "text/plain": [
       "HBox(children=(IntProgress(value=0, max=300), HTML(value='')))"
      ]
     },
     "metadata": {},
     "output_type": "display_data"
    },
    {
     "name": "stdout",
     "output_type": "stream",
     "text": [
      "\n",
      "Average beta:  0.2\n"
     ]
    },
    {
     "data": {
      "application/vnd.jupyter.widget-view+json": {
       "model_id": "947b1bd357ff4b5a84d8caff2ab90b27",
       "version_major": 2,
       "version_minor": 0
      },
      "text/html": [
       "<p>Failed to display Jupyter Widget of type <code>HBox</code>.</p>\n",
       "<p>\n",
       "  If you're reading this message in the Jupyter Notebook or JupyterLab Notebook, it may mean\n",
       "  that the widgets JavaScript is still loading. If this message persists, it\n",
       "  likely means that the widgets JavaScript library is either not installed or\n",
       "  not enabled. See the <a href=\"https://ipywidgets.readthedocs.io/en/stable/user_install.html\">Jupyter\n",
       "  Widgets Documentation</a> for setup instructions.\n",
       "</p>\n",
       "<p>\n",
       "  If you're reading this message in another frontend (for example, a static\n",
       "  rendering on GitHub or <a href=\"https://nbviewer.jupyter.org/\">NBViewer</a>),\n",
       "  it may mean that your frontend doesn't currently support widgets.\n",
       "</p>\n"
      ],
      "text/plain": [
       "HBox(children=(IntProgress(value=0, max=300), HTML(value='')))"
      ]
     },
     "metadata": {},
     "output_type": "display_data"
    },
    {
     "name": "stdout",
     "output_type": "stream",
     "text": [
      "\n",
      "Average beta:  0.165\n"
     ]
    },
    {
     "data": {
      "application/vnd.jupyter.widget-view+json": {
       "model_id": "289003e7c89242f8aa70076af2f2686d",
       "version_major": 2,
       "version_minor": 0
      },
      "text/html": [
       "<p>Failed to display Jupyter Widget of type <code>HBox</code>.</p>\n",
       "<p>\n",
       "  If you're reading this message in the Jupyter Notebook or JupyterLab Notebook, it may mean\n",
       "  that the widgets JavaScript is still loading. If this message persists, it\n",
       "  likely means that the widgets JavaScript library is either not installed or\n",
       "  not enabled. See the <a href=\"https://ipywidgets.readthedocs.io/en/stable/user_install.html\">Jupyter\n",
       "  Widgets Documentation</a> for setup instructions.\n",
       "</p>\n",
       "<p>\n",
       "  If you're reading this message in another frontend (for example, a static\n",
       "  rendering on GitHub or <a href=\"https://nbviewer.jupyter.org/\">NBViewer</a>),\n",
       "  it may mean that your frontend doesn't currently support widgets.\n",
       "</p>\n"
      ],
      "text/plain": [
       "HBox(children=(IntProgress(value=0, max=300), HTML(value='')))"
      ]
     },
     "metadata": {},
     "output_type": "display_data"
    },
    {
     "name": "stdout",
     "output_type": "stream",
     "text": [
      "\n",
      "Average beta:  0.14\n"
     ]
    },
    {
     "data": {
      "application/vnd.jupyter.widget-view+json": {
       "model_id": "bbb14f7c42ae4cf58d8d8511c8f86e55",
       "version_major": 2,
       "version_minor": 0
      },
      "text/html": [
       "<p>Failed to display Jupyter Widget of type <code>HBox</code>.</p>\n",
       "<p>\n",
       "  If you're reading this message in the Jupyter Notebook or JupyterLab Notebook, it may mean\n",
       "  that the widgets JavaScript is still loading. If this message persists, it\n",
       "  likely means that the widgets JavaScript library is either not installed or\n",
       "  not enabled. See the <a href=\"https://ipywidgets.readthedocs.io/en/stable/user_install.html\">Jupyter\n",
       "  Widgets Documentation</a> for setup instructions.\n",
       "</p>\n",
       "<p>\n",
       "  If you're reading this message in another frontend (for example, a static\n",
       "  rendering on GitHub or <a href=\"https://nbviewer.jupyter.org/\">NBViewer</a>),\n",
       "  it may mean that your frontend doesn't currently support widgets.\n",
       "</p>\n"
      ],
      "text/plain": [
       "HBox(children=(IntProgress(value=0, max=300), HTML(value='')))"
      ]
     },
     "metadata": {},
     "output_type": "display_data"
    },
    {
     "name": "stdout",
     "output_type": "stream",
     "text": [
      "\n",
      "Average beta:  0.12\n"
     ]
    },
    {
     "data": {
      "application/vnd.jupyter.widget-view+json": {
       "model_id": "08bc2c0e90a3435b8b36134c63606480",
       "version_major": 2,
       "version_minor": 0
      },
      "text/html": [
       "<p>Failed to display Jupyter Widget of type <code>HBox</code>.</p>\n",
       "<p>\n",
       "  If you're reading this message in the Jupyter Notebook or JupyterLab Notebook, it may mean\n",
       "  that the widgets JavaScript is still loading. If this message persists, it\n",
       "  likely means that the widgets JavaScript library is either not installed or\n",
       "  not enabled. See the <a href=\"https://ipywidgets.readthedocs.io/en/stable/user_install.html\">Jupyter\n",
       "  Widgets Documentation</a> for setup instructions.\n",
       "</p>\n",
       "<p>\n",
       "  If you're reading this message in another frontend (for example, a static\n",
       "  rendering on GitHub or <a href=\"https://nbviewer.jupyter.org/\">NBViewer</a>),\n",
       "  it may mean that your frontend doesn't currently support widgets.\n",
       "</p>\n"
      ],
      "text/plain": [
       "HBox(children=(IntProgress(value=0, max=300), HTML(value='')))"
      ]
     },
     "metadata": {},
     "output_type": "display_data"
    },
    {
     "name": "stdout",
     "output_type": "stream",
     "text": [
      "\n",
      "sim:3\n",
      "Average beta:  0.24\n"
     ]
    },
    {
     "data": {
      "application/vnd.jupyter.widget-view+json": {
       "model_id": "82096fffad4946f8855776d085c62d02",
       "version_major": 2,
       "version_minor": 0
      },
      "text/html": [
       "<p>Failed to display Jupyter Widget of type <code>HBox</code>.</p>\n",
       "<p>\n",
       "  If you're reading this message in the Jupyter Notebook or JupyterLab Notebook, it may mean\n",
       "  that the widgets JavaScript is still loading. If this message persists, it\n",
       "  likely means that the widgets JavaScript library is either not installed or\n",
       "  not enabled. See the <a href=\"https://ipywidgets.readthedocs.io/en/stable/user_install.html\">Jupyter\n",
       "  Widgets Documentation</a> for setup instructions.\n",
       "</p>\n",
       "<p>\n",
       "  If you're reading this message in another frontend (for example, a static\n",
       "  rendering on GitHub or <a href=\"https://nbviewer.jupyter.org/\">NBViewer</a>),\n",
       "  it may mean that your frontend doesn't currently support widgets.\n",
       "</p>\n"
      ],
      "text/plain": [
       "HBox(children=(IntProgress(value=0, max=300), HTML(value='')))"
      ]
     },
     "metadata": {},
     "output_type": "display_data"
    },
    {
     "name": "stdout",
     "output_type": "stream",
     "text": [
      "\n",
      "Average beta:  0.24\n"
     ]
    },
    {
     "data": {
      "application/vnd.jupyter.widget-view+json": {
       "model_id": "0eeaaebd4b91406ab85b00cf8ee9d5dc",
       "version_major": 2,
       "version_minor": 0
      },
      "text/html": [
       "<p>Failed to display Jupyter Widget of type <code>HBox</code>.</p>\n",
       "<p>\n",
       "  If you're reading this message in the Jupyter Notebook or JupyterLab Notebook, it may mean\n",
       "  that the widgets JavaScript is still loading. If this message persists, it\n",
       "  likely means that the widgets JavaScript library is either not installed or\n",
       "  not enabled. See the <a href=\"https://ipywidgets.readthedocs.io/en/stable/user_install.html\">Jupyter\n",
       "  Widgets Documentation</a> for setup instructions.\n",
       "</p>\n",
       "<p>\n",
       "  If you're reading this message in another frontend (for example, a static\n",
       "  rendering on GitHub or <a href=\"https://nbviewer.jupyter.org/\">NBViewer</a>),\n",
       "  it may mean that your frontend doesn't currently support widgets.\n",
       "</p>\n"
      ],
      "text/plain": [
       "HBox(children=(IntProgress(value=0, max=300), HTML(value='')))"
      ]
     },
     "metadata": {},
     "output_type": "display_data"
    },
    {
     "name": "stdout",
     "output_type": "stream",
     "text": [
      "\n",
      "Average beta:  0.2\n"
     ]
    },
    {
     "data": {
      "application/vnd.jupyter.widget-view+json": {
       "model_id": "d68cfaba8e504e36b4b76a3dc7106aa7",
       "version_major": 2,
       "version_minor": 0
      },
      "text/html": [
       "<p>Failed to display Jupyter Widget of type <code>HBox</code>.</p>\n",
       "<p>\n",
       "  If you're reading this message in the Jupyter Notebook or JupyterLab Notebook, it may mean\n",
       "  that the widgets JavaScript is still loading. If this message persists, it\n",
       "  likely means that the widgets JavaScript library is either not installed or\n",
       "  not enabled. See the <a href=\"https://ipywidgets.readthedocs.io/en/stable/user_install.html\">Jupyter\n",
       "  Widgets Documentation</a> for setup instructions.\n",
       "</p>\n",
       "<p>\n",
       "  If you're reading this message in another frontend (for example, a static\n",
       "  rendering on GitHub or <a href=\"https://nbviewer.jupyter.org/\">NBViewer</a>),\n",
       "  it may mean that your frontend doesn't currently support widgets.\n",
       "</p>\n"
      ],
      "text/plain": [
       "HBox(children=(IntProgress(value=0, max=300), HTML(value='')))"
      ]
     },
     "metadata": {},
     "output_type": "display_data"
    },
    {
     "name": "stdout",
     "output_type": "stream",
     "text": [
      "\n",
      "Average beta:  0.165\n"
     ]
    },
    {
     "data": {
      "application/vnd.jupyter.widget-view+json": {
       "model_id": "609ed245a0324960bd5a0246bc51abfc",
       "version_major": 2,
       "version_minor": 0
      },
      "text/html": [
       "<p>Failed to display Jupyter Widget of type <code>HBox</code>.</p>\n",
       "<p>\n",
       "  If you're reading this message in the Jupyter Notebook or JupyterLab Notebook, it may mean\n",
       "  that the widgets JavaScript is still loading. If this message persists, it\n",
       "  likely means that the widgets JavaScript library is either not installed or\n",
       "  not enabled. See the <a href=\"https://ipywidgets.readthedocs.io/en/stable/user_install.html\">Jupyter\n",
       "  Widgets Documentation</a> for setup instructions.\n",
       "</p>\n",
       "<p>\n",
       "  If you're reading this message in another frontend (for example, a static\n",
       "  rendering on GitHub or <a href=\"https://nbviewer.jupyter.org/\">NBViewer</a>),\n",
       "  it may mean that your frontend doesn't currently support widgets.\n",
       "</p>\n"
      ],
      "text/plain": [
       "HBox(children=(IntProgress(value=0, max=300), HTML(value='')))"
      ]
     },
     "metadata": {},
     "output_type": "display_data"
    },
    {
     "name": "stdout",
     "output_type": "stream",
     "text": [
      "\n",
      "Average beta:  0.14\n"
     ]
    },
    {
     "data": {
      "application/vnd.jupyter.widget-view+json": {
       "model_id": "172351034b1e4dbb957032a7a2a6f29d",
       "version_major": 2,
       "version_minor": 0
      },
      "text/html": [
       "<p>Failed to display Jupyter Widget of type <code>HBox</code>.</p>\n",
       "<p>\n",
       "  If you're reading this message in the Jupyter Notebook or JupyterLab Notebook, it may mean\n",
       "  that the widgets JavaScript is still loading. If this message persists, it\n",
       "  likely means that the widgets JavaScript library is either not installed or\n",
       "  not enabled. See the <a href=\"https://ipywidgets.readthedocs.io/en/stable/user_install.html\">Jupyter\n",
       "  Widgets Documentation</a> for setup instructions.\n",
       "</p>\n",
       "<p>\n",
       "  If you're reading this message in another frontend (for example, a static\n",
       "  rendering on GitHub or <a href=\"https://nbviewer.jupyter.org/\">NBViewer</a>),\n",
       "  it may mean that your frontend doesn't currently support widgets.\n",
       "</p>\n"
      ],
      "text/plain": [
       "HBox(children=(IntProgress(value=0, max=300), HTML(value='')))"
      ]
     },
     "metadata": {},
     "output_type": "display_data"
    },
    {
     "name": "stdout",
     "output_type": "stream",
     "text": [
      "\n",
      "Average beta:  0.12\n"
     ]
    },
    {
     "data": {
      "application/vnd.jupyter.widget-view+json": {
       "model_id": "4c842bfcbf7d4de796ea330acd1bd215",
       "version_major": 2,
       "version_minor": 0
      },
      "text/html": [
       "<p>Failed to display Jupyter Widget of type <code>HBox</code>.</p>\n",
       "<p>\n",
       "  If you're reading this message in the Jupyter Notebook or JupyterLab Notebook, it may mean\n",
       "  that the widgets JavaScript is still loading. If this message persists, it\n",
       "  likely means that the widgets JavaScript library is either not installed or\n",
       "  not enabled. See the <a href=\"https://ipywidgets.readthedocs.io/en/stable/user_install.html\">Jupyter\n",
       "  Widgets Documentation</a> for setup instructions.\n",
       "</p>\n",
       "<p>\n",
       "  If you're reading this message in another frontend (for example, a static\n",
       "  rendering on GitHub or <a href=\"https://nbviewer.jupyter.org/\">NBViewer</a>),\n",
       "  it may mean that your frontend doesn't currently support widgets.\n",
       "</p>\n"
      ],
      "text/plain": [
       "HBox(children=(IntProgress(value=0, max=300), HTML(value='')))"
      ]
     },
     "metadata": {},
     "output_type": "display_data"
    },
    {
     "name": "stdout",
     "output_type": "stream",
     "text": [
      "\n",
      "sim:4\n",
      "Average beta:  0.24\n"
     ]
    },
    {
     "data": {
      "application/vnd.jupyter.widget-view+json": {
       "model_id": "6b2a8f01d7f84a2fbb3925e6ce3cc2fd",
       "version_major": 2,
       "version_minor": 0
      },
      "text/html": [
       "<p>Failed to display Jupyter Widget of type <code>HBox</code>.</p>\n",
       "<p>\n",
       "  If you're reading this message in the Jupyter Notebook or JupyterLab Notebook, it may mean\n",
       "  that the widgets JavaScript is still loading. If this message persists, it\n",
       "  likely means that the widgets JavaScript library is either not installed or\n",
       "  not enabled. See the <a href=\"https://ipywidgets.readthedocs.io/en/stable/user_install.html\">Jupyter\n",
       "  Widgets Documentation</a> for setup instructions.\n",
       "</p>\n",
       "<p>\n",
       "  If you're reading this message in another frontend (for example, a static\n",
       "  rendering on GitHub or <a href=\"https://nbviewer.jupyter.org/\">NBViewer</a>),\n",
       "  it may mean that your frontend doesn't currently support widgets.\n",
       "</p>\n"
      ],
      "text/plain": [
       "HBox(children=(IntProgress(value=0, max=300), HTML(value='')))"
      ]
     },
     "metadata": {},
     "output_type": "display_data"
    },
    {
     "name": "stdout",
     "output_type": "stream",
     "text": [
      "\n",
      "Average beta:  0.24\n"
     ]
    },
    {
     "data": {
      "application/vnd.jupyter.widget-view+json": {
       "model_id": "0d578e813fcf44dbbe2475d2d400d880",
       "version_major": 2,
       "version_minor": 0
      },
      "text/html": [
       "<p>Failed to display Jupyter Widget of type <code>HBox</code>.</p>\n",
       "<p>\n",
       "  If you're reading this message in the Jupyter Notebook or JupyterLab Notebook, it may mean\n",
       "  that the widgets JavaScript is still loading. If this message persists, it\n",
       "  likely means that the widgets JavaScript library is either not installed or\n",
       "  not enabled. See the <a href=\"https://ipywidgets.readthedocs.io/en/stable/user_install.html\">Jupyter\n",
       "  Widgets Documentation</a> for setup instructions.\n",
       "</p>\n",
       "<p>\n",
       "  If you're reading this message in another frontend (for example, a static\n",
       "  rendering on GitHub or <a href=\"https://nbviewer.jupyter.org/\">NBViewer</a>),\n",
       "  it may mean that your frontend doesn't currently support widgets.\n",
       "</p>\n"
      ],
      "text/plain": [
       "HBox(children=(IntProgress(value=0, max=300), HTML(value='')))"
      ]
     },
     "metadata": {},
     "output_type": "display_data"
    },
    {
     "name": "stdout",
     "output_type": "stream",
     "text": [
      "\n",
      "Average beta:  0.2\n"
     ]
    },
    {
     "data": {
      "application/vnd.jupyter.widget-view+json": {
       "model_id": "15a75481482941a7b7092be8714863a0",
       "version_major": 2,
       "version_minor": 0
      },
      "text/html": [
       "<p>Failed to display Jupyter Widget of type <code>HBox</code>.</p>\n",
       "<p>\n",
       "  If you're reading this message in the Jupyter Notebook or JupyterLab Notebook, it may mean\n",
       "  that the widgets JavaScript is still loading. If this message persists, it\n",
       "  likely means that the widgets JavaScript library is either not installed or\n",
       "  not enabled. See the <a href=\"https://ipywidgets.readthedocs.io/en/stable/user_install.html\">Jupyter\n",
       "  Widgets Documentation</a> for setup instructions.\n",
       "</p>\n",
       "<p>\n",
       "  If you're reading this message in another frontend (for example, a static\n",
       "  rendering on GitHub or <a href=\"https://nbviewer.jupyter.org/\">NBViewer</a>),\n",
       "  it may mean that your frontend doesn't currently support widgets.\n",
       "</p>\n"
      ],
      "text/plain": [
       "HBox(children=(IntProgress(value=0, max=300), HTML(value='')))"
      ]
     },
     "metadata": {},
     "output_type": "display_data"
    },
    {
     "name": "stdout",
     "output_type": "stream",
     "text": [
      "\n",
      "Average beta:  0.165\n"
     ]
    },
    {
     "data": {
      "application/vnd.jupyter.widget-view+json": {
       "model_id": "176506e6155f44d999331078d9b8f202",
       "version_major": 2,
       "version_minor": 0
      },
      "text/html": [
       "<p>Failed to display Jupyter Widget of type <code>HBox</code>.</p>\n",
       "<p>\n",
       "  If you're reading this message in the Jupyter Notebook or JupyterLab Notebook, it may mean\n",
       "  that the widgets JavaScript is still loading. If this message persists, it\n",
       "  likely means that the widgets JavaScript library is either not installed or\n",
       "  not enabled. See the <a href=\"https://ipywidgets.readthedocs.io/en/stable/user_install.html\">Jupyter\n",
       "  Widgets Documentation</a> for setup instructions.\n",
       "</p>\n",
       "<p>\n",
       "  If you're reading this message in another frontend (for example, a static\n",
       "  rendering on GitHub or <a href=\"https://nbviewer.jupyter.org/\">NBViewer</a>),\n",
       "  it may mean that your frontend doesn't currently support widgets.\n",
       "</p>\n"
      ],
      "text/plain": [
       "HBox(children=(IntProgress(value=0, max=300), HTML(value='')))"
      ]
     },
     "metadata": {},
     "output_type": "display_data"
    },
    {
     "name": "stdout",
     "output_type": "stream",
     "text": [
      "\n",
      "Average beta:  0.14\n"
     ]
    },
    {
     "data": {
      "application/vnd.jupyter.widget-view+json": {
       "model_id": "58988ae2ce2c44b081d43edf07b2e306",
       "version_major": 2,
       "version_minor": 0
      },
      "text/html": [
       "<p>Failed to display Jupyter Widget of type <code>HBox</code>.</p>\n",
       "<p>\n",
       "  If you're reading this message in the Jupyter Notebook or JupyterLab Notebook, it may mean\n",
       "  that the widgets JavaScript is still loading. If this message persists, it\n",
       "  likely means that the widgets JavaScript library is either not installed or\n",
       "  not enabled. See the <a href=\"https://ipywidgets.readthedocs.io/en/stable/user_install.html\">Jupyter\n",
       "  Widgets Documentation</a> for setup instructions.\n",
       "</p>\n",
       "<p>\n",
       "  If you're reading this message in another frontend (for example, a static\n",
       "  rendering on GitHub or <a href=\"https://nbviewer.jupyter.org/\">NBViewer</a>),\n",
       "  it may mean that your frontend doesn't currently support widgets.\n",
       "</p>\n"
      ],
      "text/plain": [
       "HBox(children=(IntProgress(value=0, max=300), HTML(value='')))"
      ]
     },
     "metadata": {},
     "output_type": "display_data"
    },
    {
     "name": "stdout",
     "output_type": "stream",
     "text": [
      "\n",
      "Average beta:  0.12\n"
     ]
    },
    {
     "data": {
      "application/vnd.jupyter.widget-view+json": {
       "model_id": "c1af952ddea74e8a971dbf9690d535be",
       "version_major": 2,
       "version_minor": 0
      },
      "text/html": [
       "<p>Failed to display Jupyter Widget of type <code>HBox</code>.</p>\n",
       "<p>\n",
       "  If you're reading this message in the Jupyter Notebook or JupyterLab Notebook, it may mean\n",
       "  that the widgets JavaScript is still loading. If this message persists, it\n",
       "  likely means that the widgets JavaScript library is either not installed or\n",
       "  not enabled. See the <a href=\"https://ipywidgets.readthedocs.io/en/stable/user_install.html\">Jupyter\n",
       "  Widgets Documentation</a> for setup instructions.\n",
       "</p>\n",
       "<p>\n",
       "  If you're reading this message in another frontend (for example, a static\n",
       "  rendering on GitHub or <a href=\"https://nbviewer.jupyter.org/\">NBViewer</a>),\n",
       "  it may mean that your frontend doesn't currently support widgets.\n",
       "</p>\n"
      ],
      "text/plain": [
       "HBox(children=(IntProgress(value=0, max=300), HTML(value='')))"
      ]
     },
     "metadata": {},
     "output_type": "display_data"
    },
    {
     "name": "stdout",
     "output_type": "stream",
     "text": [
      "\n",
      "sim:5\n",
      "Average beta:  0.24\n"
     ]
    },
    {
     "data": {
      "application/vnd.jupyter.widget-view+json": {
       "model_id": "0dbc785688af4134811ee60fd7884a69",
       "version_major": 2,
       "version_minor": 0
      },
      "text/html": [
       "<p>Failed to display Jupyter Widget of type <code>HBox</code>.</p>\n",
       "<p>\n",
       "  If you're reading this message in the Jupyter Notebook or JupyterLab Notebook, it may mean\n",
       "  that the widgets JavaScript is still loading. If this message persists, it\n",
       "  likely means that the widgets JavaScript library is either not installed or\n",
       "  not enabled. See the <a href=\"https://ipywidgets.readthedocs.io/en/stable/user_install.html\">Jupyter\n",
       "  Widgets Documentation</a> for setup instructions.\n",
       "</p>\n",
       "<p>\n",
       "  If you're reading this message in another frontend (for example, a static\n",
       "  rendering on GitHub or <a href=\"https://nbviewer.jupyter.org/\">NBViewer</a>),\n",
       "  it may mean that your frontend doesn't currently support widgets.\n",
       "</p>\n"
      ],
      "text/plain": [
       "HBox(children=(IntProgress(value=0, max=300), HTML(value='')))"
      ]
     },
     "metadata": {},
     "output_type": "display_data"
    },
    {
     "name": "stdout",
     "output_type": "stream",
     "text": [
      "\n",
      "Average beta:  0.24\n"
     ]
    },
    {
     "data": {
      "application/vnd.jupyter.widget-view+json": {
       "model_id": "a169bc2879254573b51ae7f0f8210cf8",
       "version_major": 2,
       "version_minor": 0
      },
      "text/html": [
       "<p>Failed to display Jupyter Widget of type <code>HBox</code>.</p>\n",
       "<p>\n",
       "  If you're reading this message in the Jupyter Notebook or JupyterLab Notebook, it may mean\n",
       "  that the widgets JavaScript is still loading. If this message persists, it\n",
       "  likely means that the widgets JavaScript library is either not installed or\n",
       "  not enabled. See the <a href=\"https://ipywidgets.readthedocs.io/en/stable/user_install.html\">Jupyter\n",
       "  Widgets Documentation</a> for setup instructions.\n",
       "</p>\n",
       "<p>\n",
       "  If you're reading this message in another frontend (for example, a static\n",
       "  rendering on GitHub or <a href=\"https://nbviewer.jupyter.org/\">NBViewer</a>),\n",
       "  it may mean that your frontend doesn't currently support widgets.\n",
       "</p>\n"
      ],
      "text/plain": [
       "HBox(children=(IntProgress(value=0, max=300), HTML(value='')))"
      ]
     },
     "metadata": {},
     "output_type": "display_data"
    },
    {
     "name": "stdout",
     "output_type": "stream",
     "text": [
      "\n",
      "Average beta:  0.2\n"
     ]
    },
    {
     "data": {
      "application/vnd.jupyter.widget-view+json": {
       "model_id": "e04bf19ea8c74a1482687805ef89432f",
       "version_major": 2,
       "version_minor": 0
      },
      "text/html": [
       "<p>Failed to display Jupyter Widget of type <code>HBox</code>.</p>\n",
       "<p>\n",
       "  If you're reading this message in the Jupyter Notebook or JupyterLab Notebook, it may mean\n",
       "  that the widgets JavaScript is still loading. If this message persists, it\n",
       "  likely means that the widgets JavaScript library is either not installed or\n",
       "  not enabled. See the <a href=\"https://ipywidgets.readthedocs.io/en/stable/user_install.html\">Jupyter\n",
       "  Widgets Documentation</a> for setup instructions.\n",
       "</p>\n",
       "<p>\n",
       "  If you're reading this message in another frontend (for example, a static\n",
       "  rendering on GitHub or <a href=\"https://nbviewer.jupyter.org/\">NBViewer</a>),\n",
       "  it may mean that your frontend doesn't currently support widgets.\n",
       "</p>\n"
      ],
      "text/plain": [
       "HBox(children=(IntProgress(value=0, max=300), HTML(value='')))"
      ]
     },
     "metadata": {},
     "output_type": "display_data"
    },
    {
     "name": "stdout",
     "output_type": "stream",
     "text": [
      "\n",
      "Average beta:  0.165\n"
     ]
    },
    {
     "data": {
      "application/vnd.jupyter.widget-view+json": {
       "model_id": "a541f1562d0043629ec13d362e44ea8a",
       "version_major": 2,
       "version_minor": 0
      },
      "text/html": [
       "<p>Failed to display Jupyter Widget of type <code>HBox</code>.</p>\n",
       "<p>\n",
       "  If you're reading this message in the Jupyter Notebook or JupyterLab Notebook, it may mean\n",
       "  that the widgets JavaScript is still loading. If this message persists, it\n",
       "  likely means that the widgets JavaScript library is either not installed or\n",
       "  not enabled. See the <a href=\"https://ipywidgets.readthedocs.io/en/stable/user_install.html\">Jupyter\n",
       "  Widgets Documentation</a> for setup instructions.\n",
       "</p>\n",
       "<p>\n",
       "  If you're reading this message in another frontend (for example, a static\n",
       "  rendering on GitHub or <a href=\"https://nbviewer.jupyter.org/\">NBViewer</a>),\n",
       "  it may mean that your frontend doesn't currently support widgets.\n",
       "</p>\n"
      ],
      "text/plain": [
       "HBox(children=(IntProgress(value=0, max=300), HTML(value='')))"
      ]
     },
     "metadata": {},
     "output_type": "display_data"
    },
    {
     "name": "stdout",
     "output_type": "stream",
     "text": [
      "\n",
      "Average beta:  0.14\n"
     ]
    },
    {
     "data": {
      "application/vnd.jupyter.widget-view+json": {
       "model_id": "71a3a5cf47664405b28ae2206afefec2",
       "version_major": 2,
       "version_minor": 0
      },
      "text/html": [
       "<p>Failed to display Jupyter Widget of type <code>HBox</code>.</p>\n",
       "<p>\n",
       "  If you're reading this message in the Jupyter Notebook or JupyterLab Notebook, it may mean\n",
       "  that the widgets JavaScript is still loading. If this message persists, it\n",
       "  likely means that the widgets JavaScript library is either not installed or\n",
       "  not enabled. See the <a href=\"https://ipywidgets.readthedocs.io/en/stable/user_install.html\">Jupyter\n",
       "  Widgets Documentation</a> for setup instructions.\n",
       "</p>\n",
       "<p>\n",
       "  If you're reading this message in another frontend (for example, a static\n",
       "  rendering on GitHub or <a href=\"https://nbviewer.jupyter.org/\">NBViewer</a>),\n",
       "  it may mean that your frontend doesn't currently support widgets.\n",
       "</p>\n"
      ],
      "text/plain": [
       "HBox(children=(IntProgress(value=0, max=300), HTML(value='')))"
      ]
     },
     "metadata": {},
     "output_type": "display_data"
    },
    {
     "name": "stdout",
     "output_type": "stream",
     "text": [
      "\n",
      "Average beta:  0.12\n"
     ]
    },
    {
     "data": {
      "application/vnd.jupyter.widget-view+json": {
       "model_id": "c1b94d1ed97a4260af109aba8db7ffaf",
       "version_major": 2,
       "version_minor": 0
      },
      "text/html": [
       "<p>Failed to display Jupyter Widget of type <code>HBox</code>.</p>\n",
       "<p>\n",
       "  If you're reading this message in the Jupyter Notebook or JupyterLab Notebook, it may mean\n",
       "  that the widgets JavaScript is still loading. If this message persists, it\n",
       "  likely means that the widgets JavaScript library is either not installed or\n",
       "  not enabled. See the <a href=\"https://ipywidgets.readthedocs.io/en/stable/user_install.html\">Jupyter\n",
       "  Widgets Documentation</a> for setup instructions.\n",
       "</p>\n",
       "<p>\n",
       "  If you're reading this message in another frontend (for example, a static\n",
       "  rendering on GitHub or <a href=\"https://nbviewer.jupyter.org/\">NBViewer</a>),\n",
       "  it may mean that your frontend doesn't currently support widgets.\n",
       "</p>\n"
      ],
      "text/plain": [
       "HBox(children=(IntProgress(value=0, max=300), HTML(value='')))"
      ]
     },
     "metadata": {},
     "output_type": "display_data"
    },
    {
     "name": "stdout",
     "output_type": "stream",
     "text": [
      "\n",
      "sim:6\n",
      "Average beta:  0.24\n"
     ]
    },
    {
     "data": {
      "application/vnd.jupyter.widget-view+json": {
       "model_id": "d09699fb785f4f6492c86ab5a9113130",
       "version_major": 2,
       "version_minor": 0
      },
      "text/html": [
       "<p>Failed to display Jupyter Widget of type <code>HBox</code>.</p>\n",
       "<p>\n",
       "  If you're reading this message in the Jupyter Notebook or JupyterLab Notebook, it may mean\n",
       "  that the widgets JavaScript is still loading. If this message persists, it\n",
       "  likely means that the widgets JavaScript library is either not installed or\n",
       "  not enabled. See the <a href=\"https://ipywidgets.readthedocs.io/en/stable/user_install.html\">Jupyter\n",
       "  Widgets Documentation</a> for setup instructions.\n",
       "</p>\n",
       "<p>\n",
       "  If you're reading this message in another frontend (for example, a static\n",
       "  rendering on GitHub or <a href=\"https://nbviewer.jupyter.org/\">NBViewer</a>),\n",
       "  it may mean that your frontend doesn't currently support widgets.\n",
       "</p>\n"
      ],
      "text/plain": [
       "HBox(children=(IntProgress(value=0, max=300), HTML(value='')))"
      ]
     },
     "metadata": {},
     "output_type": "display_data"
    },
    {
     "name": "stdout",
     "output_type": "stream",
     "text": [
      "\n",
      "Average beta:  0.24\n"
     ]
    },
    {
     "data": {
      "application/vnd.jupyter.widget-view+json": {
       "model_id": "f70261719f854a879b6ef59f395f0ea3",
       "version_major": 2,
       "version_minor": 0
      },
      "text/html": [
       "<p>Failed to display Jupyter Widget of type <code>HBox</code>.</p>\n",
       "<p>\n",
       "  If you're reading this message in the Jupyter Notebook or JupyterLab Notebook, it may mean\n",
       "  that the widgets JavaScript is still loading. If this message persists, it\n",
       "  likely means that the widgets JavaScript library is either not installed or\n",
       "  not enabled. See the <a href=\"https://ipywidgets.readthedocs.io/en/stable/user_install.html\">Jupyter\n",
       "  Widgets Documentation</a> for setup instructions.\n",
       "</p>\n",
       "<p>\n",
       "  If you're reading this message in another frontend (for example, a static\n",
       "  rendering on GitHub or <a href=\"https://nbviewer.jupyter.org/\">NBViewer</a>),\n",
       "  it may mean that your frontend doesn't currently support widgets.\n",
       "</p>\n"
      ],
      "text/plain": [
       "HBox(children=(IntProgress(value=0, max=300), HTML(value='')))"
      ]
     },
     "metadata": {},
     "output_type": "display_data"
    },
    {
     "name": "stdout",
     "output_type": "stream",
     "text": [
      "\n",
      "Average beta:  0.2\n"
     ]
    },
    {
     "data": {
      "application/vnd.jupyter.widget-view+json": {
       "model_id": "8f07742de543451ab96c5229b5e9e323",
       "version_major": 2,
       "version_minor": 0
      },
      "text/html": [
       "<p>Failed to display Jupyter Widget of type <code>HBox</code>.</p>\n",
       "<p>\n",
       "  If you're reading this message in the Jupyter Notebook or JupyterLab Notebook, it may mean\n",
       "  that the widgets JavaScript is still loading. If this message persists, it\n",
       "  likely means that the widgets JavaScript library is either not installed or\n",
       "  not enabled. See the <a href=\"https://ipywidgets.readthedocs.io/en/stable/user_install.html\">Jupyter\n",
       "  Widgets Documentation</a> for setup instructions.\n",
       "</p>\n",
       "<p>\n",
       "  If you're reading this message in another frontend (for example, a static\n",
       "  rendering on GitHub or <a href=\"https://nbviewer.jupyter.org/\">NBViewer</a>),\n",
       "  it may mean that your frontend doesn't currently support widgets.\n",
       "</p>\n"
      ],
      "text/plain": [
       "HBox(children=(IntProgress(value=0, max=300), HTML(value='')))"
      ]
     },
     "metadata": {},
     "output_type": "display_data"
    },
    {
     "name": "stdout",
     "output_type": "stream",
     "text": [
      "\n",
      "Average beta:  0.165\n"
     ]
    },
    {
     "data": {
      "application/vnd.jupyter.widget-view+json": {
       "model_id": "5cd4afe9cb7e4a1bbe183ff63d0dd2ec",
       "version_major": 2,
       "version_minor": 0
      },
      "text/html": [
       "<p>Failed to display Jupyter Widget of type <code>HBox</code>.</p>\n",
       "<p>\n",
       "  If you're reading this message in the Jupyter Notebook or JupyterLab Notebook, it may mean\n",
       "  that the widgets JavaScript is still loading. If this message persists, it\n",
       "  likely means that the widgets JavaScript library is either not installed or\n",
       "  not enabled. See the <a href=\"https://ipywidgets.readthedocs.io/en/stable/user_install.html\">Jupyter\n",
       "  Widgets Documentation</a> for setup instructions.\n",
       "</p>\n",
       "<p>\n",
       "  If you're reading this message in another frontend (for example, a static\n",
       "  rendering on GitHub or <a href=\"https://nbviewer.jupyter.org/\">NBViewer</a>),\n",
       "  it may mean that your frontend doesn't currently support widgets.\n",
       "</p>\n"
      ],
      "text/plain": [
       "HBox(children=(IntProgress(value=0, max=300), HTML(value='')))"
      ]
     },
     "metadata": {},
     "output_type": "display_data"
    },
    {
     "name": "stdout",
     "output_type": "stream",
     "text": [
      "\n",
      "Average beta:  0.14\n"
     ]
    },
    {
     "data": {
      "application/vnd.jupyter.widget-view+json": {
       "model_id": "6048530564964890a73d28b777cccf05",
       "version_major": 2,
       "version_minor": 0
      },
      "text/html": [
       "<p>Failed to display Jupyter Widget of type <code>HBox</code>.</p>\n",
       "<p>\n",
       "  If you're reading this message in the Jupyter Notebook or JupyterLab Notebook, it may mean\n",
       "  that the widgets JavaScript is still loading. If this message persists, it\n",
       "  likely means that the widgets JavaScript library is either not installed or\n",
       "  not enabled. See the <a href=\"https://ipywidgets.readthedocs.io/en/stable/user_install.html\">Jupyter\n",
       "  Widgets Documentation</a> for setup instructions.\n",
       "</p>\n",
       "<p>\n",
       "  If you're reading this message in another frontend (for example, a static\n",
       "  rendering on GitHub or <a href=\"https://nbviewer.jupyter.org/\">NBViewer</a>),\n",
       "  it may mean that your frontend doesn't currently support widgets.\n",
       "</p>\n"
      ],
      "text/plain": [
       "HBox(children=(IntProgress(value=0, max=300), HTML(value='')))"
      ]
     },
     "metadata": {},
     "output_type": "display_data"
    },
    {
     "name": "stdout",
     "output_type": "stream",
     "text": [
      "\n",
      "Average beta:  0.12\n"
     ]
    },
    {
     "data": {
      "application/vnd.jupyter.widget-view+json": {
       "model_id": "8aeb2ea4c1b54d538fcbd97871a126d2",
       "version_major": 2,
       "version_minor": 0
      },
      "text/html": [
       "<p>Failed to display Jupyter Widget of type <code>HBox</code>.</p>\n",
       "<p>\n",
       "  If you're reading this message in the Jupyter Notebook or JupyterLab Notebook, it may mean\n",
       "  that the widgets JavaScript is still loading. If this message persists, it\n",
       "  likely means that the widgets JavaScript library is either not installed or\n",
       "  not enabled. See the <a href=\"https://ipywidgets.readthedocs.io/en/stable/user_install.html\">Jupyter\n",
       "  Widgets Documentation</a> for setup instructions.\n",
       "</p>\n",
       "<p>\n",
       "  If you're reading this message in another frontend (for example, a static\n",
       "  rendering on GitHub or <a href=\"https://nbviewer.jupyter.org/\">NBViewer</a>),\n",
       "  it may mean that your frontend doesn't currently support widgets.\n",
       "</p>\n"
      ],
      "text/plain": [
       "HBox(children=(IntProgress(value=0, max=300), HTML(value='')))"
      ]
     },
     "metadata": {},
     "output_type": "display_data"
    },
    {
     "name": "stdout",
     "output_type": "stream",
     "text": [
      "\n",
      "sim:7\n",
      "Average beta:  0.24\n"
     ]
    },
    {
     "data": {
      "application/vnd.jupyter.widget-view+json": {
       "model_id": "3c0fb67ba0b34c0c8788771661cdecfc",
       "version_major": 2,
       "version_minor": 0
      },
      "text/html": [
       "<p>Failed to display Jupyter Widget of type <code>HBox</code>.</p>\n",
       "<p>\n",
       "  If you're reading this message in the Jupyter Notebook or JupyterLab Notebook, it may mean\n",
       "  that the widgets JavaScript is still loading. If this message persists, it\n",
       "  likely means that the widgets JavaScript library is either not installed or\n",
       "  not enabled. See the <a href=\"https://ipywidgets.readthedocs.io/en/stable/user_install.html\">Jupyter\n",
       "  Widgets Documentation</a> for setup instructions.\n",
       "</p>\n",
       "<p>\n",
       "  If you're reading this message in another frontend (for example, a static\n",
       "  rendering on GitHub or <a href=\"https://nbviewer.jupyter.org/\">NBViewer</a>),\n",
       "  it may mean that your frontend doesn't currently support widgets.\n",
       "</p>\n"
      ],
      "text/plain": [
       "HBox(children=(IntProgress(value=0, max=300), HTML(value='')))"
      ]
     },
     "metadata": {},
     "output_type": "display_data"
    },
    {
     "name": "stdout",
     "output_type": "stream",
     "text": [
      "\n",
      "Average beta:  0.24\n"
     ]
    },
    {
     "data": {
      "application/vnd.jupyter.widget-view+json": {
       "model_id": "f914c0d897eb4cb3a240a76b30f84c97",
       "version_major": 2,
       "version_minor": 0
      },
      "text/html": [
       "<p>Failed to display Jupyter Widget of type <code>HBox</code>.</p>\n",
       "<p>\n",
       "  If you're reading this message in the Jupyter Notebook or JupyterLab Notebook, it may mean\n",
       "  that the widgets JavaScript is still loading. If this message persists, it\n",
       "  likely means that the widgets JavaScript library is either not installed or\n",
       "  not enabled. See the <a href=\"https://ipywidgets.readthedocs.io/en/stable/user_install.html\">Jupyter\n",
       "  Widgets Documentation</a> for setup instructions.\n",
       "</p>\n",
       "<p>\n",
       "  If you're reading this message in another frontend (for example, a static\n",
       "  rendering on GitHub or <a href=\"https://nbviewer.jupyter.org/\">NBViewer</a>),\n",
       "  it may mean that your frontend doesn't currently support widgets.\n",
       "</p>\n"
      ],
      "text/plain": [
       "HBox(children=(IntProgress(value=0, max=300), HTML(value='')))"
      ]
     },
     "metadata": {},
     "output_type": "display_data"
    },
    {
     "name": "stdout",
     "output_type": "stream",
     "text": [
      "\n",
      "Average beta:  0.2\n"
     ]
    },
    {
     "data": {
      "application/vnd.jupyter.widget-view+json": {
       "model_id": "61be1fb6e2434dd8aae7b0137e4eeb09",
       "version_major": 2,
       "version_minor": 0
      },
      "text/html": [
       "<p>Failed to display Jupyter Widget of type <code>HBox</code>.</p>\n",
       "<p>\n",
       "  If you're reading this message in the Jupyter Notebook or JupyterLab Notebook, it may mean\n",
       "  that the widgets JavaScript is still loading. If this message persists, it\n",
       "  likely means that the widgets JavaScript library is either not installed or\n",
       "  not enabled. See the <a href=\"https://ipywidgets.readthedocs.io/en/stable/user_install.html\">Jupyter\n",
       "  Widgets Documentation</a> for setup instructions.\n",
       "</p>\n",
       "<p>\n",
       "  If you're reading this message in another frontend (for example, a static\n",
       "  rendering on GitHub or <a href=\"https://nbviewer.jupyter.org/\">NBViewer</a>),\n",
       "  it may mean that your frontend doesn't currently support widgets.\n",
       "</p>\n"
      ],
      "text/plain": [
       "HBox(children=(IntProgress(value=0, max=300), HTML(value='')))"
      ]
     },
     "metadata": {},
     "output_type": "display_data"
    },
    {
     "name": "stdout",
     "output_type": "stream",
     "text": [
      "\n",
      "Average beta:  0.165\n"
     ]
    },
    {
     "data": {
      "application/vnd.jupyter.widget-view+json": {
       "model_id": "422d7da5148e43abb71f75473c167711",
       "version_major": 2,
       "version_minor": 0
      },
      "text/html": [
       "<p>Failed to display Jupyter Widget of type <code>HBox</code>.</p>\n",
       "<p>\n",
       "  If you're reading this message in the Jupyter Notebook or JupyterLab Notebook, it may mean\n",
       "  that the widgets JavaScript is still loading. If this message persists, it\n",
       "  likely means that the widgets JavaScript library is either not installed or\n",
       "  not enabled. See the <a href=\"https://ipywidgets.readthedocs.io/en/stable/user_install.html\">Jupyter\n",
       "  Widgets Documentation</a> for setup instructions.\n",
       "</p>\n",
       "<p>\n",
       "  If you're reading this message in another frontend (for example, a static\n",
       "  rendering on GitHub or <a href=\"https://nbviewer.jupyter.org/\">NBViewer</a>),\n",
       "  it may mean that your frontend doesn't currently support widgets.\n",
       "</p>\n"
      ],
      "text/plain": [
       "HBox(children=(IntProgress(value=0, max=300), HTML(value='')))"
      ]
     },
     "metadata": {},
     "output_type": "display_data"
    },
    {
     "name": "stdout",
     "output_type": "stream",
     "text": [
      "\n",
      "Average beta:  0.14\n"
     ]
    },
    {
     "data": {
      "application/vnd.jupyter.widget-view+json": {
       "model_id": "bf52ebd3814541e9815c64f0e9e4491a",
       "version_major": 2,
       "version_minor": 0
      },
      "text/html": [
       "<p>Failed to display Jupyter Widget of type <code>HBox</code>.</p>\n",
       "<p>\n",
       "  If you're reading this message in the Jupyter Notebook or JupyterLab Notebook, it may mean\n",
       "  that the widgets JavaScript is still loading. If this message persists, it\n",
       "  likely means that the widgets JavaScript library is either not installed or\n",
       "  not enabled. See the <a href=\"https://ipywidgets.readthedocs.io/en/stable/user_install.html\">Jupyter\n",
       "  Widgets Documentation</a> for setup instructions.\n",
       "</p>\n",
       "<p>\n",
       "  If you're reading this message in another frontend (for example, a static\n",
       "  rendering on GitHub or <a href=\"https://nbviewer.jupyter.org/\">NBViewer</a>),\n",
       "  it may mean that your frontend doesn't currently support widgets.\n",
       "</p>\n"
      ],
      "text/plain": [
       "HBox(children=(IntProgress(value=0, max=300), HTML(value='')))"
      ]
     },
     "metadata": {},
     "output_type": "display_data"
    },
    {
     "name": "stdout",
     "output_type": "stream",
     "text": [
      "\n",
      "Average beta:  0.12\n"
     ]
    },
    {
     "data": {
      "application/vnd.jupyter.widget-view+json": {
       "model_id": "bcdea202a8f5486d92413cb76422dce9",
       "version_major": 2,
       "version_minor": 0
      },
      "text/html": [
       "<p>Failed to display Jupyter Widget of type <code>HBox</code>.</p>\n",
       "<p>\n",
       "  If you're reading this message in the Jupyter Notebook or JupyterLab Notebook, it may mean\n",
       "  that the widgets JavaScript is still loading. If this message persists, it\n",
       "  likely means that the widgets JavaScript library is either not installed or\n",
       "  not enabled. See the <a href=\"https://ipywidgets.readthedocs.io/en/stable/user_install.html\">Jupyter\n",
       "  Widgets Documentation</a> for setup instructions.\n",
       "</p>\n",
       "<p>\n",
       "  If you're reading this message in another frontend (for example, a static\n",
       "  rendering on GitHub or <a href=\"https://nbviewer.jupyter.org/\">NBViewer</a>),\n",
       "  it may mean that your frontend doesn't currently support widgets.\n",
       "</p>\n"
      ],
      "text/plain": [
       "HBox(children=(IntProgress(value=0, max=300), HTML(value='')))"
      ]
     },
     "metadata": {},
     "output_type": "display_data"
    },
    {
     "name": "stdout",
     "output_type": "stream",
     "text": [
      "\n",
      "sim:8\n",
      "Average beta:  0.24\n"
     ]
    },
    {
     "data": {
      "application/vnd.jupyter.widget-view+json": {
       "model_id": "3a7bbb6b2f1c4bc0ac21f39e5f7f6d69",
       "version_major": 2,
       "version_minor": 0
      },
      "text/html": [
       "<p>Failed to display Jupyter Widget of type <code>HBox</code>.</p>\n",
       "<p>\n",
       "  If you're reading this message in the Jupyter Notebook or JupyterLab Notebook, it may mean\n",
       "  that the widgets JavaScript is still loading. If this message persists, it\n",
       "  likely means that the widgets JavaScript library is either not installed or\n",
       "  not enabled. See the <a href=\"https://ipywidgets.readthedocs.io/en/stable/user_install.html\">Jupyter\n",
       "  Widgets Documentation</a> for setup instructions.\n",
       "</p>\n",
       "<p>\n",
       "  If you're reading this message in another frontend (for example, a static\n",
       "  rendering on GitHub or <a href=\"https://nbviewer.jupyter.org/\">NBViewer</a>),\n",
       "  it may mean that your frontend doesn't currently support widgets.\n",
       "</p>\n"
      ],
      "text/plain": [
       "HBox(children=(IntProgress(value=0, max=300), HTML(value='')))"
      ]
     },
     "metadata": {},
     "output_type": "display_data"
    },
    {
     "name": "stdout",
     "output_type": "stream",
     "text": [
      "\n",
      "Average beta:  0.24\n"
     ]
    },
    {
     "data": {
      "application/vnd.jupyter.widget-view+json": {
       "model_id": "7a79b7f45d0b4ab1ace3db93d68d9389",
       "version_major": 2,
       "version_minor": 0
      },
      "text/html": [
       "<p>Failed to display Jupyter Widget of type <code>HBox</code>.</p>\n",
       "<p>\n",
       "  If you're reading this message in the Jupyter Notebook or JupyterLab Notebook, it may mean\n",
       "  that the widgets JavaScript is still loading. If this message persists, it\n",
       "  likely means that the widgets JavaScript library is either not installed or\n",
       "  not enabled. See the <a href=\"https://ipywidgets.readthedocs.io/en/stable/user_install.html\">Jupyter\n",
       "  Widgets Documentation</a> for setup instructions.\n",
       "</p>\n",
       "<p>\n",
       "  If you're reading this message in another frontend (for example, a static\n",
       "  rendering on GitHub or <a href=\"https://nbviewer.jupyter.org/\">NBViewer</a>),\n",
       "  it may mean that your frontend doesn't currently support widgets.\n",
       "</p>\n"
      ],
      "text/plain": [
       "HBox(children=(IntProgress(value=0, max=300), HTML(value='')))"
      ]
     },
     "metadata": {},
     "output_type": "display_data"
    },
    {
     "name": "stdout",
     "output_type": "stream",
     "text": [
      "\n",
      "Average beta:  0.2\n"
     ]
    },
    {
     "data": {
      "application/vnd.jupyter.widget-view+json": {
       "model_id": "857b6999cc464db5b8e4974223aa1050",
       "version_major": 2,
       "version_minor": 0
      },
      "text/html": [
       "<p>Failed to display Jupyter Widget of type <code>HBox</code>.</p>\n",
       "<p>\n",
       "  If you're reading this message in the Jupyter Notebook or JupyterLab Notebook, it may mean\n",
       "  that the widgets JavaScript is still loading. If this message persists, it\n",
       "  likely means that the widgets JavaScript library is either not installed or\n",
       "  not enabled. See the <a href=\"https://ipywidgets.readthedocs.io/en/stable/user_install.html\">Jupyter\n",
       "  Widgets Documentation</a> for setup instructions.\n",
       "</p>\n",
       "<p>\n",
       "  If you're reading this message in another frontend (for example, a static\n",
       "  rendering on GitHub or <a href=\"https://nbviewer.jupyter.org/\">NBViewer</a>),\n",
       "  it may mean that your frontend doesn't currently support widgets.\n",
       "</p>\n"
      ],
      "text/plain": [
       "HBox(children=(IntProgress(value=0, max=300), HTML(value='')))"
      ]
     },
     "metadata": {},
     "output_type": "display_data"
    },
    {
     "name": "stdout",
     "output_type": "stream",
     "text": [
      "\n",
      "Average beta:  0.165\n"
     ]
    },
    {
     "data": {
      "application/vnd.jupyter.widget-view+json": {
       "model_id": "d35663abf29640efa0695a677d12b472",
       "version_major": 2,
       "version_minor": 0
      },
      "text/html": [
       "<p>Failed to display Jupyter Widget of type <code>HBox</code>.</p>\n",
       "<p>\n",
       "  If you're reading this message in the Jupyter Notebook or JupyterLab Notebook, it may mean\n",
       "  that the widgets JavaScript is still loading. If this message persists, it\n",
       "  likely means that the widgets JavaScript library is either not installed or\n",
       "  not enabled. See the <a href=\"https://ipywidgets.readthedocs.io/en/stable/user_install.html\">Jupyter\n",
       "  Widgets Documentation</a> for setup instructions.\n",
       "</p>\n",
       "<p>\n",
       "  If you're reading this message in another frontend (for example, a static\n",
       "  rendering on GitHub or <a href=\"https://nbviewer.jupyter.org/\">NBViewer</a>),\n",
       "  it may mean that your frontend doesn't currently support widgets.\n",
       "</p>\n"
      ],
      "text/plain": [
       "HBox(children=(IntProgress(value=0, max=300), HTML(value='')))"
      ]
     },
     "metadata": {},
     "output_type": "display_data"
    },
    {
     "name": "stdout",
     "output_type": "stream",
     "text": [
      "\n",
      "Average beta:  0.14\n"
     ]
    },
    {
     "data": {
      "application/vnd.jupyter.widget-view+json": {
       "model_id": "f0523df874a741d39097b5773e09a2e8",
       "version_major": 2,
       "version_minor": 0
      },
      "text/html": [
       "<p>Failed to display Jupyter Widget of type <code>HBox</code>.</p>\n",
       "<p>\n",
       "  If you're reading this message in the Jupyter Notebook or JupyterLab Notebook, it may mean\n",
       "  that the widgets JavaScript is still loading. If this message persists, it\n",
       "  likely means that the widgets JavaScript library is either not installed or\n",
       "  not enabled. See the <a href=\"https://ipywidgets.readthedocs.io/en/stable/user_install.html\">Jupyter\n",
       "  Widgets Documentation</a> for setup instructions.\n",
       "</p>\n",
       "<p>\n",
       "  If you're reading this message in another frontend (for example, a static\n",
       "  rendering on GitHub or <a href=\"https://nbviewer.jupyter.org/\">NBViewer</a>),\n",
       "  it may mean that your frontend doesn't currently support widgets.\n",
       "</p>\n"
      ],
      "text/plain": [
       "HBox(children=(IntProgress(value=0, max=300), HTML(value='')))"
      ]
     },
     "metadata": {},
     "output_type": "display_data"
    },
    {
     "name": "stdout",
     "output_type": "stream",
     "text": [
      "\n",
      "Average beta:  0.12\n"
     ]
    },
    {
     "data": {
      "application/vnd.jupyter.widget-view+json": {
       "model_id": "35393fd7c91342e094d1b89dfa5f8c03",
       "version_major": 2,
       "version_minor": 0
      },
      "text/html": [
       "<p>Failed to display Jupyter Widget of type <code>HBox</code>.</p>\n",
       "<p>\n",
       "  If you're reading this message in the Jupyter Notebook or JupyterLab Notebook, it may mean\n",
       "  that the widgets JavaScript is still loading. If this message persists, it\n",
       "  likely means that the widgets JavaScript library is either not installed or\n",
       "  not enabled. See the <a href=\"https://ipywidgets.readthedocs.io/en/stable/user_install.html\">Jupyter\n",
       "  Widgets Documentation</a> for setup instructions.\n",
       "</p>\n",
       "<p>\n",
       "  If you're reading this message in another frontend (for example, a static\n",
       "  rendering on GitHub or <a href=\"https://nbviewer.jupyter.org/\">NBViewer</a>),\n",
       "  it may mean that your frontend doesn't currently support widgets.\n",
       "</p>\n"
      ],
      "text/plain": [
       "HBox(children=(IntProgress(value=0, max=300), HTML(value='')))"
      ]
     },
     "metadata": {},
     "output_type": "display_data"
    },
    {
     "name": "stdout",
     "output_type": "stream",
     "text": [
      "\n",
      "sim:9\n",
      "Average beta:  0.24\n"
     ]
    },
    {
     "data": {
      "application/vnd.jupyter.widget-view+json": {
       "model_id": "d1e8eef19baa4786b3694e390e97557e",
       "version_major": 2,
       "version_minor": 0
      },
      "text/html": [
       "<p>Failed to display Jupyter Widget of type <code>HBox</code>.</p>\n",
       "<p>\n",
       "  If you're reading this message in the Jupyter Notebook or JupyterLab Notebook, it may mean\n",
       "  that the widgets JavaScript is still loading. If this message persists, it\n",
       "  likely means that the widgets JavaScript library is either not installed or\n",
       "  not enabled. See the <a href=\"https://ipywidgets.readthedocs.io/en/stable/user_install.html\">Jupyter\n",
       "  Widgets Documentation</a> for setup instructions.\n",
       "</p>\n",
       "<p>\n",
       "  If you're reading this message in another frontend (for example, a static\n",
       "  rendering on GitHub or <a href=\"https://nbviewer.jupyter.org/\">NBViewer</a>),\n",
       "  it may mean that your frontend doesn't currently support widgets.\n",
       "</p>\n"
      ],
      "text/plain": [
       "HBox(children=(IntProgress(value=0, max=300), HTML(value='')))"
      ]
     },
     "metadata": {},
     "output_type": "display_data"
    },
    {
     "name": "stdout",
     "output_type": "stream",
     "text": [
      "\n",
      "Average beta:  0.24\n"
     ]
    },
    {
     "data": {
      "application/vnd.jupyter.widget-view+json": {
       "model_id": "8832d742761f48058980f4839fc552aa",
       "version_major": 2,
       "version_minor": 0
      },
      "text/html": [
       "<p>Failed to display Jupyter Widget of type <code>HBox</code>.</p>\n",
       "<p>\n",
       "  If you're reading this message in the Jupyter Notebook or JupyterLab Notebook, it may mean\n",
       "  that the widgets JavaScript is still loading. If this message persists, it\n",
       "  likely means that the widgets JavaScript library is either not installed or\n",
       "  not enabled. See the <a href=\"https://ipywidgets.readthedocs.io/en/stable/user_install.html\">Jupyter\n",
       "  Widgets Documentation</a> for setup instructions.\n",
       "</p>\n",
       "<p>\n",
       "  If you're reading this message in another frontend (for example, a static\n",
       "  rendering on GitHub or <a href=\"https://nbviewer.jupyter.org/\">NBViewer</a>),\n",
       "  it may mean that your frontend doesn't currently support widgets.\n",
       "</p>\n"
      ],
      "text/plain": [
       "HBox(children=(IntProgress(value=0, max=300), HTML(value='')))"
      ]
     },
     "metadata": {},
     "output_type": "display_data"
    },
    {
     "name": "stdout",
     "output_type": "stream",
     "text": [
      "\n",
      "Average beta:  0.2\n"
     ]
    },
    {
     "data": {
      "application/vnd.jupyter.widget-view+json": {
       "model_id": "16a9e8db123f47ab8c7d3f064c3e50b5",
       "version_major": 2,
       "version_minor": 0
      },
      "text/html": [
       "<p>Failed to display Jupyter Widget of type <code>HBox</code>.</p>\n",
       "<p>\n",
       "  If you're reading this message in the Jupyter Notebook or JupyterLab Notebook, it may mean\n",
       "  that the widgets JavaScript is still loading. If this message persists, it\n",
       "  likely means that the widgets JavaScript library is either not installed or\n",
       "  not enabled. See the <a href=\"https://ipywidgets.readthedocs.io/en/stable/user_install.html\">Jupyter\n",
       "  Widgets Documentation</a> for setup instructions.\n",
       "</p>\n",
       "<p>\n",
       "  If you're reading this message in another frontend (for example, a static\n",
       "  rendering on GitHub or <a href=\"https://nbviewer.jupyter.org/\">NBViewer</a>),\n",
       "  it may mean that your frontend doesn't currently support widgets.\n",
       "</p>\n"
      ],
      "text/plain": [
       "HBox(children=(IntProgress(value=0, max=300), HTML(value='')))"
      ]
     },
     "metadata": {},
     "output_type": "display_data"
    },
    {
     "name": "stdout",
     "output_type": "stream",
     "text": [
      "\n",
      "Average beta:  0.165\n"
     ]
    },
    {
     "data": {
      "application/vnd.jupyter.widget-view+json": {
       "model_id": "cc70019215374af2a119f056a428c7dd",
       "version_major": 2,
       "version_minor": 0
      },
      "text/html": [
       "<p>Failed to display Jupyter Widget of type <code>HBox</code>.</p>\n",
       "<p>\n",
       "  If you're reading this message in the Jupyter Notebook or JupyterLab Notebook, it may mean\n",
       "  that the widgets JavaScript is still loading. If this message persists, it\n",
       "  likely means that the widgets JavaScript library is either not installed or\n",
       "  not enabled. See the <a href=\"https://ipywidgets.readthedocs.io/en/stable/user_install.html\">Jupyter\n",
       "  Widgets Documentation</a> for setup instructions.\n",
       "</p>\n",
       "<p>\n",
       "  If you're reading this message in another frontend (for example, a static\n",
       "  rendering on GitHub or <a href=\"https://nbviewer.jupyter.org/\">NBViewer</a>),\n",
       "  it may mean that your frontend doesn't currently support widgets.\n",
       "</p>\n"
      ],
      "text/plain": [
       "HBox(children=(IntProgress(value=0, max=300), HTML(value='')))"
      ]
     },
     "metadata": {},
     "output_type": "display_data"
    },
    {
     "name": "stdout",
     "output_type": "stream",
     "text": [
      "\n",
      "Average beta:  0.14\n"
     ]
    },
    {
     "data": {
      "application/vnd.jupyter.widget-view+json": {
       "model_id": "94c92788f49143faa6c37409f763711f",
       "version_major": 2,
       "version_minor": 0
      },
      "text/html": [
       "<p>Failed to display Jupyter Widget of type <code>HBox</code>.</p>\n",
       "<p>\n",
       "  If you're reading this message in the Jupyter Notebook or JupyterLab Notebook, it may mean\n",
       "  that the widgets JavaScript is still loading. If this message persists, it\n",
       "  likely means that the widgets JavaScript library is either not installed or\n",
       "  not enabled. See the <a href=\"https://ipywidgets.readthedocs.io/en/stable/user_install.html\">Jupyter\n",
       "  Widgets Documentation</a> for setup instructions.\n",
       "</p>\n",
       "<p>\n",
       "  If you're reading this message in another frontend (for example, a static\n",
       "  rendering on GitHub or <a href=\"https://nbviewer.jupyter.org/\">NBViewer</a>),\n",
       "  it may mean that your frontend doesn't currently support widgets.\n",
       "</p>\n"
      ],
      "text/plain": [
       "HBox(children=(IntProgress(value=0, max=300), HTML(value='')))"
      ]
     },
     "metadata": {},
     "output_type": "display_data"
    },
    {
     "name": "stdout",
     "output_type": "stream",
     "text": [
      "\n",
      "Average beta:  0.12\n"
     ]
    },
    {
     "data": {
      "application/vnd.jupyter.widget-view+json": {
       "model_id": "a63557e856494907b017e4e1764864a5",
       "version_major": 2,
       "version_minor": 0
      },
      "text/html": [
       "<p>Failed to display Jupyter Widget of type <code>HBox</code>.</p>\n",
       "<p>\n",
       "  If you're reading this message in the Jupyter Notebook or JupyterLab Notebook, it may mean\n",
       "  that the widgets JavaScript is still loading. If this message persists, it\n",
       "  likely means that the widgets JavaScript library is either not installed or\n",
       "  not enabled. See the <a href=\"https://ipywidgets.readthedocs.io/en/stable/user_install.html\">Jupyter\n",
       "  Widgets Documentation</a> for setup instructions.\n",
       "</p>\n",
       "<p>\n",
       "  If you're reading this message in another frontend (for example, a static\n",
       "  rendering on GitHub or <a href=\"https://nbviewer.jupyter.org/\">NBViewer</a>),\n",
       "  it may mean that your frontend doesn't currently support widgets.\n",
       "</p>\n"
      ],
      "text/plain": [
       "HBox(children=(IntProgress(value=0, max=300), HTML(value='')))"
      ]
     },
     "metadata": {},
     "output_type": "display_data"
    },
    {
     "name": "stdout",
     "output_type": "stream",
     "text": [
      "\n"
     ]
    }
   ],
   "source": [
    "np.fill_diagonal(OD, 0)\n",
    "first_infections=first_infections_original*6\n",
    "\n",
    "N_popul = pop.popul.to_numpy()\n",
    "\n",
    "## Uprava OD matice, pocet odchodov moze byt maximalne pocet obyvatelov\n",
    "for j in range(len(N_popul)):\n",
    "    m = np.sum(OD[:, j]) / N_popul[j]\n",
    "    if m > 1:\n",
    "        OD[:, j] = OD[:, j] / m\n",
    "\n",
    "days = 300\n",
    "pocet_simulacii = 10\n",
    "\n",
    "if True:\n",
    "    percSIR_100_240=[]\n",
    "    percSIR_070_240=[]\n",
    "    percSIR_030_200=[]\n",
    "    percSIR_035_165=[]\n",
    "    percSIR_035_140=[]\n",
    "    percSIR_035_120=[]\n",
    "    SIR_100_240=[]\n",
    "    SIR_070_240=[]\n",
    "    SIR_030_200=[]\n",
    "    SIR_035_165=[]\n",
    "    SIR_035_140=[]\n",
    "    SIR_035_120=[]\n",
    "\n",
    "    for sim in np.arange(pocet_simulacii):\n",
    "        print('sim:'+str(sim))\n",
    "        \n",
    "        alpha1 = 1\n",
    "        beta_list = beta_list_240\n",
    "        a1,b1 =simulation(N_popul=pop_N,OD=OD,alpha_vec=np.random.uniform(alpha1-0.1,alpha1+0.1,days),\n",
    "                              R0_correction_demogr=R0_correction_demogr,\n",
    "                              first_infections=first_infections,beta_list=beta_list,gamma=0.1,\n",
    "                              tau= 16/24, T = days)\n",
    "        alpha2 = 0.7\n",
    "        beta_list = beta_list_240\n",
    "        a2,b2 =simulation(N_popul=pop_N,OD=OD,alpha_vec=np.random.uniform(alpha2-0.1, alpha2+0.1,days),\n",
    "                              R0_correction_demogr=R0_correction_demogr,\n",
    "                              first_infections=first_infections,beta_list=beta_list,gamma=0.1,\n",
    "                              tau= 16/24, T = days)\n",
    "        \n",
    "        alpha3 = 0.3\n",
    "        beta_list = beta_list_200\n",
    "        a3,b3 =simulation(N_popul=pop_N,OD=OD,alpha_vec=np.random.uniform(alpha3-0.1, alpha3+0.1,days),\n",
    "                              R0_correction_demogr=R0_correction_demogr,\n",
    "                              first_infections=first_infections,beta_list=beta_list,gamma=0.1,\n",
    "                              tau= 16/24, T = days)\n",
    "        \n",
    "        alpha4 = 0.35\n",
    "        beta_list = beta_list_165\n",
    "        a4,b4 =simulation(N_popul=pop_N,OD=OD,alpha_vec=np.random.uniform(alpha4-0.1, alpha4+0.1,days),\n",
    "                              R0_correction_demogr=R0_correction_demogr,\n",
    "                              first_infections=first_infections,beta_list=beta_list,gamma=0.1,\n",
    "                              tau= 16/24, T = days)\n",
    "        \n",
    "        alpha5 = 0.35\n",
    "        beta_list = beta_list_140\n",
    "        a5,b5 = simulation(N_popul=pop_N,OD=OD,alpha_vec=np.random.uniform(alpha5-0.1, alpha5+0.1,days),\n",
    "                              R0_correction_demogr=R0_correction_demogr,\n",
    "                              first_infections=first_infections,beta_list=beta_list,gamma=0.1,\n",
    "                              tau= 16/24, T = days)\n",
    "        \n",
    "        alpha6 = 0.35\n",
    "        beta_list = beta_list_120\n",
    "        a6,b6 = simulation(N_popul=pop_N,OD=OD,alpha_vec=np.random.uniform(alpha6-0.1, alpha6+0.1,days),\n",
    "                                        R0_correction_demogr=R0_correction_demogr,\n",
    "                                        first_infections=first_infections,beta_list=beta_list,gamma=0.1,\n",
    "                                        tau= 16/24, T = days)\n",
    "        \n",
    "        percSIR_100_240.append(a1)\n",
    "        percSIR_070_240.append(a2)\n",
    "        percSIR_030_200.append(a3)\n",
    "        percSIR_035_165.append(a4)\n",
    "        percSIR_035_140.append(a5)\n",
    "        percSIR_035_120.append(a6)\n",
    "        SIR_100_240.append(b1)\n",
    "        SIR_070_240.append(b2)\n",
    "        SIR_030_200.append(b3)\n",
    "        SIR_035_165.append(b4)\n",
    "        SIR_035_140.append(b5)\n",
    "        SIR_035_120.append(b6)\n",
    "        #with open('./vystupy_model/simulations_29.3.2020_imro_tmp.pickle','wb') as f:\n",
    "        #    pickle.dump([percSIR_100_240,percSIR_070_240,percSIR_030_200,percSIR_035_165,percSIR_035_140,percSIR_035_120,\n",
    "        #     SIR_100_240,SIR_070_240,SIR_030_200,SIR_035_165,SIR_035_140,SIR_035_120],f)\n",
    "   \n",
    "    results=[percSIR_100_240,percSIR_070_240,percSIR_030_200,percSIR_035_165,percSIR_035_140,percSIR_035_120,\n",
    "             SIR_100_240,SIR_070_240,SIR_030_200,SIR_035_165,SIR_035_140,SIR_035_120]\n",
    "    \n",
    "    #with open('./vystupy_model/simulations_30.3.2020.pickle','wb') as f:\n",
    "    #    pickle.dump(results,f)"
   ]
  },
  {
   "cell_type": "code",
   "execution_count": 114,
   "metadata": {},
   "outputs": [],
   "source": [
    "# with open('./vystupy_model/simulations_30.3.2020.pickle','rb') as f:\n",
    "#     results=pickle.load(f)\n",
    "#     f.close()"
   ]
  },
  {
   "cell_type": "markdown",
   "metadata": {},
   "source": [
    "## Grafy"
   ]
  },
  {
   "cell_type": "code",
   "execution_count": 115,
   "metadata": {},
   "outputs": [
    {
     "name": "stdout",
     "output_type": "stream",
     "text": [
      "Alpha 1 R0 2.4, Peak:  0.0 , Day:  0\n",
      "Alpha 0.7 R0 2.4, Peak:  0.0 , Day:  0\n",
      "Alpha 0.3 R0 2.4, Peak:  0.0 , Day:  0\n",
      "Alpha 0.35 R0 2.4, Peak:  0.0 , Day:  0\n"
     ]
    },
    {
     "data": {
      "image/png": "[encoded data removed]",
      "text/plain": [
       "<matplotlib.figure.Figure at 0x133f7ab70>"
      ]
     },
     "metadata": {},
     "output_type": "display_data"
    }
   ],
   "source": [
    "## Graf vrcholov nakazy, standardny\n",
    " \n",
    "total_days = 300\n",
    "\n",
    "day_zero = dt.datetime.now() - dt.timedelta(days = 3) \n",
    "end = day_zero + dt.timedelta(days=total_days)\n",
    "days = mdates.drange(day_zero,end,dt.timedelta(days=1))\n",
    "\n",
    "months = mdates.MonthLocator()  # every month\n",
    "\n",
    "day_zero = dt.datetime.now() - dt.timedelta(days = 3) \n",
    "end = day_zero + dt.timedelta(days=total_days)\n",
    "days = mdates.drange(day_zero,end,dt.timedelta(days=1))\n",
    "\n",
    "sns.set(rc={'figure.figsize':(11, 4)})    \n",
    "    \n",
    "fig, ax = plt.subplots()\n",
    "clrs=['red','orange','blue','green', 'purple','teal']\n",
    "with sns.axes_style(\"darkgrid\"):\n",
    "    for i in range(4):\n",
    "        means = np.array(meanlist_inf(results[i]), dtype=np.float64)\n",
    "        sdt = np.array(stdlist_inf(results[i]), dtype=np.float64)\n",
    "        ax.plot(days, means, c=clrs[i])\n",
    "        ax.fill_between(days, means-2*sdt, means+2*sdt ,alpha=0.3, facecolor=clrs[i])\n",
    "        ax.set_xlim([dt.date(2020, 3, 29), dt.date(2021, 1, 8)])\n",
    "        ax.xaxis.set_major_locator(months)\n",
    "        ax.xaxis.set_major_formatter(mdates.DateFormatter('%b' '%y'))\n",
    "\n",
    "plt.title('Porovnanie peaku infekcie podľa mobility')\n",
    "plt.ylabel('Pomer nakazených')\n",
    "plt.legend(['Alpha 1.00, R0 2.4','Alpha 0.70, R0 2.4','Alpha 0.30, R0 2.00','Alpha 0.35, R0 1.65'])\n",
    "\n",
    "plt.savefig('./outputs/plots/v10_plot_inf_rel_alpha_high.png',dpi=300)\n",
    "plt.close\n",
    "\n",
    "means_100_240 = np.array(meanlist_inf(results[0]), dtype=np.float64)\n",
    "means_070_240 = np.array(meanlist_inf(results[1]), dtype=np.float64)\n",
    "means_030_200 = np.array(meanlist_inf(results[2]), dtype=np.float64)\n",
    "means_035_165 = np.array(meanlist_inf(results[3]), dtype=np.float64)\n",
    "\n",
    "print('Alpha', str(alpha1), 'R0 2.4, Peak: ', np.round(means_100_240.max(),3), ', Day: ' , means_100_240.argmax() )\n",
    "print('Alpha', str(alpha2), 'R0 2.4, Peak: ', np.round(means_070_240.max(),3), ', Day: ' , means_070_240.argmax())\n",
    "print('Alpha', str(alpha3), 'R0 2.4, Peak: ', np.round(means_030_200.max(),3),  ', Day: ' , means_030_200.argmax())\n",
    "print('Alpha', str(alpha4), 'R0 2.4, Peak: ', np.round(means_035_165.max(),3), ', Day: ' , means_035_165.argmax())"
   ]
  },
  {
   "cell_type": "code",
   "execution_count": null,
   "metadata": {},
   "outputs": [],
   "source": [
    "## Graf vrcholov nakazy, nizke scenare\n",
    "        \n",
    "total_days = 300\n",
    "\n",
    "day_zero = dt.datetime.now() - dt.timedelta(days = 3) \n",
    "end = day_zero + dt.timedelta(days=total_days)\n",
    "days = mdates.drange(day_zero,end,dt.timedelta(days=1))\n",
    "months = mdates.MonthLocator()  # every month\n",
    "\n",
    "sns.set(rc={'figure.figsize':(11, 4)})    \n",
    "    \n",
    "fig, ax = plt.subplots()\n",
    "clrs=['red','orange','yellow','blue', 'purple','magenta','green']\n",
    "with sns.axes_style(\"darkgrid\"):\n",
    "    for i in range(3,6):\n",
    "        means = np.array(meanlist_inf(results[i]), dtype=np.float64)\n",
    "        sdt = np.array(stdlist_inf(results[i]),dtype=np.float64)\n",
    "        ax.plot(days, means, c=clrs[i])\n",
    "        ax.fill_between(days, means-2*sdt, means+2*sdt ,alpha=0.3, facecolor=clrs[i])\n",
    "        ax.set_xlim([dt.date(2020, 3, 22), dt.date(2021, 1, 1)])\n",
    "        ax.xaxis.set_major_locator(months)\n",
    "        ax.xaxis.set_major_formatter(mdates.DateFormatter('%b' '%y'))\n",
    "\n",
    "plt.title('Porovnanie peaku infekcie podľa R0')\n",
    "plt.ylabel('Pomer nakazených')\n",
    "plt.legend(['Alpha 0.35, R0 1.65','Alpha 0.35, R0 1.40','Alpha 0.35, R0 1.20'])\n",
    "\n",
    "plt.savefig('./outputs/plots/v10_plot_inf_rel_low_alpha.png',dpi=300)\n",
    "plt.close\n",
    "\n",
    "\n",
    "means_035_165 = np.array(meanlist_inf(results[3]), dtype=np.float64)\n",
    "means_035_140 = np.array(meanlist_inf(results[4]), dtype=np.float64)\n",
    "means_035_120 = np.array(meanlist_inf(results[5]), dtype=np.float64)\n",
    "\n",
    "print('Alpha', str(alpha4), 'R0 1.65, Peak:'  , np.round(means_035_165.max(),3),  ', Day: ' , means_035_165.argmax())\n",
    "print('Alpha', str(alpha5), 'R0 1.40, Peak:', np.round(means_035_140.max(),3), ', Day: ' , means_035_140.argmax())\n",
    "print('Alpha', str(alpha6), 'R0 1.20, Peak:', np.round(means_035_120.max(),3), ', Day: ' , means_035_120.argmax())"
   ]
  },
  {
   "cell_type": "code",
   "execution_count": null,
   "metadata": {},
   "outputs": [],
   "source": [
    "sns.set(rc={'figure.figsize':(11, 4)})     \n",
    "\n",
    "day_zero = dt.datetime.now() - dt.timedelta(days = 2) \n",
    "end = day_zero + dt.timedelta(days=299)\n",
    "days = mdates.drange(day_zero,end,dt.timedelta(days=1))\n",
    "\n",
    "fig, ax = plt.subplots()\n",
    "clrs=['red','orange','green','blue']\n",
    "with sns.axes_style(\"darkgrid\"):\n",
    "    for i in range(6,10):\n",
    "        means = np.array(meanlist_inf_diff(results[i]), dtype=np.float64)\n",
    "        sdt = np.array(stdlist_inf_diff(results[i]), dtype=np.float64)\n",
    "        ax.plot(days, means, c=clrs[i-6])\n",
    "        #ax.fill_between(epochs, means-2*sdt, means+2*sdt ,alpha=0.3, facecolor=clrs[i])\n",
    "        ax.set_xlim([dt.date(2020, 3, 22), dt.date(2021, 1, 1)])\n",
    "        ax.xaxis.set_major_locator(months)\n",
    "        ax.xaxis.set_major_formatter(mdates.DateFormatter('%b' '%y'))\n",
    "\n",
    "\n",
    "plt.title('Zmena v počte infikovaných')\n",
    "#plt.xlabel('Dni')\n",
    "plt.legend(['Alpha 1.0, R0 2.4','Alpha 0.7, R0 2.4','Alpha 0.3, R0 2.0','Alpha 0.35, R0 1.65'])\n",
    "#plt.ylabel('Počet')\n",
    "plt.savefig('./outputs/plots/v10_plot_inf_abs.png',dpi=300)\n",
    "plt.close"
   ]
  },
  {
   "cell_type": "markdown",
   "metadata": {},
   "source": [
    "## Tabuľky"
   ]
  },
  {
   "cell_type": "code",
   "execution_count": null,
   "metadata": {},
   "outputs": [],
   "source": [
    "## Tabulka 1\n",
    "days = 300\n",
    "A = pd.DataFrame({'Dni':np.arange(1, days+1),\n",
    "              'I_high':np.sum(sumlist(results[6])[:,1,:], axis = 0),\n",
    "              'I_med':np.sum(sumlist(results[7])[:,1,:], axis = 0),\n",
    "              'I_low':np.sum(sumlist(results[8])[:,1,:], axis = 0),\n",
    "              'I_low_R140':np.sum(sumlist(results[9])[:,1,:], axis = 0)\n",
    "             })\n",
    "\n",
    "A.columns = ['Dni', 'Alpha 1.0, R0 2.4, Počet infikovaných','Alpha 0.7, R0 2.4, Počet infikovaných',\n",
    "             'Alpha 0.3, R0 2.0, Počet infikovaných','Alpha 0.35, R0 1.65, Počet infikovaných'] \n",
    "\n",
    "\n",
    "# Vyber konkretnych dni (Riadok 9 predstavuje den 10)\n",
    "A = A.iloc[ [9,19,29,39,49,59,79,99,149,199] , :]\n",
    "\n",
    "A.to_excel('./outputs/tabulky/v10_Tabulka1.xlsx',engine='xlsxwriter', index = False)\n",
    "\n",
    "## Tabulka 3 (Tabulka 2 je staticka) -- tabulka pouziva scenar s najprisnejsimi opatreniami\n",
    "B = A.loc[:, ['Dni', 'Alpha 0.35, R0 1.65, Počet infikovaných']].copy()\n",
    "B.columns = ['Dni', 'Počet infikovaných']\n",
    "B['Symptomatickí pacienti'] = B['Počet infikovaných']*0.6\n",
    "B['Hospitalizácie'] = B['Symptomatickí pacienti']*0.074306\n",
    "B['Vyžadujúci intenzívnu starostlivosť'] = B['Hospitalizácie']*0.1375\n",
    "\n",
    "B.to_excel('./outputs/tabulky/v10_Tabulka3.xlsx',engine='xlsxwriter', index = False)"
   ]
  },
  {
   "cell_type": "code",
   "execution_count": null,
   "metadata": {},
   "outputs": [],
   "source": [
    "## Vystup alpha 0.7, R0 2.40\n",
    "gamma = 0.1\n",
    "\n",
    "sim_df_low = pd.DataFrame({'Dni':np.arange(1,301),\n",
    "                       'S': np.sum(sumlist(results[7])[:,0,:], axis = 0),\n",
    "                       'I': np.sum(sumlist(results[7])[:,1,:], axis = 0),\n",
    "                       'R': np.sum(sumlist(results[7])[:,2,:], axis = 0)})\n",
    "\n",
    "sim_df_low['Populácia'] = sim_df_low['S'] + sim_df_low['I'] +sim_df_low['R']\n",
    "sim_df_low['I_cum'] =  sim_df_low['Populácia'] - sim_df_low['S']\n",
    "\n",
    "new_infect = np.array(-sim_df_low['S'].iloc[1:]) + np.array(sim_df_low['S'].iloc[0:-1]) \n",
    "new_infect = np.insert(new_infect, 0, first_infections.sum() , axis = 0)\n",
    "new_recovered = np.array( sim_df_low['R'].iloc[1:]) -np.array(sim_df_low['R'].iloc[0:-1]) \n",
    "new_recovered = np.insert(new_recovered, 0, gamma*first_infections.sum() , axis = 0)\n",
    "\n",
    "sim_df_low['Nové infekcie'] = new_infect\n",
    "sim_df_low['Novovyliečení'] = new_recovered\n",
    "\n",
    "sim_df_low.columns = ['Dni','Náchylní','Infikovaní','Vyliečení', 'Populácia','Niekedy infikovaní','Nové infekcie', 'Novovyliečení']\n",
    "sim_df_low.to_excel('./outputs/tabulky/v10_SIR_vystup_alpha_0.70_R0_2.40.xlsx', index = False)\n",
    "#sim_df_low['Infikovaní'].max()"
   ]
  },
  {
   "cell_type": "code",
   "execution_count": null,
   "metadata": {},
   "outputs": [],
   "source": [
    "## Vystup alpha 0.35, R0 1.65 -- default\n",
    "sim_df_low = pd.DataFrame({'Dni':np.arange(1,301),\n",
    "                       'S': np.sum(sumlist(results[9])[:,0,:], axis = 0),\n",
    "                       'I': np.sum(sumlist(results[9])[:,1,:], axis = 0),\n",
    "                       'R': np.sum(sumlist(results[9])[:,2,:], axis = 0)})\n",
    "\n",
    "sim_df_low['Populácia'] = sim_df_low['S'] + sim_df_low['I'] +sim_df_low['R']\n",
    "sim_df_low['I_cum'] =  sim_df_low['Populácia'] - sim_df_low['S']\n",
    "\n",
    "new_infect = np.array(-sim_df_low['S'].iloc[1:]) + np.array(sim_df_low['S'].iloc[0:-1]) \n",
    "new_infect = np.insert(new_infect, 0, first_infections.sum() , axis = 0)\n",
    "new_recovered = np.array( sim_df_low['R'].iloc[1:]) -np.array(sim_df_low['R'].iloc[0:-1]) \n",
    "new_recovered = np.insert(new_recovered, 0, gamma*first_infections.sum() , axis = 0)\n",
    "\n",
    "sim_df_low['Nové infekcie'] = new_infect\n",
    "sim_df_low['Novovyliečení'] = new_recovered\n",
    "\n",
    "sim_df_low.columns = ['Dni','Náchylní','Infikovaní','Vyliečení', 'Populácia','Niekedy infikovaní','Nové infekcie', 'Novovyliečení']\n",
    "sim_df_low.to_excel('./outputs/tabulky/v10_SIR_vystup_alpha_0.35_R0_1.65_DEFAULT.xlsx', index = False)\n",
    "#sim_df_low['Infikovaní'].max()"
   ]
  },
  {
   "cell_type": "code",
   "execution_count": null,
   "metadata": {},
   "outputs": [],
   "source": [
    "## Vystup alpha 0.35, R0 1.40\n",
    "sim_df_low = pd.DataFrame({'Dni':np.arange(1,301),\n",
    "                       'S': np.sum(sumlist(results[10])[:,0,:], axis = 0),\n",
    "                       'I': np.sum(sumlist(results[10])[:,1,:], axis = 0),\n",
    "                       'R': np.sum(sumlist(results[10])[:,2,:], axis = 0)})\n",
    "\n",
    "sim_df_low['Populácia'] = sim_df_low['S'] + sim_df_low['I'] +sim_df_low['R']\n",
    "sim_df_low['I_cum'] =  sim_df_low['Populácia'] - sim_df_low['S']\n",
    "\n",
    "new_infect = np.array(-sim_df_low['S'].iloc[1:]) + np.array(sim_df_low['S'].iloc[0:-1]) \n",
    "new_infect = np.insert(new_infect, 0, first_infections.sum() , axis = 0)\n",
    "new_recovered = np.array( sim_df_low['R'].iloc[1:]) -np.array(sim_df_low['R'].iloc[0:-1]) \n",
    "new_recovered = np.insert(new_recovered, 0, gamma*first_infections.sum() , axis = 0)\n",
    "\n",
    "sim_df_low['Nové infekcie'] = new_infect\n",
    "sim_df_low['Novovyliečení'] = new_recovered\n",
    "\n",
    "sim_df_low.columns = ['Dni','Náchylní','Infikovaní','Vyliečení', 'Populácia','Niekedy infikovaní','Nové infekcie', 'Novovyliečení']\n",
    "sim_df_low.to_excel('./outputs/tabulky/v10_SIR_vystup_alpha_0.35_R0_1.40.xlsx', index = False)\n",
    "#sim_df_low['Infikovaní'].max()"
   ]
  },
  {
   "cell_type": "code",
   "execution_count": null,
   "metadata": {},
   "outputs": [],
   "source": [
    "D = pd.DataFrame({'Dni':np.arange(300),\n",
    "                  'S_high': np.sum(sumlist(results[6])[:,0,:], axis = 0),\n",
    "                 'S_med': np.sum(sumlist(results[7])[:,0,:], axis = 0),\n",
    "                 'S_low': np.sum(sumlist(results[8])[:,0,:], axis = 0),\n",
    "                 'S_low2': np.sum(sumlist(results[9])[:,0,:], axis = 0)})\n",
    "\n",
    "N = np.sum(pop.popul.to_numpy())\n",
    "D['I_cum_high'] = N - D['S_high']\n",
    "D['I_cum_med'] = N -  D['S_med']\n",
    "D['I_cum_low'] = N -  D['S_low']\n",
    "D['I_cum_low2'] = N - D['S_low2']\n",
    "\n",
    "D = D.drop(['S_high', 'S_med', 'S_low', 'S_low2'], axis = 1)\n",
    "\n",
    "## Graf poctu novych nakaz v case\n",
    "new_inf_high = np.array(D['I_cum_high'].iloc[1:]) - np.array(D['I_cum_high'].iloc[0:-1])\n",
    "new_inf_med  = np.array(D['I_cum_med'].iloc[1:]) - np.array(D['I_cum_med'].iloc[0:-1])\n",
    "new_inf_low  = np.array(D['I_cum_low'].iloc[1:]) - np.array(D['I_cum_low'].iloc[0:-1])\n",
    "new_inf_low2 = np.array(D['I_cum_low2'].iloc[1:]) - np.array(D['I_cum_low2'].iloc[0:-1])\n",
    "\n",
    "E = pd.DataFrame({'Deň':np.array(range(1,300,1)), \n",
    "                  'Nové infekcie, vysoká mobilita': new_inf_high, 'Nové infekcie, stredná mobilita':new_inf_med, \n",
    "                  'Nové infekcie, nízka mobilita, R0 2.0':new_inf_low, 'Nové infekcie, nízka mobilita, R0 1.65':new_inf_low2})\n",
    "\n",
    "sns.set(rc={'figure.figsize':(11, 4)})    \n",
    "\n",
    "day_zero = dt.datetime.now() - dt.timedelta(days = 2) \n",
    "end = day_zero + dt.timedelta(days=299)\n",
    "days = mdates.drange(day_zero,end,dt.timedelta(days=1))\n",
    "\n",
    "fig, ax = plt.subplots()\n",
    "clrs=['red','orange','green','blue']\n",
    "with sns.axes_style(\"darkgrid\"):\n",
    "    epochs = list( E['Deň'] )    \n",
    "    for i in range(4):\n",
    "        means = np.array(E.iloc[:, i+1] , dtype=np.float64)\n",
    "        ax.plot(days, means, c=clrs[i])\n",
    "        ax.set_xlim([dt.date(2020, 3, 22), dt.date(2021, 1, 1)])\n",
    "        ax.xaxis.set_major_locator(months)\n",
    "        ax.xaxis.set_major_formatter(mdates.DateFormatter('%b' '%y'))\n",
    "\n",
    "plt.title('Počet nových infekcií')\n",
    "plt.legend(['Alpha 1.0, R0 2.4','Alpha 0.7, R0 2.4','Alpha 0.3, R0 2.0','Alpha 0.35, R0 1.65'])\n",
    "#plt.ylabel('Počet')\n",
    "plt.savefig('./outputs/plots/v10_plot_inf_nove.png',dpi=300)\n",
    "plt.close"
   ]
  },
  {
   "cell_type": "code",
   "execution_count": null,
   "metadata": {},
   "outputs": [],
   "source": []
  }
 ],
 "metadata": {
  "kernelspec": {
   "display_name": "Python 3",
   "language": "python",
   "name": "python3"
  },
  "language_info": {
   "codemirror_mode": {
    "name": "ipython",
    "version": 3
   },
   "file_extension": ".py",
   "mimetype": "text/x-python",
   "name": "python",
   "nbconvert_exporter": "python",
   "pygments_lexer": "ipython3",
   "version": "3.6.7"
  }
 },
 "nbformat": 4,
 "nbformat_minor": 2
}
