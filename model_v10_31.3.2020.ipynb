{
 "cells": [
  {
   "cell_type": "code",
   "execution_count": 61,
   "metadata": {},
   "outputs": [],
   "source": [
    "## Nahratie balikov, pouzitie Anaconda Jupyter notebook + updatovane baliky.\n",
    "import numpy as np\n",
    "import pandas as pd\n",
    "from pandas.plotting import register_matplotlib_converters\n",
    "register_matplotlib_converters()\n",
    "from tqdm import tqdm_notebook\n",
    "import pickle\n",
    "import matplotlib.pyplot as plt\n",
    "import matplotlib.dates as mdates\n",
    "import seaborn as sns\n",
    "import datetime as dt\n",
    "from random import sample\n",
    "from sklearn.utils import shuffle\n",
    "\n",
    "def power_law(k_min, k_max, y, kappa):\n",
    "    return ((k_max**(-kappa+1) - k_min**(-kappa+1))*y  + k_min**(-kappa+1.0))**(1.0/(-kappa + 1.0))\n",
    "\n",
    "np.random.seed(14)"
   ]
  },
  {
   "cell_type": "code",
   "execution_count": 62,
   "metadata": {},
   "outputs": [],
   "source": [
    "## Funkcie pre ziskavanie agregovanych vysledkov zo simulacie\n",
    "def sumlist(x):\n",
    "    tmp=x[0]\n",
    "    if len(x)>1:\n",
    "        for i in x[1:]:\n",
    "            tmp=tmp+i\n",
    "    return tmp/len(x)\n",
    "\n",
    "def stdlist_inf(x):\n",
    "    tmp=pd.DataFrame(x[0].inf)\n",
    "    if len(x)>1:\n",
    "        for i in x[1:]:\n",
    "            tmp=pd.concat([tmp,pd.DataFrame(i.inf)],1)\n",
    "    return tmp.apply(np.std,1)\n",
    "\n",
    "def meanlist_inf(x):\n",
    "    tmp=pd.DataFrame(x[0].inf)\n",
    "    if len(x)>1:\n",
    "        for i in x[1:]:\n",
    "            tmp=pd.concat([tmp,pd.DataFrame(i.inf)],1)    \n",
    "    return tmp.apply(np.mean,1)\n",
    "\n",
    "def meanlist_inf_diff(x):\n",
    "    tmp_list=x\n",
    "    tmp=pd.DataFrame(tmp_list[0][:,1,:].sum(0)[1:]-tmp_list[0][:,1,:].sum(0)[:-1])\n",
    "    for i in tmp_list:\n",
    "         if len(tmp_list)>1:\n",
    "            for i in x[1:]:\n",
    "                tmp=pd.concat([tmp,\n",
    "                               pd.DataFrame(i[:,1,:].sum(0)[1:]-i[:,1,:].sum(0)[:-1])],1)    \n",
    "    return tmp.apply(np.mean,1)\n",
    "\n",
    "def stdlist_inf_diff(x):\n",
    "    tmp_list=x\n",
    "    tmp=pd.DataFrame(tmp_list[0][:,1,:].sum(0)[1:]-tmp_list[0][:,1,:].sum(0)[:-1])\n",
    "    for i in tmp_list:\n",
    "         if len(tmp_list)>1:\n",
    "            for i in x[1:]:\n",
    "                tmp=pd.concat([tmp,\n",
    "                               pd.DataFrame(i[:,1,:].sum(0)[1:]-i[:,1,:].sum(0)[:-1])],1)    \n",
    "    return tmp.apply(np.std,1)"
   ]
  },
  {
   "cell_type": "code",
   "execution_count": 63,
   "metadata": {},
   "outputs": [],
   "source": [
    "## Funkcia pre nahratie OD matice\n",
    "def OD_mat_load(path):\n",
    "    with open(path,'rb') as f:\n",
    "        OD=pickle.load(f)\n",
    "        f.close()\n",
    "    return OD\n",
    "\n",
    "# OD=OD_mat_load('./zdroje_int/OD_IFP/OD_final3.pickle')\n",
    "OD = np.array([[0,1],[1,0]]) #pd.DataFrame(data=[[0,1],[1,0]])\n",
    "locs_len = OD.shape[0]"
   ]
  },
  {
   "cell_type": "code",
   "execution_count": 64,
   "metadata": {},
   "outputs": [],
   "source": [
    "# Nahratie populacie\n",
    "# pop = pd.read_excel('./zdroje_int/munic_pop.xlsx')\n",
    "pop = pd.DataFrame(data={\n",
    "    'munic': [1,2],\n",
    "    'popul': [1,2],\n",
    "})\n",
    "pop_N = np.array(pop['popul'])\n",
    "\n",
    "# Priradenie populacie k obci\n",
    "def get_coors_long(x):\n",
    "    return float(df_coords.loc[df_coords.IDN4.apply(str)==x,'long'])\n",
    "def get_coors_lat(x):\n",
    "    return float(df_coords.loc[df_coords.IDN4.apply(str)==x,'lat'])\n",
    "#df_coords=pd.read_excel('./zdroje_int/obce1.xlsx')\n",
    "df_coords = pd.DataFrame(data={\n",
    "    'long': [17.11, 17.99],\n",
    "    'lat': [48.11, 48.99],\n",
    "    'IDN4': [1, 2]\n",
    "})\n",
    "\n",
    "data_i=pop\n",
    "data_i.loc[:,'long']=data_i.munic.apply(str).apply(get_coors_long)\n",
    "data_i.loc[:,'lat']=data_i.munic.apply(str).apply(get_coors_lat)\n",
    "\n",
    "# Nahratie prvych nakaz\n",
    "#nakazy_sk=pd.read_excel('./zdroje_int/Cov_data_v0.1_20200328.xlsx', sheet_name = 'final')\n",
    "nakazy_sk_data = {\n",
    "    'kod_obce': [1,2],\n",
    "    'pocet': [1, 2]\n",
    "}\n",
    "nakazy_sk = pd.DataFrame(data=nakazy_sk_data)\n",
    "first_infections=np.zeros(locs_len)\n",
    "for i in np.arange(nakazy_sk.shape[0]):\n",
    "    first_infections[pop.munic==nakazy_sk.kod_obce.iloc[i]]=nakazy_sk.pocet.iloc[i]   \n",
    "\n",
    "first_infections_original=first_infections"
   ]
  },
  {
   "cell_type": "code",
   "execution_count": 65,
   "metadata": {},
   "outputs": [],
   "source": [
    "## Socio-ekonomicke faktory rizika\n",
    "#mrk=pd.read_excel('./zdroje_int/KoeficientyR0.xlsx')\n",
    "\n",
    "mrk_data = [\n",
    "    [1, 1, 1],\n",
    "    [2, 2, 2]\n",
    "]\n",
    "mrk = pd.DataFrame(data=mrk_data)\n",
    "\n",
    "\n",
    "mrk.columns=['kod','coef_r0','pct']\n",
    "mrk.loc[:,'coef_r0']=mrk.coef_r0.apply(lambda x : x**(2/3))\n",
    "R0_correction_demogr=np.zeros(locs_len)\n",
    "for i in np.arange(data_i.shape[0]):\n",
    "    if data_i.munic[i] in set(mrk.kod):\n",
    "        R0_correction_demogr[np.where(mrk.kod==data_i.munic[i])[0]]=(mrk.coef_r0[mrk.kod==data_i.munic[i]]*mrk.pct[mrk.kod==data_i.munic[i]])+1*(1-mrk.pct[mrk.kod==data_i.munic[i]])\n",
    "\n",
    "R0_correction_demogr[R0_correction_demogr==0]=1\n",
    "R0_correction_demogr=R0_correction_demogr**(1/2)"
   ]
  },
  {
   "cell_type": "code",
   "execution_count": 66,
   "metadata": {
    "scrolled": true
   },
   "outputs": [
    {
     "name": "stdout",
     "output_type": "stream",
     "text": [
      "R0 mean:  2.3991435834384247\n",
      "R0_izol mean: 1.500034050689335\n",
      "R0_neizol mean: 4.497065826519636\n"
     ]
    }
   ],
   "source": [
    "## R0 2.4\n",
    "if True:\n",
    "    U = 0.7\n",
    "    k_min = 0.165\n",
    "    k_max = 20\n",
    "    kappa = 2.5\n",
    "    nodes_izol = round(U*1000000)\n",
    "    nodes_neizol = 1000000 - nodes_izol\n",
    "    beta_vec_neizol = np.zeros(nodes_neizol, float)\n",
    "    for n in range(nodes_neizol):\n",
    "        beta_vec_neizol[n] = power_law(k_min, k_max, np.random.uniform(0,1), kappa)\n",
    "    \n",
    "    # factor to skew gamma distribution towards low values with the same mean and smaller variance\n",
    "    gamma_factor = 30\n",
    "    beta = 0.15*gamma_factor\n",
    "    scale = 1/gamma_factor\n",
    "\n",
    "    beta_vec_izol = np.random.gamma(beta, scale, nodes_izol)\n",
    "    gamma = 0.1\n",
    "\n",
    "    # create joined vector from two distributions\n",
    "    beta_unsorted = np.transpose([*np.transpose(beta_vec_izol),*np.transpose(beta_vec_neizol)])\n",
    "    beta_vec = shuffle(beta_unsorted,random_state=0)\n",
    "    print('R0 mean: ', beta_vec.mean()/ gamma)\n",
    "    beta_list_240=beta_vec.tolist()\n",
    "print('R0_izol mean:', beta_vec_izol.mean() / gamma)\n",
    "print('R0_neizol mean:', beta_vec_neizol.mean() / gamma)"
   ]
  },
  {
   "cell_type": "code",
   "execution_count": 67,
   "metadata": {},
   "outputs": [
    {
     "name": "stdout",
     "output_type": "stream",
     "text": [
      "New beta average:  0.165\n",
      "New beta average:  0.14\n",
      "New beta average:  0.12\n",
      "New beta average:  0.20000000000000007\n"
     ]
    }
   ],
   "source": [
    "def adjust_beta(beta_new, beta_orig = beta_list_240):\n",
    "    m = beta_new / np.average(np.array(beta_orig))\n",
    "    beta_list_new = m * np.array(beta_orig)\n",
    "    print('New beta average: ', np.average(beta_list_new))\n",
    "    return beta_list_new.tolist()\n",
    "\n",
    "# R0 1.65\n",
    "beta_list_165 = adjust_beta(beta_new = 0.165)\n",
    "# R0 1.40\n",
    "beta_list_140 = adjust_beta(beta_new = 0.140)\n",
    "# R0 1.20\n",
    "beta_list_120 = adjust_beta(beta_new = 0.120)\n",
    "# R0 2.00\n",
    "beta_list_200 = adjust_beta(beta_new = 0.200)"
   ]
  },
  {
   "cell_type": "code",
   "execution_count": 68,
   "metadata": {},
   "outputs": [],
   "source": [
    "def simulation(N_popul,OD,alpha_vec,R0_correction_demogr,first_infections,beta_list,gamma=0.1,\n",
    "               tau= 16/24, T = 300):\n",
    "    \n",
    "    N_popul = pop.popul.to_numpy()          \n",
    "    N_munic = len(N_popul)                 \n",
    "    SIR = np.zeros(shape=(N_munic, 3)) \n",
    "    SIR[:,0] = N_popul                      \n",
    "    SIR[:, 0] = SIR[:, 0] - first_infections\n",
    "    SIR[:, 1] = SIR[:, 1] + first_infections     # infikovani presunuti do I skupiny\n",
    "    row_sums = SIR.sum(axis=1)\n",
    "    SIR_n = SIR / row_sums[:, np.newaxis]\n",
    "    gamma_vec = np.full(N_munic, gamma)\n",
    "    SIR_sim = SIR.copy()\n",
    "    SIR_nsim = SIR_n.copy()\n",
    "    \n",
    "    ## Prebiehame simulaciu\n",
    "    infected_pop_norm = []\n",
    "    susceptible_pop_norm = []\n",
    "    recovered_pop_norm = []\n",
    "    SIR_sim_arr=np.zeros((SIR_sim.shape[0],SIR_sim.shape[1],T))\n",
    "     \n",
    "    print('Average beta: ', np.round(np.average(beta_list),3))\n",
    "    \n",
    "    SIR_sim_arr=np.zeros((locs_len,3,T))\n",
    "    w=0\n",
    "    for time_step in tqdm_notebook(range(T)):\n",
    "    #for time_step in tqdm.notebook.tqdm(range(T)):\n",
    "        \n",
    "        alpha = alpha_vec[w]\n",
    "        #print('Alpha draw:', alpha)\n",
    "        ## Transmission rate je na kazdu obec ina, prvotne data su z gamma distribucie\n",
    "        beta_vec = np.array(sample(beta_list,locs_len))*R0_correction_demogr\n",
    "        # Matice infekcii\n",
    "        \n",
    "        y = SIR_sim[:,0] / N_popul\n",
    "        x = SIR_sim[:,1] / N_popul\n",
    "               \n",
    "        ## Clen 1\n",
    "        outside_work = beta_vec * SIR_sim[:,0] * SIR_sim[:, 1] / N_popul\n",
    "        \n",
    "        ## Clen 2\n",
    "        # Define the second term\n",
    "        during_work1 = np.zeros(N_munic) # Second term in the sum\n",
    "        num_2 = np.zeros(N_munic) # Just to keep the code legible\n",
    "        denominator_t = N_popul  + OD.sum(axis = 1) - OD.sum(axis = 0)\n",
    "        num_2=  (SIR_sim[:,0] -y*OD.sum(0))*( np.sum(OD*(x*beta_vec),1)+ (SIR_sim[:,1] - x * OD.sum(0))*beta_vec  )\n",
    "        ## Clen 3\n",
    "        during_work1 = num_2/denominator_t\n",
    "        numerator_t = np.zeros(N_munic)\n",
    "        numerator_t = ((SIR_sim[:,1]-x*OD.sum(0))*beta_vec + np.sum(OD*beta_vec*x,1))\n",
    "\n",
    "        during_work2 = np.zeros(N_munic)\n",
    "        during_work2 = y * np.sum(OD.transpose()*numerator_t/denominator_t,1)\n",
    "              \n",
    "        total_new_infect = tau*outside_work + alpha*(1-tau)*during_work1 + alpha*(1-tau)*during_work2      \n",
    "        ## Nemoze byt viac infikovanych ako susceptible\n",
    "        total_new_infect = np.where(total_new_infect>SIR_sim[:, 0], SIR_sim[:, 0], total_new_infect)\n",
    "         \n",
    "        # Vylieceni\n",
    "        new_recovered = gamma_vec*SIR_sim[:, 1]\n",
    "        \n",
    "        ## Novoinfikovani odchadzaju z kategorie S\n",
    "        SIR_sim[:, 0] = SIR_sim[:, 0] - total_new_infect\n",
    "        ## Novoinfikovani prichadzaju do kategorie I a z nej odchadzaju vylieceni\n",
    "        SIR_sim[:, 1] = SIR_sim[:, 1] + total_new_infect - new_recovered\n",
    "        ## Vylieceni prichadzaju do kat. R\n",
    "        SIR_sim[:, 2] = SIR_sim[:, 2] + new_recovered\n",
    "        SIR_sim = np.where(SIR_sim<0,0,SIR_sim)\n",
    "        \n",
    "        # Normalizacia\n",
    "        row_sums = SIR_sim.sum(axis=1)\n",
    "        SIR_nsim = SIR_sim / row_sums[:, np.newaxis]\n",
    "        #SIR_sim_arr[:,:,j]=SIR_sim\n",
    "\n",
    "        SIR_sim_arr[:,:,w]=SIR_sim\n",
    "        w=w+1\n",
    "        S = SIR_sim[:,0].sum()/N_popul.sum()\n",
    "        I = SIR_sim[:,1].sum()/N_popul.sum()\n",
    "        R = SIR_sim[:,2].sum()/N_popul.sum()\n",
    "        infected_pop_norm.append(I)\n",
    "        susceptible_pop_norm.append(S)\n",
    "        recovered_pop_norm.append(R)\n",
    "    ## Vytvorenie konecnej maticu\n",
    "    res = pd.DataFrame(list(zip(infected_pop_norm, susceptible_pop_norm, recovered_pop_norm)), columns = ['inf','sus','rec'])\n",
    "    return res,SIR_sim_arr"
   ]
  },
  {
   "cell_type": "code",
   "execution_count": 69,
   "metadata": {
    "scrolled": false
   },
   "outputs": [
    {
     "name": "stdout",
     "output_type": "stream",
     "text": [
      "sim:0\n",
      "Average beta:  0.24\n"
     ]
    },
    {
     "data": {
      "application/vnd.jupyter.widget-view+json": {
       "model_id": "89bd4b17c0aa4b168665b7020db92aef",
       "version_major": 2,
       "version_minor": 0
      },
      "text/html": [
       "<p>Failed to display Jupyter Widget of type <code>HBox</code>.</p>\n",
       "<p>\n",
       "  If you're reading this message in the Jupyter Notebook or JupyterLab Notebook, it may mean\n",
       "  that the widgets JavaScript is still loading. If this message persists, it\n",
       "  likely means that the widgets JavaScript library is either not installed or\n",
       "  not enabled. See the <a href=\"https://ipywidgets.readthedocs.io/en/stable/user_install.html\">Jupyter\n",
       "  Widgets Documentation</a> for setup instructions.\n",
       "</p>\n",
       "<p>\n",
       "  If you're reading this message in another frontend (for example, a static\n",
       "  rendering on GitHub or <a href=\"https://nbviewer.jupyter.org/\">NBViewer</a>),\n",
       "  it may mean that your frontend doesn't currently support widgets.\n",
       "</p>\n"
      ],
      "text/plain": [
       "HBox(children=(IntProgress(value=0, max=300), HTML(value='')))"
      ]
     },
     "metadata": {},
     "output_type": "display_data"
    },
    {
     "name": "stdout",
     "output_type": "stream",
     "text": [
      "\n",
      "Average beta:  0.24\n"
     ]
    },
    {
     "data": {
      "application/vnd.jupyter.widget-view+json": {
       "model_id": "0c78453240b94a73893fc99506cdd6bc",
       "version_major": 2,
       "version_minor": 0
      },
      "text/html": [
       "<p>Failed to display Jupyter Widget of type <code>HBox</code>.</p>\n",
       "<p>\n",
       "  If you're reading this message in the Jupyter Notebook or JupyterLab Notebook, it may mean\n",
       "  that the widgets JavaScript is still loading. If this message persists, it\n",
       "  likely means that the widgets JavaScript library is either not installed or\n",
       "  not enabled. See the <a href=\"https://ipywidgets.readthedocs.io/en/stable/user_install.html\">Jupyter\n",
       "  Widgets Documentation</a> for setup instructions.\n",
       "</p>\n",
       "<p>\n",
       "  If you're reading this message in another frontend (for example, a static\n",
       "  rendering on GitHub or <a href=\"https://nbviewer.jupyter.org/\">NBViewer</a>),\n",
       "  it may mean that your frontend doesn't currently support widgets.\n",
       "</p>\n"
      ],
      "text/plain": [
       "HBox(children=(IntProgress(value=0, max=300), HTML(value='')))"
      ]
     },
     "metadata": {},
     "output_type": "display_data"
    },
    {
     "name": "stdout",
     "output_type": "stream",
     "text": [
      "\n",
      "Average beta:  0.2\n"
     ]
    },
    {
     "data": {
      "application/vnd.jupyter.widget-view+json": {
       "model_id": "8f76e542c5ec4343b8471e3a7aef3348",
       "version_major": 2,
       "version_minor": 0
      },
      "text/html": [
       "<p>Failed to display Jupyter Widget of type <code>HBox</code>.</p>\n",
       "<p>\n",
       "  If you're reading this message in the Jupyter Notebook or JupyterLab Notebook, it may mean\n",
       "  that the widgets JavaScript is still loading. If this message persists, it\n",
       "  likely means that the widgets JavaScript library is either not installed or\n",
       "  not enabled. See the <a href=\"https://ipywidgets.readthedocs.io/en/stable/user_install.html\">Jupyter\n",
       "  Widgets Documentation</a> for setup instructions.\n",
       "</p>\n",
       "<p>\n",
       "  If you're reading this message in another frontend (for example, a static\n",
       "  rendering on GitHub or <a href=\"https://nbviewer.jupyter.org/\">NBViewer</a>),\n",
       "  it may mean that your frontend doesn't currently support widgets.\n",
       "</p>\n"
      ],
      "text/plain": [
       "HBox(children=(IntProgress(value=0, max=300), HTML(value='')))"
      ]
     },
     "metadata": {},
     "output_type": "display_data"
    },
    {
     "name": "stdout",
     "output_type": "stream",
     "text": [
      "\n",
      "Average beta:  0.165\n"
     ]
    },
    {
     "data": {
      "application/vnd.jupyter.widget-view+json": {
       "model_id": "3e794635a0e743ad82765dd412568031",
       "version_major": 2,
       "version_minor": 0
      },
      "text/html": [
       "<p>Failed to display Jupyter Widget of type <code>HBox</code>.</p>\n",
       "<p>\n",
       "  If you're reading this message in the Jupyter Notebook or JupyterLab Notebook, it may mean\n",
       "  that the widgets JavaScript is still loading. If this message persists, it\n",
       "  likely means that the widgets JavaScript library is either not installed or\n",
       "  not enabled. See the <a href=\"https://ipywidgets.readthedocs.io/en/stable/user_install.html\">Jupyter\n",
       "  Widgets Documentation</a> for setup instructions.\n",
       "</p>\n",
       "<p>\n",
       "  If you're reading this message in another frontend (for example, a static\n",
       "  rendering on GitHub or <a href=\"https://nbviewer.jupyter.org/\">NBViewer</a>),\n",
       "  it may mean that your frontend doesn't currently support widgets.\n",
       "</p>\n"
      ],
      "text/plain": [
       "HBox(children=(IntProgress(value=0, max=300), HTML(value='')))"
      ]
     },
     "metadata": {},
     "output_type": "display_data"
    },
    {
     "name": "stdout",
     "output_type": "stream",
     "text": [
      "\n",
      "Average beta:  0.14\n"
     ]
    },
    {
     "data": {
      "application/vnd.jupyter.widget-view+json": {
       "model_id": "0f29ae6e79a94abc89e03184be0b0f48",
       "version_major": 2,
       "version_minor": 0
      },
      "text/html": [
       "<p>Failed to display Jupyter Widget of type <code>HBox</code>.</p>\n",
       "<p>\n",
       "  If you're reading this message in the Jupyter Notebook or JupyterLab Notebook, it may mean\n",
       "  that the widgets JavaScript is still loading. If this message persists, it\n",
       "  likely means that the widgets JavaScript library is either not installed or\n",
       "  not enabled. See the <a href=\"https://ipywidgets.readthedocs.io/en/stable/user_install.html\">Jupyter\n",
       "  Widgets Documentation</a> for setup instructions.\n",
       "</p>\n",
       "<p>\n",
       "  If you're reading this message in another frontend (for example, a static\n",
       "  rendering on GitHub or <a href=\"https://nbviewer.jupyter.org/\">NBViewer</a>),\n",
       "  it may mean that your frontend doesn't currently support widgets.\n",
       "</p>\n"
      ],
      "text/plain": [
       "HBox(children=(IntProgress(value=0, max=300), HTML(value='')))"
      ]
     },
     "metadata": {},
     "output_type": "display_data"
    },
    {
     "name": "stdout",
     "output_type": "stream",
     "text": [
      "\n",
      "Average beta:  0.12\n"
     ]
    },
    {
     "data": {
      "application/vnd.jupyter.widget-view+json": {
       "model_id": "67ba4bcc7b6d482e979e69453ecae698",
       "version_major": 2,
       "version_minor": 0
      },
      "text/html": [
       "<p>Failed to display Jupyter Widget of type <code>HBox</code>.</p>\n",
       "<p>\n",
       "  If you're reading this message in the Jupyter Notebook or JupyterLab Notebook, it may mean\n",
       "  that the widgets JavaScript is still loading. If this message persists, it\n",
       "  likely means that the widgets JavaScript library is either not installed or\n",
       "  not enabled. See the <a href=\"https://ipywidgets.readthedocs.io/en/stable/user_install.html\">Jupyter\n",
       "  Widgets Documentation</a> for setup instructions.\n",
       "</p>\n",
       "<p>\n",
       "  If you're reading this message in another frontend (for example, a static\n",
       "  rendering on GitHub or <a href=\"https://nbviewer.jupyter.org/\">NBViewer</a>),\n",
       "  it may mean that your frontend doesn't currently support widgets.\n",
       "</p>\n"
      ],
      "text/plain": [
       "HBox(children=(IntProgress(value=0, max=300), HTML(value='')))"
      ]
     },
     "metadata": {},
     "output_type": "display_data"
    },
    {
     "name": "stdout",
     "output_type": "stream",
     "text": [
      "\n",
      "sim:1\n",
      "Average beta:  0.24\n"
     ]
    },
    {
     "data": {
      "application/vnd.jupyter.widget-view+json": {
       "model_id": "0f5c949f0ee3458285469ecfea2203fa",
       "version_major": 2,
       "version_minor": 0
      },
      "text/html": [
       "<p>Failed to display Jupyter Widget of type <code>HBox</code>.</p>\n",
       "<p>\n",
       "  If you're reading this message in the Jupyter Notebook or JupyterLab Notebook, it may mean\n",
       "  that the widgets JavaScript is still loading. If this message persists, it\n",
       "  likely means that the widgets JavaScript library is either not installed or\n",
       "  not enabled. See the <a href=\"https://ipywidgets.readthedocs.io/en/stable/user_install.html\">Jupyter\n",
       "  Widgets Documentation</a> for setup instructions.\n",
       "</p>\n",
       "<p>\n",
       "  If you're reading this message in another frontend (for example, a static\n",
       "  rendering on GitHub or <a href=\"https://nbviewer.jupyter.org/\">NBViewer</a>),\n",
       "  it may mean that your frontend doesn't currently support widgets.\n",
       "</p>\n"
      ],
      "text/plain": [
       "HBox(children=(IntProgress(value=0, max=300), HTML(value='')))"
      ]
     },
     "metadata": {},
     "output_type": "display_data"
    },
    {
     "name": "stdout",
     "output_type": "stream",
     "text": [
      "\n",
      "Average beta:  0.24\n"
     ]
    },
    {
     "data": {
      "application/vnd.jupyter.widget-view+json": {
       "model_id": "574ebb207dd44241b62559f4547a62f6",
       "version_major": 2,
       "version_minor": 0
      },
      "text/html": [
       "<p>Failed to display Jupyter Widget of type <code>HBox</code>.</p>\n",
       "<p>\n",
       "  If you're reading this message in the Jupyter Notebook or JupyterLab Notebook, it may mean\n",
       "  that the widgets JavaScript is still loading. If this message persists, it\n",
       "  likely means that the widgets JavaScript library is either not installed or\n",
       "  not enabled. See the <a href=\"https://ipywidgets.readthedocs.io/en/stable/user_install.html\">Jupyter\n",
       "  Widgets Documentation</a> for setup instructions.\n",
       "</p>\n",
       "<p>\n",
       "  If you're reading this message in another frontend (for example, a static\n",
       "  rendering on GitHub or <a href=\"https://nbviewer.jupyter.org/\">NBViewer</a>),\n",
       "  it may mean that your frontend doesn't currently support widgets.\n",
       "</p>\n"
      ],
      "text/plain": [
       "HBox(children=(IntProgress(value=0, max=300), HTML(value='')))"
      ]
     },
     "metadata": {},
     "output_type": "display_data"
    },
    {
     "name": "stdout",
     "output_type": "stream",
     "text": [
      "\n",
      "Average beta:  0.2\n"
     ]
    },
    {
     "data": {
      "application/vnd.jupyter.widget-view+json": {
       "model_id": "4e3f8c0eeacc429c81246818a44abcdb",
       "version_major": 2,
       "version_minor": 0
      },
      "text/html": [
       "<p>Failed to display Jupyter Widget of type <code>HBox</code>.</p>\n",
       "<p>\n",
       "  If you're reading this message in the Jupyter Notebook or JupyterLab Notebook, it may mean\n",
       "  that the widgets JavaScript is still loading. If this message persists, it\n",
       "  likely means that the widgets JavaScript library is either not installed or\n",
       "  not enabled. See the <a href=\"https://ipywidgets.readthedocs.io/en/stable/user_install.html\">Jupyter\n",
       "  Widgets Documentation</a> for setup instructions.\n",
       "</p>\n",
       "<p>\n",
       "  If you're reading this message in another frontend (for example, a static\n",
       "  rendering on GitHub or <a href=\"https://nbviewer.jupyter.org/\">NBViewer</a>),\n",
       "  it may mean that your frontend doesn't currently support widgets.\n",
       "</p>\n"
      ],
      "text/plain": [
       "HBox(children=(IntProgress(value=0, max=300), HTML(value='')))"
      ]
     },
     "metadata": {},
     "output_type": "display_data"
    },
    {
     "name": "stdout",
     "output_type": "stream",
     "text": [
      "\n",
      "Average beta:  0.165\n"
     ]
    },
    {
     "data": {
      "application/vnd.jupyter.widget-view+json": {
       "model_id": "c3b8ca3e5dee48eda1923dfa6e83947d",
       "version_major": 2,
       "version_minor": 0
      },
      "text/html": [
       "<p>Failed to display Jupyter Widget of type <code>HBox</code>.</p>\n",
       "<p>\n",
       "  If you're reading this message in the Jupyter Notebook or JupyterLab Notebook, it may mean\n",
       "  that the widgets JavaScript is still loading. If this message persists, it\n",
       "  likely means that the widgets JavaScript library is either not installed or\n",
       "  not enabled. See the <a href=\"https://ipywidgets.readthedocs.io/en/stable/user_install.html\">Jupyter\n",
       "  Widgets Documentation</a> for setup instructions.\n",
       "</p>\n",
       "<p>\n",
       "  If you're reading this message in another frontend (for example, a static\n",
       "  rendering on GitHub or <a href=\"https://nbviewer.jupyter.org/\">NBViewer</a>),\n",
       "  it may mean that your frontend doesn't currently support widgets.\n",
       "</p>\n"
      ],
      "text/plain": [
       "HBox(children=(IntProgress(value=0, max=300), HTML(value='')))"
      ]
     },
     "metadata": {},
     "output_type": "display_data"
    },
    {
     "name": "stdout",
     "output_type": "stream",
     "text": [
      "\n",
      "Average beta:  0.14\n"
     ]
    },
    {
     "data": {
      "application/vnd.jupyter.widget-view+json": {
       "model_id": "fc48f1a4ddd149d682917c252f1b668a",
       "version_major": 2,
       "version_minor": 0
      },
      "text/html": [
       "<p>Failed to display Jupyter Widget of type <code>HBox</code>.</p>\n",
       "<p>\n",
       "  If you're reading this message in the Jupyter Notebook or JupyterLab Notebook, it may mean\n",
       "  that the widgets JavaScript is still loading. If this message persists, it\n",
       "  likely means that the widgets JavaScript library is either not installed or\n",
       "  not enabled. See the <a href=\"https://ipywidgets.readthedocs.io/en/stable/user_install.html\">Jupyter\n",
       "  Widgets Documentation</a> for setup instructions.\n",
       "</p>\n",
       "<p>\n",
       "  If you're reading this message in another frontend (for example, a static\n",
       "  rendering on GitHub or <a href=\"https://nbviewer.jupyter.org/\">NBViewer</a>),\n",
       "  it may mean that your frontend doesn't currently support widgets.\n",
       "</p>\n"
      ],
      "text/plain": [
       "HBox(children=(IntProgress(value=0, max=300), HTML(value='')))"
      ]
     },
     "metadata": {},
     "output_type": "display_data"
    },
    {
     "name": "stdout",
     "output_type": "stream",
     "text": [
      "\n",
      "Average beta:  0.12\n"
     ]
    },
    {
     "data": {
      "application/vnd.jupyter.widget-view+json": {
       "model_id": "c5e00fe70d7747bfb7700070cad6c137",
       "version_major": 2,
       "version_minor": 0
      },
      "text/html": [
       "<p>Failed to display Jupyter Widget of type <code>HBox</code>.</p>\n",
       "<p>\n",
       "  If you're reading this message in the Jupyter Notebook or JupyterLab Notebook, it may mean\n",
       "  that the widgets JavaScript is still loading. If this message persists, it\n",
       "  likely means that the widgets JavaScript library is either not installed or\n",
       "  not enabled. See the <a href=\"https://ipywidgets.readthedocs.io/en/stable/user_install.html\">Jupyter\n",
       "  Widgets Documentation</a> for setup instructions.\n",
       "</p>\n",
       "<p>\n",
       "  If you're reading this message in another frontend (for example, a static\n",
       "  rendering on GitHub or <a href=\"https://nbviewer.jupyter.org/\">NBViewer</a>),\n",
       "  it may mean that your frontend doesn't currently support widgets.\n",
       "</p>\n"
      ],
      "text/plain": [
       "HBox(children=(IntProgress(value=0, max=300), HTML(value='')))"
      ]
     },
     "metadata": {},
     "output_type": "display_data"
    },
    {
     "name": "stdout",
     "output_type": "stream",
     "text": [
      "\n",
      "sim:2\n",
      "Average beta:  0.24\n"
     ]
    },
    {
     "data": {
      "application/vnd.jupyter.widget-view+json": {
       "model_id": "e3997f947f4c4665ba5197946ebd0fd3",
       "version_major": 2,
       "version_minor": 0
      },
      "text/html": [
       "<p>Failed to display Jupyter Widget of type <code>HBox</code>.</p>\n",
       "<p>\n",
       "  If you're reading this message in the Jupyter Notebook or JupyterLab Notebook, it may mean\n",
       "  that the widgets JavaScript is still loading. If this message persists, it\n",
       "  likely means that the widgets JavaScript library is either not installed or\n",
       "  not enabled. See the <a href=\"https://ipywidgets.readthedocs.io/en/stable/user_install.html\">Jupyter\n",
       "  Widgets Documentation</a> for setup instructions.\n",
       "</p>\n",
       "<p>\n",
       "  If you're reading this message in another frontend (for example, a static\n",
       "  rendering on GitHub or <a href=\"https://nbviewer.jupyter.org/\">NBViewer</a>),\n",
       "  it may mean that your frontend doesn't currently support widgets.\n",
       "</p>\n"
      ],
      "text/plain": [
       "HBox(children=(IntProgress(value=0, max=300), HTML(value='')))"
      ]
     },
     "metadata": {},
     "output_type": "display_data"
    },
    {
     "name": "stdout",
     "output_type": "stream",
     "text": [
      "\n",
      "Average beta:  0.24\n"
     ]
    },
    {
     "data": {
      "application/vnd.jupyter.widget-view+json": {
       "model_id": "6b108e4ceb0042c5b849e4f962190ca4",
       "version_major": 2,
       "version_minor": 0
      },
      "text/html": [
       "<p>Failed to display Jupyter Widget of type <code>HBox</code>.</p>\n",
       "<p>\n",
       "  If you're reading this message in the Jupyter Notebook or JupyterLab Notebook, it may mean\n",
       "  that the widgets JavaScript is still loading. If this message persists, it\n",
       "  likely means that the widgets JavaScript library is either not installed or\n",
       "  not enabled. See the <a href=\"https://ipywidgets.readthedocs.io/en/stable/user_install.html\">Jupyter\n",
       "  Widgets Documentation</a> for setup instructions.\n",
       "</p>\n",
       "<p>\n",
       "  If you're reading this message in another frontend (for example, a static\n",
       "  rendering on GitHub or <a href=\"https://nbviewer.jupyter.org/\">NBViewer</a>),\n",
       "  it may mean that your frontend doesn't currently support widgets.\n",
       "</p>\n"
      ],
      "text/plain": [
       "HBox(children=(IntProgress(value=0, max=300), HTML(value='')))"
      ]
     },
     "metadata": {},
     "output_type": "display_data"
    },
    {
     "name": "stdout",
     "output_type": "stream",
     "text": [
      "\n",
      "Average beta:  0.2\n"
     ]
    },
    {
     "data": {
      "application/vnd.jupyter.widget-view+json": {
       "model_id": "6bef2c8b69df44f8be9faacd381e4324",
       "version_major": 2,
       "version_minor": 0
      },
      "text/html": [
       "<p>Failed to display Jupyter Widget of type <code>HBox</code>.</p>\n",
       "<p>\n",
       "  If you're reading this message in the Jupyter Notebook or JupyterLab Notebook, it may mean\n",
       "  that the widgets JavaScript is still loading. If this message persists, it\n",
       "  likely means that the widgets JavaScript library is either not installed or\n",
       "  not enabled. See the <a href=\"https://ipywidgets.readthedocs.io/en/stable/user_install.html\">Jupyter\n",
       "  Widgets Documentation</a> for setup instructions.\n",
       "</p>\n",
       "<p>\n",
       "  If you're reading this message in another frontend (for example, a static\n",
       "  rendering on GitHub or <a href=\"https://nbviewer.jupyter.org/\">NBViewer</a>),\n",
       "  it may mean that your frontend doesn't currently support widgets.\n",
       "</p>\n"
      ],
      "text/plain": [
       "HBox(children=(IntProgress(value=0, max=300), HTML(value='')))"
      ]
     },
     "metadata": {},
     "output_type": "display_data"
    },
    {
     "name": "stdout",
     "output_type": "stream",
     "text": [
      "\n",
      "Average beta:  0.165\n"
     ]
    },
    {
     "data": {
      "application/vnd.jupyter.widget-view+json": {
       "model_id": "5fc1c1ca734148a2a4451f5ca47d4d31",
       "version_major": 2,
       "version_minor": 0
      },
      "text/html": [
       "<p>Failed to display Jupyter Widget of type <code>HBox</code>.</p>\n",
       "<p>\n",
       "  If you're reading this message in the Jupyter Notebook or JupyterLab Notebook, it may mean\n",
       "  that the widgets JavaScript is still loading. If this message persists, it\n",
       "  likely means that the widgets JavaScript library is either not installed or\n",
       "  not enabled. See the <a href=\"https://ipywidgets.readthedocs.io/en/stable/user_install.html\">Jupyter\n",
       "  Widgets Documentation</a> for setup instructions.\n",
       "</p>\n",
       "<p>\n",
       "  If you're reading this message in another frontend (for example, a static\n",
       "  rendering on GitHub or <a href=\"https://nbviewer.jupyter.org/\">NBViewer</a>),\n",
       "  it may mean that your frontend doesn't currently support widgets.\n",
       "</p>\n"
      ],
      "text/plain": [
       "HBox(children=(IntProgress(value=0, max=300), HTML(value='')))"
      ]
     },
     "metadata": {},
     "output_type": "display_data"
    },
    {
     "name": "stdout",
     "output_type": "stream",
     "text": [
      "\n",
      "Average beta:  0.14\n"
     ]
    },
    {
     "data": {
      "application/vnd.jupyter.widget-view+json": {
       "model_id": "936a4b64e9af4268857f0b3b70e80092",
       "version_major": 2,
       "version_minor": 0
      },
      "text/html": [
       "<p>Failed to display Jupyter Widget of type <code>HBox</code>.</p>\n",
       "<p>\n",
       "  If you're reading this message in the Jupyter Notebook or JupyterLab Notebook, it may mean\n",
       "  that the widgets JavaScript is still loading. If this message persists, it\n",
       "  likely means that the widgets JavaScript library is either not installed or\n",
       "  not enabled. See the <a href=\"https://ipywidgets.readthedocs.io/en/stable/user_install.html\">Jupyter\n",
       "  Widgets Documentation</a> for setup instructions.\n",
       "</p>\n",
       "<p>\n",
       "  If you're reading this message in another frontend (for example, a static\n",
       "  rendering on GitHub or <a href=\"https://nbviewer.jupyter.org/\">NBViewer</a>),\n",
       "  it may mean that your frontend doesn't currently support widgets.\n",
       "</p>\n"
      ],
      "text/plain": [
       "HBox(children=(IntProgress(value=0, max=300), HTML(value='')))"
      ]
     },
     "metadata": {},
     "output_type": "display_data"
    },
    {
     "name": "stdout",
     "output_type": "stream",
     "text": [
      "\n",
      "Average beta:  0.12\n"
     ]
    },
    {
     "data": {
      "application/vnd.jupyter.widget-view+json": {
       "model_id": "1c0ebc3d947f487fa3cb38ee1a9d211f",
       "version_major": 2,
       "version_minor": 0
      },
      "text/html": [
       "<p>Failed to display Jupyter Widget of type <code>HBox</code>.</p>\n",
       "<p>\n",
       "  If you're reading this message in the Jupyter Notebook or JupyterLab Notebook, it may mean\n",
       "  that the widgets JavaScript is still loading. If this message persists, it\n",
       "  likely means that the widgets JavaScript library is either not installed or\n",
       "  not enabled. See the <a href=\"https://ipywidgets.readthedocs.io/en/stable/user_install.html\">Jupyter\n",
       "  Widgets Documentation</a> for setup instructions.\n",
       "</p>\n",
       "<p>\n",
       "  If you're reading this message in another frontend (for example, a static\n",
       "  rendering on GitHub or <a href=\"https://nbviewer.jupyter.org/\">NBViewer</a>),\n",
       "  it may mean that your frontend doesn't currently support widgets.\n",
       "</p>\n"
      ],
      "text/plain": [
       "HBox(children=(IntProgress(value=0, max=300), HTML(value='')))"
      ]
     },
     "metadata": {},
     "output_type": "display_data"
    },
    {
     "name": "stdout",
     "output_type": "stream",
     "text": [
      "\n",
      "sim:3\n",
      "Average beta:  0.24\n"
     ]
    },
    {
     "data": {
      "application/vnd.jupyter.widget-view+json": {
       "model_id": "472f541a159a4df1ac44740b171f2b58",
       "version_major": 2,
       "version_minor": 0
      },
      "text/html": [
       "<p>Failed to display Jupyter Widget of type <code>HBox</code>.</p>\n",
       "<p>\n",
       "  If you're reading this message in the Jupyter Notebook or JupyterLab Notebook, it may mean\n",
       "  that the widgets JavaScript is still loading. If this message persists, it\n",
       "  likely means that the widgets JavaScript library is either not installed or\n",
       "  not enabled. See the <a href=\"https://ipywidgets.readthedocs.io/en/stable/user_install.html\">Jupyter\n",
       "  Widgets Documentation</a> for setup instructions.\n",
       "</p>\n",
       "<p>\n",
       "  If you're reading this message in another frontend (for example, a static\n",
       "  rendering on GitHub or <a href=\"https://nbviewer.jupyter.org/\">NBViewer</a>),\n",
       "  it may mean that your frontend doesn't currently support widgets.\n",
       "</p>\n"
      ],
      "text/plain": [
       "HBox(children=(IntProgress(value=0, max=300), HTML(value='')))"
      ]
     },
     "metadata": {},
     "output_type": "display_data"
    },
    {
     "name": "stdout",
     "output_type": "stream",
     "text": [
      "\n",
      "Average beta:  0.24\n"
     ]
    },
    {
     "data": {
      "application/vnd.jupyter.widget-view+json": {
       "model_id": "38a5651f8f7a4a85b82b3d51c2b34c69",
       "version_major": 2,
       "version_minor": 0
      },
      "text/html": [
       "<p>Failed to display Jupyter Widget of type <code>HBox</code>.</p>\n",
       "<p>\n",
       "  If you're reading this message in the Jupyter Notebook or JupyterLab Notebook, it may mean\n",
       "  that the widgets JavaScript is still loading. If this message persists, it\n",
       "  likely means that the widgets JavaScript library is either not installed or\n",
       "  not enabled. See the <a href=\"https://ipywidgets.readthedocs.io/en/stable/user_install.html\">Jupyter\n",
       "  Widgets Documentation</a> for setup instructions.\n",
       "</p>\n",
       "<p>\n",
       "  If you're reading this message in another frontend (for example, a static\n",
       "  rendering on GitHub or <a href=\"https://nbviewer.jupyter.org/\">NBViewer</a>),\n",
       "  it may mean that your frontend doesn't currently support widgets.\n",
       "</p>\n"
      ],
      "text/plain": [
       "HBox(children=(IntProgress(value=0, max=300), HTML(value='')))"
      ]
     },
     "metadata": {},
     "output_type": "display_data"
    },
    {
     "name": "stdout",
     "output_type": "stream",
     "text": [
      "\n",
      "Average beta:  0.2\n"
     ]
    },
    {
     "data": {
      "application/vnd.jupyter.widget-view+json": {
       "model_id": "34b70fffe63b4db690adb7dd3cea5ab1",
       "version_major": 2,
       "version_minor": 0
      },
      "text/html": [
       "<p>Failed to display Jupyter Widget of type <code>HBox</code>.</p>\n",
       "<p>\n",
       "  If you're reading this message in the Jupyter Notebook or JupyterLab Notebook, it may mean\n",
       "  that the widgets JavaScript is still loading. If this message persists, it\n",
       "  likely means that the widgets JavaScript library is either not installed or\n",
       "  not enabled. See the <a href=\"https://ipywidgets.readthedocs.io/en/stable/user_install.html\">Jupyter\n",
       "  Widgets Documentation</a> for setup instructions.\n",
       "</p>\n",
       "<p>\n",
       "  If you're reading this message in another frontend (for example, a static\n",
       "  rendering on GitHub or <a href=\"https://nbviewer.jupyter.org/\">NBViewer</a>),\n",
       "  it may mean that your frontend doesn't currently support widgets.\n",
       "</p>\n"
      ],
      "text/plain": [
       "HBox(children=(IntProgress(value=0, max=300), HTML(value='')))"
      ]
     },
     "metadata": {},
     "output_type": "display_data"
    },
    {
     "name": "stdout",
     "output_type": "stream",
     "text": [
      "\n",
      "Average beta:  0.165\n"
     ]
    },
    {
     "data": {
      "application/vnd.jupyter.widget-view+json": {
       "model_id": "91b425cc0a824994a9f767c2279b44a4",
       "version_major": 2,
       "version_minor": 0
      },
      "text/html": [
       "<p>Failed to display Jupyter Widget of type <code>HBox</code>.</p>\n",
       "<p>\n",
       "  If you're reading this message in the Jupyter Notebook or JupyterLab Notebook, it may mean\n",
       "  that the widgets JavaScript is still loading. If this message persists, it\n",
       "  likely means that the widgets JavaScript library is either not installed or\n",
       "  not enabled. See the <a href=\"https://ipywidgets.readthedocs.io/en/stable/user_install.html\">Jupyter\n",
       "  Widgets Documentation</a> for setup instructions.\n",
       "</p>\n",
       "<p>\n",
       "  If you're reading this message in another frontend (for example, a static\n",
       "  rendering on GitHub or <a href=\"https://nbviewer.jupyter.org/\">NBViewer</a>),\n",
       "  it may mean that your frontend doesn't currently support widgets.\n",
       "</p>\n"
      ],
      "text/plain": [
       "HBox(children=(IntProgress(value=0, max=300), HTML(value='')))"
      ]
     },
     "metadata": {},
     "output_type": "display_data"
    },
    {
     "name": "stdout",
     "output_type": "stream",
     "text": [
      "\n",
      "Average beta:  0.14\n"
     ]
    },
    {
     "data": {
      "application/vnd.jupyter.widget-view+json": {
       "model_id": "a5b30477408042168b8e829736e8ea42",
       "version_major": 2,
       "version_minor": 0
      },
      "text/html": [
       "<p>Failed to display Jupyter Widget of type <code>HBox</code>.</p>\n",
       "<p>\n",
       "  If you're reading this message in the Jupyter Notebook or JupyterLab Notebook, it may mean\n",
       "  that the widgets JavaScript is still loading. If this message persists, it\n",
       "  likely means that the widgets JavaScript library is either not installed or\n",
       "  not enabled. See the <a href=\"https://ipywidgets.readthedocs.io/en/stable/user_install.html\">Jupyter\n",
       "  Widgets Documentation</a> for setup instructions.\n",
       "</p>\n",
       "<p>\n",
       "  If you're reading this message in another frontend (for example, a static\n",
       "  rendering on GitHub or <a href=\"https://nbviewer.jupyter.org/\">NBViewer</a>),\n",
       "  it may mean that your frontend doesn't currently support widgets.\n",
       "</p>\n"
      ],
      "text/plain": [
       "HBox(children=(IntProgress(value=0, max=300), HTML(value='')))"
      ]
     },
     "metadata": {},
     "output_type": "display_data"
    },
    {
     "name": "stdout",
     "output_type": "stream",
     "text": [
      "\n",
      "Average beta:  0.12\n"
     ]
    },
    {
     "data": {
      "application/vnd.jupyter.widget-view+json": {
       "model_id": "5516577e3b0c4dfc91015cc885efb57e",
       "version_major": 2,
       "version_minor": 0
      },
      "text/html": [
       "<p>Failed to display Jupyter Widget of type <code>HBox</code>.</p>\n",
       "<p>\n",
       "  If you're reading this message in the Jupyter Notebook or JupyterLab Notebook, it may mean\n",
       "  that the widgets JavaScript is still loading. If this message persists, it\n",
       "  likely means that the widgets JavaScript library is either not installed or\n",
       "  not enabled. See the <a href=\"https://ipywidgets.readthedocs.io/en/stable/user_install.html\">Jupyter\n",
       "  Widgets Documentation</a> for setup instructions.\n",
       "</p>\n",
       "<p>\n",
       "  If you're reading this message in another frontend (for example, a static\n",
       "  rendering on GitHub or <a href=\"https://nbviewer.jupyter.org/\">NBViewer</a>),\n",
       "  it may mean that your frontend doesn't currently support widgets.\n",
       "</p>\n"
      ],
      "text/plain": [
       "HBox(children=(IntProgress(value=0, max=300), HTML(value='')))"
      ]
     },
     "metadata": {},
     "output_type": "display_data"
    },
    {
     "name": "stdout",
     "output_type": "stream",
     "text": [
      "\n",
      "sim:4\n",
      "Average beta:  0.24\n"
     ]
    },
    {
     "data": {
      "application/vnd.jupyter.widget-view+json": {
       "model_id": "82d97a812c3440658f3571a023b1af88",
       "version_major": 2,
       "version_minor": 0
      },
      "text/html": [
       "<p>Failed to display Jupyter Widget of type <code>HBox</code>.</p>\n",
       "<p>\n",
       "  If you're reading this message in the Jupyter Notebook or JupyterLab Notebook, it may mean\n",
       "  that the widgets JavaScript is still loading. If this message persists, it\n",
       "  likely means that the widgets JavaScript library is either not installed or\n",
       "  not enabled. See the <a href=\"https://ipywidgets.readthedocs.io/en/stable/user_install.html\">Jupyter\n",
       "  Widgets Documentation</a> for setup instructions.\n",
       "</p>\n",
       "<p>\n",
       "  If you're reading this message in another frontend (for example, a static\n",
       "  rendering on GitHub or <a href=\"https://nbviewer.jupyter.org/\">NBViewer</a>),\n",
       "  it may mean that your frontend doesn't currently support widgets.\n",
       "</p>\n"
      ],
      "text/plain": [
       "HBox(children=(IntProgress(value=0, max=300), HTML(value='')))"
      ]
     },
     "metadata": {},
     "output_type": "display_data"
    },
    {
     "name": "stdout",
     "output_type": "stream",
     "text": [
      "\n",
      "Average beta:  0.24\n"
     ]
    },
    {
     "data": {
      "application/vnd.jupyter.widget-view+json": {
       "model_id": "948c721a5ac34a92937a3f47e5aec986",
       "version_major": 2,
       "version_minor": 0
      },
      "text/html": [
       "<p>Failed to display Jupyter Widget of type <code>HBox</code>.</p>\n",
       "<p>\n",
       "  If you're reading this message in the Jupyter Notebook or JupyterLab Notebook, it may mean\n",
       "  that the widgets JavaScript is still loading. If this message persists, it\n",
       "  likely means that the widgets JavaScript library is either not installed or\n",
       "  not enabled. See the <a href=\"https://ipywidgets.readthedocs.io/en/stable/user_install.html\">Jupyter\n",
       "  Widgets Documentation</a> for setup instructions.\n",
       "</p>\n",
       "<p>\n",
       "  If you're reading this message in another frontend (for example, a static\n",
       "  rendering on GitHub or <a href=\"https://nbviewer.jupyter.org/\">NBViewer</a>),\n",
       "  it may mean that your frontend doesn't currently support widgets.\n",
       "</p>\n"
      ],
      "text/plain": [
       "HBox(children=(IntProgress(value=0, max=300), HTML(value='')))"
      ]
     },
     "metadata": {},
     "output_type": "display_data"
    },
    {
     "name": "stdout",
     "output_type": "stream",
     "text": [
      "\n",
      "Average beta:  0.2\n"
     ]
    },
    {
     "data": {
      "application/vnd.jupyter.widget-view+json": {
       "model_id": "ee5f83830e414fe0afaadd96999311d0",
       "version_major": 2,
       "version_minor": 0
      },
      "text/html": [
       "<p>Failed to display Jupyter Widget of type <code>HBox</code>.</p>\n",
       "<p>\n",
       "  If you're reading this message in the Jupyter Notebook or JupyterLab Notebook, it may mean\n",
       "  that the widgets JavaScript is still loading. If this message persists, it\n",
       "  likely means that the widgets JavaScript library is either not installed or\n",
       "  not enabled. See the <a href=\"https://ipywidgets.readthedocs.io/en/stable/user_install.html\">Jupyter\n",
       "  Widgets Documentation</a> for setup instructions.\n",
       "</p>\n",
       "<p>\n",
       "  If you're reading this message in another frontend (for example, a static\n",
       "  rendering on GitHub or <a href=\"https://nbviewer.jupyter.org/\">NBViewer</a>),\n",
       "  it may mean that your frontend doesn't currently support widgets.\n",
       "</p>\n"
      ],
      "text/plain": [
       "HBox(children=(IntProgress(value=0, max=300), HTML(value='')))"
      ]
     },
     "metadata": {},
     "output_type": "display_data"
    },
    {
     "name": "stdout",
     "output_type": "stream",
     "text": [
      "\n",
      "Average beta:  0.165\n"
     ]
    },
    {
     "data": {
      "application/vnd.jupyter.widget-view+json": {
       "model_id": "6ead5cf0e8b24c4280d49a5ab56419bf",
       "version_major": 2,
       "version_minor": 0
      },
      "text/html": [
       "<p>Failed to display Jupyter Widget of type <code>HBox</code>.</p>\n",
       "<p>\n",
       "  If you're reading this message in the Jupyter Notebook or JupyterLab Notebook, it may mean\n",
       "  that the widgets JavaScript is still loading. If this message persists, it\n",
       "  likely means that the widgets JavaScript library is either not installed or\n",
       "  not enabled. See the <a href=\"https://ipywidgets.readthedocs.io/en/stable/user_install.html\">Jupyter\n",
       "  Widgets Documentation</a> for setup instructions.\n",
       "</p>\n",
       "<p>\n",
       "  If you're reading this message in another frontend (for example, a static\n",
       "  rendering on GitHub or <a href=\"https://nbviewer.jupyter.org/\">NBViewer</a>),\n",
       "  it may mean that your frontend doesn't currently support widgets.\n",
       "</p>\n"
      ],
      "text/plain": [
       "HBox(children=(IntProgress(value=0, max=300), HTML(value='')))"
      ]
     },
     "metadata": {},
     "output_type": "display_data"
    },
    {
     "name": "stdout",
     "output_type": "stream",
     "text": [
      "\n",
      "Average beta:  0.14\n"
     ]
    },
    {
     "data": {
      "application/vnd.jupyter.widget-view+json": {
       "model_id": "2cdd31792f1342969b4dd52e5c032458",
       "version_major": 2,
       "version_minor": 0
      },
      "text/html": [
       "<p>Failed to display Jupyter Widget of type <code>HBox</code>.</p>\n",
       "<p>\n",
       "  If you're reading this message in the Jupyter Notebook or JupyterLab Notebook, it may mean\n",
       "  that the widgets JavaScript is still loading. If this message persists, it\n",
       "  likely means that the widgets JavaScript library is either not installed or\n",
       "  not enabled. See the <a href=\"https://ipywidgets.readthedocs.io/en/stable/user_install.html\">Jupyter\n",
       "  Widgets Documentation</a> for setup instructions.\n",
       "</p>\n",
       "<p>\n",
       "  If you're reading this message in another frontend (for example, a static\n",
       "  rendering on GitHub or <a href=\"https://nbviewer.jupyter.org/\">NBViewer</a>),\n",
       "  it may mean that your frontend doesn't currently support widgets.\n",
       "</p>\n"
      ],
      "text/plain": [
       "HBox(children=(IntProgress(value=0, max=300), HTML(value='')))"
      ]
     },
     "metadata": {},
     "output_type": "display_data"
    },
    {
     "name": "stdout",
     "output_type": "stream",
     "text": [
      "\n",
      "Average beta:  0.12\n"
     ]
    },
    {
     "data": {
      "application/vnd.jupyter.widget-view+json": {
       "model_id": "98c2234a2d1b4aa58f4c7cba75eace0c",
       "version_major": 2,
       "version_minor": 0
      },
      "text/html": [
       "<p>Failed to display Jupyter Widget of type <code>HBox</code>.</p>\n",
       "<p>\n",
       "  If you're reading this message in the Jupyter Notebook or JupyterLab Notebook, it may mean\n",
       "  that the widgets JavaScript is still loading. If this message persists, it\n",
       "  likely means that the widgets JavaScript library is either not installed or\n",
       "  not enabled. See the <a href=\"https://ipywidgets.readthedocs.io/en/stable/user_install.html\">Jupyter\n",
       "  Widgets Documentation</a> for setup instructions.\n",
       "</p>\n",
       "<p>\n",
       "  If you're reading this message in another frontend (for example, a static\n",
       "  rendering on GitHub or <a href=\"https://nbviewer.jupyter.org/\">NBViewer</a>),\n",
       "  it may mean that your frontend doesn't currently support widgets.\n",
       "</p>\n"
      ],
      "text/plain": [
       "HBox(children=(IntProgress(value=0, max=300), HTML(value='')))"
      ]
     },
     "metadata": {},
     "output_type": "display_data"
    },
    {
     "name": "stdout",
     "output_type": "stream",
     "text": [
      "\n",
      "sim:5\n",
      "Average beta:  0.24\n"
     ]
    },
    {
     "data": {
      "application/vnd.jupyter.widget-view+json": {
       "model_id": "676eb8073516497ebb91e2e304d11c39",
       "version_major": 2,
       "version_minor": 0
      },
      "text/html": [
       "<p>Failed to display Jupyter Widget of type <code>HBox</code>.</p>\n",
       "<p>\n",
       "  If you're reading this message in the Jupyter Notebook or JupyterLab Notebook, it may mean\n",
       "  that the widgets JavaScript is still loading. If this message persists, it\n",
       "  likely means that the widgets JavaScript library is either not installed or\n",
       "  not enabled. See the <a href=\"https://ipywidgets.readthedocs.io/en/stable/user_install.html\">Jupyter\n",
       "  Widgets Documentation</a> for setup instructions.\n",
       "</p>\n",
       "<p>\n",
       "  If you're reading this message in another frontend (for example, a static\n",
       "  rendering on GitHub or <a href=\"https://nbviewer.jupyter.org/\">NBViewer</a>),\n",
       "  it may mean that your frontend doesn't currently support widgets.\n",
       "</p>\n"
      ],
      "text/plain": [
       "HBox(children=(IntProgress(value=0, max=300), HTML(value='')))"
      ]
     },
     "metadata": {},
     "output_type": "display_data"
    },
    {
     "name": "stdout",
     "output_type": "stream",
     "text": [
      "\n",
      "Average beta:  0.24\n"
     ]
    },
    {
     "data": {
      "application/vnd.jupyter.widget-view+json": {
       "model_id": "f0307375719f4a09839b64c03fc04884",
       "version_major": 2,
       "version_minor": 0
      },
      "text/html": [
       "<p>Failed to display Jupyter Widget of type <code>HBox</code>.</p>\n",
       "<p>\n",
       "  If you're reading this message in the Jupyter Notebook or JupyterLab Notebook, it may mean\n",
       "  that the widgets JavaScript is still loading. If this message persists, it\n",
       "  likely means that the widgets JavaScript library is either not installed or\n",
       "  not enabled. See the <a href=\"https://ipywidgets.readthedocs.io/en/stable/user_install.html\">Jupyter\n",
       "  Widgets Documentation</a> for setup instructions.\n",
       "</p>\n",
       "<p>\n",
       "  If you're reading this message in another frontend (for example, a static\n",
       "  rendering on GitHub or <a href=\"https://nbviewer.jupyter.org/\">NBViewer</a>),\n",
       "  it may mean that your frontend doesn't currently support widgets.\n",
       "</p>\n"
      ],
      "text/plain": [
       "HBox(children=(IntProgress(value=0, max=300), HTML(value='')))"
      ]
     },
     "metadata": {},
     "output_type": "display_data"
    },
    {
     "name": "stdout",
     "output_type": "stream",
     "text": [
      "\n",
      "Average beta:  0.2\n"
     ]
    },
    {
     "data": {
      "application/vnd.jupyter.widget-view+json": {
       "model_id": "c25535bc32a943ceaa7e684d27ec6d9f",
       "version_major": 2,
       "version_minor": 0
      },
      "text/html": [
       "<p>Failed to display Jupyter Widget of type <code>HBox</code>.</p>\n",
       "<p>\n",
       "  If you're reading this message in the Jupyter Notebook or JupyterLab Notebook, it may mean\n",
       "  that the widgets JavaScript is still loading. If this message persists, it\n",
       "  likely means that the widgets JavaScript library is either not installed or\n",
       "  not enabled. See the <a href=\"https://ipywidgets.readthedocs.io/en/stable/user_install.html\">Jupyter\n",
       "  Widgets Documentation</a> for setup instructions.\n",
       "</p>\n",
       "<p>\n",
       "  If you're reading this message in another frontend (for example, a static\n",
       "  rendering on GitHub or <a href=\"https://nbviewer.jupyter.org/\">NBViewer</a>),\n",
       "  it may mean that your frontend doesn't currently support widgets.\n",
       "</p>\n"
      ],
      "text/plain": [
       "HBox(children=(IntProgress(value=0, max=300), HTML(value='')))"
      ]
     },
     "metadata": {},
     "output_type": "display_data"
    },
    {
     "name": "stdout",
     "output_type": "stream",
     "text": [
      "\n",
      "Average beta:  0.165\n"
     ]
    },
    {
     "data": {
      "application/vnd.jupyter.widget-view+json": {
       "model_id": "0c0c96ab58ad4cbda4a03cdcd1331678",
       "version_major": 2,
       "version_minor": 0
      },
      "text/html": [
       "<p>Failed to display Jupyter Widget of type <code>HBox</code>.</p>\n",
       "<p>\n",
       "  If you're reading this message in the Jupyter Notebook or JupyterLab Notebook, it may mean\n",
       "  that the widgets JavaScript is still loading. If this message persists, it\n",
       "  likely means that the widgets JavaScript library is either not installed or\n",
       "  not enabled. See the <a href=\"https://ipywidgets.readthedocs.io/en/stable/user_install.html\">Jupyter\n",
       "  Widgets Documentation</a> for setup instructions.\n",
       "</p>\n",
       "<p>\n",
       "  If you're reading this message in another frontend (for example, a static\n",
       "  rendering on GitHub or <a href=\"https://nbviewer.jupyter.org/\">NBViewer</a>),\n",
       "  it may mean that your frontend doesn't currently support widgets.\n",
       "</p>\n"
      ],
      "text/plain": [
       "HBox(children=(IntProgress(value=0, max=300), HTML(value='')))"
      ]
     },
     "metadata": {},
     "output_type": "display_data"
    },
    {
     "name": "stdout",
     "output_type": "stream",
     "text": [
      "\n",
      "Average beta:  0.14\n"
     ]
    },
    {
     "data": {
      "application/vnd.jupyter.widget-view+json": {
       "model_id": "80c38f4bd83d42deab4abe7623ab8996",
       "version_major": 2,
       "version_minor": 0
      },
      "text/html": [
       "<p>Failed to display Jupyter Widget of type <code>HBox</code>.</p>\n",
       "<p>\n",
       "  If you're reading this message in the Jupyter Notebook or JupyterLab Notebook, it may mean\n",
       "  that the widgets JavaScript is still loading. If this message persists, it\n",
       "  likely means that the widgets JavaScript library is either not installed or\n",
       "  not enabled. See the <a href=\"https://ipywidgets.readthedocs.io/en/stable/user_install.html\">Jupyter\n",
       "  Widgets Documentation</a> for setup instructions.\n",
       "</p>\n",
       "<p>\n",
       "  If you're reading this message in another frontend (for example, a static\n",
       "  rendering on GitHub or <a href=\"https://nbviewer.jupyter.org/\">NBViewer</a>),\n",
       "  it may mean that your frontend doesn't currently support widgets.\n",
       "</p>\n"
      ],
      "text/plain": [
       "HBox(children=(IntProgress(value=0, max=300), HTML(value='')))"
      ]
     },
     "metadata": {},
     "output_type": "display_data"
    },
    {
     "name": "stdout",
     "output_type": "stream",
     "text": [
      "\n",
      "Average beta:  0.12\n"
     ]
    },
    {
     "data": {
      "application/vnd.jupyter.widget-view+json": {
       "model_id": "4b92b747546c4375a425d450cfa32fe7",
       "version_major": 2,
       "version_minor": 0
      },
      "text/html": [
       "<p>Failed to display Jupyter Widget of type <code>HBox</code>.</p>\n",
       "<p>\n",
       "  If you're reading this message in the Jupyter Notebook or JupyterLab Notebook, it may mean\n",
       "  that the widgets JavaScript is still loading. If this message persists, it\n",
       "  likely means that the widgets JavaScript library is either not installed or\n",
       "  not enabled. See the <a href=\"https://ipywidgets.readthedocs.io/en/stable/user_install.html\">Jupyter\n",
       "  Widgets Documentation</a> for setup instructions.\n",
       "</p>\n",
       "<p>\n",
       "  If you're reading this message in another frontend (for example, a static\n",
       "  rendering on GitHub or <a href=\"https://nbviewer.jupyter.org/\">NBViewer</a>),\n",
       "  it may mean that your frontend doesn't currently support widgets.\n",
       "</p>\n"
      ],
      "text/plain": [
       "HBox(children=(IntProgress(value=0, max=300), HTML(value='')))"
      ]
     },
     "metadata": {},
     "output_type": "display_data"
    },
    {
     "name": "stdout",
     "output_type": "stream",
     "text": [
      "\n",
      "sim:6\n",
      "Average beta:  0.24\n"
     ]
    },
    {
     "data": {
      "application/vnd.jupyter.widget-view+json": {
       "model_id": "178b654ba18d4450b72e474e9ca573d1",
       "version_major": 2,
       "version_minor": 0
      },
      "text/html": [
       "<p>Failed to display Jupyter Widget of type <code>HBox</code>.</p>\n",
       "<p>\n",
       "  If you're reading this message in the Jupyter Notebook or JupyterLab Notebook, it may mean\n",
       "  that the widgets JavaScript is still loading. If this message persists, it\n",
       "  likely means that the widgets JavaScript library is either not installed or\n",
       "  not enabled. See the <a href=\"https://ipywidgets.readthedocs.io/en/stable/user_install.html\">Jupyter\n",
       "  Widgets Documentation</a> for setup instructions.\n",
       "</p>\n",
       "<p>\n",
       "  If you're reading this message in another frontend (for example, a static\n",
       "  rendering on GitHub or <a href=\"https://nbviewer.jupyter.org/\">NBViewer</a>),\n",
       "  it may mean that your frontend doesn't currently support widgets.\n",
       "</p>\n"
      ],
      "text/plain": [
       "HBox(children=(IntProgress(value=0, max=300), HTML(value='')))"
      ]
     },
     "metadata": {},
     "output_type": "display_data"
    },
    {
     "name": "stdout",
     "output_type": "stream",
     "text": [
      "\n",
      "Average beta:  0.24\n"
     ]
    },
    {
     "data": {
      "application/vnd.jupyter.widget-view+json": {
       "model_id": "5821980424314b70a9d2686be7f48646",
       "version_major": 2,
       "version_minor": 0
      },
      "text/html": [
       "<p>Failed to display Jupyter Widget of type <code>HBox</code>.</p>\n",
       "<p>\n",
       "  If you're reading this message in the Jupyter Notebook or JupyterLab Notebook, it may mean\n",
       "  that the widgets JavaScript is still loading. If this message persists, it\n",
       "  likely means that the widgets JavaScript library is either not installed or\n",
       "  not enabled. See the <a href=\"https://ipywidgets.readthedocs.io/en/stable/user_install.html\">Jupyter\n",
       "  Widgets Documentation</a> for setup instructions.\n",
       "</p>\n",
       "<p>\n",
       "  If you're reading this message in another frontend (for example, a static\n",
       "  rendering on GitHub or <a href=\"https://nbviewer.jupyter.org/\">NBViewer</a>),\n",
       "  it may mean that your frontend doesn't currently support widgets.\n",
       "</p>\n"
      ],
      "text/plain": [
       "HBox(children=(IntProgress(value=0, max=300), HTML(value='')))"
      ]
     },
     "metadata": {},
     "output_type": "display_data"
    },
    {
     "name": "stdout",
     "output_type": "stream",
     "text": [
      "\n",
      "Average beta:  0.2\n"
     ]
    },
    {
     "data": {
      "application/vnd.jupyter.widget-view+json": {
       "model_id": "0cdde411edca406db265aee2cf6bc38f",
       "version_major": 2,
       "version_minor": 0
      },
      "text/html": [
       "<p>Failed to display Jupyter Widget of type <code>HBox</code>.</p>\n",
       "<p>\n",
       "  If you're reading this message in the Jupyter Notebook or JupyterLab Notebook, it may mean\n",
       "  that the widgets JavaScript is still loading. If this message persists, it\n",
       "  likely means that the widgets JavaScript library is either not installed or\n",
       "  not enabled. See the <a href=\"https://ipywidgets.readthedocs.io/en/stable/user_install.html\">Jupyter\n",
       "  Widgets Documentation</a> for setup instructions.\n",
       "</p>\n",
       "<p>\n",
       "  If you're reading this message in another frontend (for example, a static\n",
       "  rendering on GitHub or <a href=\"https://nbviewer.jupyter.org/\">NBViewer</a>),\n",
       "  it may mean that your frontend doesn't currently support widgets.\n",
       "</p>\n"
      ],
      "text/plain": [
       "HBox(children=(IntProgress(value=0, max=300), HTML(value='')))"
      ]
     },
     "metadata": {},
     "output_type": "display_data"
    },
    {
     "name": "stdout",
     "output_type": "stream",
     "text": [
      "\n",
      "Average beta:  0.165\n"
     ]
    },
    {
     "data": {
      "application/vnd.jupyter.widget-view+json": {
       "model_id": "019c1da5189e44afbd65993212525fb0",
       "version_major": 2,
       "version_minor": 0
      },
      "text/html": [
       "<p>Failed to display Jupyter Widget of type <code>HBox</code>.</p>\n",
       "<p>\n",
       "  If you're reading this message in the Jupyter Notebook or JupyterLab Notebook, it may mean\n",
       "  that the widgets JavaScript is still loading. If this message persists, it\n",
       "  likely means that the widgets JavaScript library is either not installed or\n",
       "  not enabled. See the <a href=\"https://ipywidgets.readthedocs.io/en/stable/user_install.html\">Jupyter\n",
       "  Widgets Documentation</a> for setup instructions.\n",
       "</p>\n",
       "<p>\n",
       "  If you're reading this message in another frontend (for example, a static\n",
       "  rendering on GitHub or <a href=\"https://nbviewer.jupyter.org/\">NBViewer</a>),\n",
       "  it may mean that your frontend doesn't currently support widgets.\n",
       "</p>\n"
      ],
      "text/plain": [
       "HBox(children=(IntProgress(value=0, max=300), HTML(value='')))"
      ]
     },
     "metadata": {},
     "output_type": "display_data"
    },
    {
     "name": "stdout",
     "output_type": "stream",
     "text": [
      "\n",
      "Average beta:  0.14\n"
     ]
    },
    {
     "data": {
      "application/vnd.jupyter.widget-view+json": {
       "model_id": "0accf606c8194dc485e3327f7b375a5e",
       "version_major": 2,
       "version_minor": 0
      },
      "text/html": [
       "<p>Failed to display Jupyter Widget of type <code>HBox</code>.</p>\n",
       "<p>\n",
       "  If you're reading this message in the Jupyter Notebook or JupyterLab Notebook, it may mean\n",
       "  that the widgets JavaScript is still loading. If this message persists, it\n",
       "  likely means that the widgets JavaScript library is either not installed or\n",
       "  not enabled. See the <a href=\"https://ipywidgets.readthedocs.io/en/stable/user_install.html\">Jupyter\n",
       "  Widgets Documentation</a> for setup instructions.\n",
       "</p>\n",
       "<p>\n",
       "  If you're reading this message in another frontend (for example, a static\n",
       "  rendering on GitHub or <a href=\"https://nbviewer.jupyter.org/\">NBViewer</a>),\n",
       "  it may mean that your frontend doesn't currently support widgets.\n",
       "</p>\n"
      ],
      "text/plain": [
       "HBox(children=(IntProgress(value=0, max=300), HTML(value='')))"
      ]
     },
     "metadata": {},
     "output_type": "display_data"
    },
    {
     "name": "stdout",
     "output_type": "stream",
     "text": [
      "\n",
      "Average beta:  0.12\n"
     ]
    },
    {
     "data": {
      "application/vnd.jupyter.widget-view+json": {
       "model_id": "240d6fe0520b4ecba9289a82b72d06f3",
       "version_major": 2,
       "version_minor": 0
      },
      "text/html": [
       "<p>Failed to display Jupyter Widget of type <code>HBox</code>.</p>\n",
       "<p>\n",
       "  If you're reading this message in the Jupyter Notebook or JupyterLab Notebook, it may mean\n",
       "  that the widgets JavaScript is still loading. If this message persists, it\n",
       "  likely means that the widgets JavaScript library is either not installed or\n",
       "  not enabled. See the <a href=\"https://ipywidgets.readthedocs.io/en/stable/user_install.html\">Jupyter\n",
       "  Widgets Documentation</a> for setup instructions.\n",
       "</p>\n",
       "<p>\n",
       "  If you're reading this message in another frontend (for example, a static\n",
       "  rendering on GitHub or <a href=\"https://nbviewer.jupyter.org/\">NBViewer</a>),\n",
       "  it may mean that your frontend doesn't currently support widgets.\n",
       "</p>\n"
      ],
      "text/plain": [
       "HBox(children=(IntProgress(value=0, max=300), HTML(value='')))"
      ]
     },
     "metadata": {},
     "output_type": "display_data"
    },
    {
     "name": "stdout",
     "output_type": "stream",
     "text": [
      "\n",
      "sim:7\n",
      "Average beta:  0.24\n"
     ]
    },
    {
     "data": {
      "application/vnd.jupyter.widget-view+json": {
       "model_id": "215ec13ef595464c86cf8b6626c1b929",
       "version_major": 2,
       "version_minor": 0
      },
      "text/html": [
       "<p>Failed to display Jupyter Widget of type <code>HBox</code>.</p>\n",
       "<p>\n",
       "  If you're reading this message in the Jupyter Notebook or JupyterLab Notebook, it may mean\n",
       "  that the widgets JavaScript is still loading. If this message persists, it\n",
       "  likely means that the widgets JavaScript library is either not installed or\n",
       "  not enabled. See the <a href=\"https://ipywidgets.readthedocs.io/en/stable/user_install.html\">Jupyter\n",
       "  Widgets Documentation</a> for setup instructions.\n",
       "</p>\n",
       "<p>\n",
       "  If you're reading this message in another frontend (for example, a static\n",
       "  rendering on GitHub or <a href=\"https://nbviewer.jupyter.org/\">NBViewer</a>),\n",
       "  it may mean that your frontend doesn't currently support widgets.\n",
       "</p>\n"
      ],
      "text/plain": [
       "HBox(children=(IntProgress(value=0, max=300), HTML(value='')))"
      ]
     },
     "metadata": {},
     "output_type": "display_data"
    },
    {
     "name": "stdout",
     "output_type": "stream",
     "text": [
      "\n",
      "Average beta:  0.24\n"
     ]
    },
    {
     "data": {
      "application/vnd.jupyter.widget-view+json": {
       "model_id": "5426aced6c754f6d8b89401b73f2a37e",
       "version_major": 2,
       "version_minor": 0
      },
      "text/html": [
       "<p>Failed to display Jupyter Widget of type <code>HBox</code>.</p>\n",
       "<p>\n",
       "  If you're reading this message in the Jupyter Notebook or JupyterLab Notebook, it may mean\n",
       "  that the widgets JavaScript is still loading. If this message persists, it\n",
       "  likely means that the widgets JavaScript library is either not installed or\n",
       "  not enabled. See the <a href=\"https://ipywidgets.readthedocs.io/en/stable/user_install.html\">Jupyter\n",
       "  Widgets Documentation</a> for setup instructions.\n",
       "</p>\n",
       "<p>\n",
       "  If you're reading this message in another frontend (for example, a static\n",
       "  rendering on GitHub or <a href=\"https://nbviewer.jupyter.org/\">NBViewer</a>),\n",
       "  it may mean that your frontend doesn't currently support widgets.\n",
       "</p>\n"
      ],
      "text/plain": [
       "HBox(children=(IntProgress(value=0, max=300), HTML(value='')))"
      ]
     },
     "metadata": {},
     "output_type": "display_data"
    },
    {
     "name": "stdout",
     "output_type": "stream",
     "text": [
      "\n",
      "Average beta:  0.2\n"
     ]
    },
    {
     "data": {
      "application/vnd.jupyter.widget-view+json": {
       "model_id": "22221171c39e4b8799327c15bb2ce33a",
       "version_major": 2,
       "version_minor": 0
      },
      "text/html": [
       "<p>Failed to display Jupyter Widget of type <code>HBox</code>.</p>\n",
       "<p>\n",
       "  If you're reading this message in the Jupyter Notebook or JupyterLab Notebook, it may mean\n",
       "  that the widgets JavaScript is still loading. If this message persists, it\n",
       "  likely means that the widgets JavaScript library is either not installed or\n",
       "  not enabled. See the <a href=\"https://ipywidgets.readthedocs.io/en/stable/user_install.html\">Jupyter\n",
       "  Widgets Documentation</a> for setup instructions.\n",
       "</p>\n",
       "<p>\n",
       "  If you're reading this message in another frontend (for example, a static\n",
       "  rendering on GitHub or <a href=\"https://nbviewer.jupyter.org/\">NBViewer</a>),\n",
       "  it may mean that your frontend doesn't currently support widgets.\n",
       "</p>\n"
      ],
      "text/plain": [
       "HBox(children=(IntProgress(value=0, max=300), HTML(value='')))"
      ]
     },
     "metadata": {},
     "output_type": "display_data"
    },
    {
     "name": "stdout",
     "output_type": "stream",
     "text": [
      "\n",
      "Average beta:  0.165\n"
     ]
    },
    {
     "data": {
      "application/vnd.jupyter.widget-view+json": {
       "model_id": "417418351b55434c8aa202ce1186b3e3",
       "version_major": 2,
       "version_minor": 0
      },
      "text/html": [
       "<p>Failed to display Jupyter Widget of type <code>HBox</code>.</p>\n",
       "<p>\n",
       "  If you're reading this message in the Jupyter Notebook or JupyterLab Notebook, it may mean\n",
       "  that the widgets JavaScript is still loading. If this message persists, it\n",
       "  likely means that the widgets JavaScript library is either not installed or\n",
       "  not enabled. See the <a href=\"https://ipywidgets.readthedocs.io/en/stable/user_install.html\">Jupyter\n",
       "  Widgets Documentation</a> for setup instructions.\n",
       "</p>\n",
       "<p>\n",
       "  If you're reading this message in another frontend (for example, a static\n",
       "  rendering on GitHub or <a href=\"https://nbviewer.jupyter.org/\">NBViewer</a>),\n",
       "  it may mean that your frontend doesn't currently support widgets.\n",
       "</p>\n"
      ],
      "text/plain": [
       "HBox(children=(IntProgress(value=0, max=300), HTML(value='')))"
      ]
     },
     "metadata": {},
     "output_type": "display_data"
    },
    {
     "name": "stdout",
     "output_type": "stream",
     "text": [
      "\n",
      "Average beta:  0.14\n"
     ]
    },
    {
     "data": {
      "application/vnd.jupyter.widget-view+json": {
       "model_id": "a3030a5dd65f4ebc9b0c9438cf12e85e",
       "version_major": 2,
       "version_minor": 0
      },
      "text/html": [
       "<p>Failed to display Jupyter Widget of type <code>HBox</code>.</p>\n",
       "<p>\n",
       "  If you're reading this message in the Jupyter Notebook or JupyterLab Notebook, it may mean\n",
       "  that the widgets JavaScript is still loading. If this message persists, it\n",
       "  likely means that the widgets JavaScript library is either not installed or\n",
       "  not enabled. See the <a href=\"https://ipywidgets.readthedocs.io/en/stable/user_install.html\">Jupyter\n",
       "  Widgets Documentation</a> for setup instructions.\n",
       "</p>\n",
       "<p>\n",
       "  If you're reading this message in another frontend (for example, a static\n",
       "  rendering on GitHub or <a href=\"https://nbviewer.jupyter.org/\">NBViewer</a>),\n",
       "  it may mean that your frontend doesn't currently support widgets.\n",
       "</p>\n"
      ],
      "text/plain": [
       "HBox(children=(IntProgress(value=0, max=300), HTML(value='')))"
      ]
     },
     "metadata": {},
     "output_type": "display_data"
    },
    {
     "name": "stdout",
     "output_type": "stream",
     "text": [
      "\n",
      "Average beta:  0.12\n"
     ]
    },
    {
     "data": {
      "application/vnd.jupyter.widget-view+json": {
       "model_id": "ef4a92f183c4466c97bd553a6ce76585",
       "version_major": 2,
       "version_minor": 0
      },
      "text/html": [
       "<p>Failed to display Jupyter Widget of type <code>HBox</code>.</p>\n",
       "<p>\n",
       "  If you're reading this message in the Jupyter Notebook or JupyterLab Notebook, it may mean\n",
       "  that the widgets JavaScript is still loading. If this message persists, it\n",
       "  likely means that the widgets JavaScript library is either not installed or\n",
       "  not enabled. See the <a href=\"https://ipywidgets.readthedocs.io/en/stable/user_install.html\">Jupyter\n",
       "  Widgets Documentation</a> for setup instructions.\n",
       "</p>\n",
       "<p>\n",
       "  If you're reading this message in another frontend (for example, a static\n",
       "  rendering on GitHub or <a href=\"https://nbviewer.jupyter.org/\">NBViewer</a>),\n",
       "  it may mean that your frontend doesn't currently support widgets.\n",
       "</p>\n"
      ],
      "text/plain": [
       "HBox(children=(IntProgress(value=0, max=300), HTML(value='')))"
      ]
     },
     "metadata": {},
     "output_type": "display_data"
    },
    {
     "name": "stdout",
     "output_type": "stream",
     "text": [
      "\n",
      "sim:8\n",
      "Average beta:  0.24\n"
     ]
    },
    {
     "data": {
      "application/vnd.jupyter.widget-view+json": {
       "model_id": "0bb546f5bfe348eeafbeeb0121419bd1",
       "version_major": 2,
       "version_minor": 0
      },
      "text/html": [
       "<p>Failed to display Jupyter Widget of type <code>HBox</code>.</p>\n",
       "<p>\n",
       "  If you're reading this message in the Jupyter Notebook or JupyterLab Notebook, it may mean\n",
       "  that the widgets JavaScript is still loading. If this message persists, it\n",
       "  likely means that the widgets JavaScript library is either not installed or\n",
       "  not enabled. See the <a href=\"https://ipywidgets.readthedocs.io/en/stable/user_install.html\">Jupyter\n",
       "  Widgets Documentation</a> for setup instructions.\n",
       "</p>\n",
       "<p>\n",
       "  If you're reading this message in another frontend (for example, a static\n",
       "  rendering on GitHub or <a href=\"https://nbviewer.jupyter.org/\">NBViewer</a>),\n",
       "  it may mean that your frontend doesn't currently support widgets.\n",
       "</p>\n"
      ],
      "text/plain": [
       "HBox(children=(IntProgress(value=0, max=300), HTML(value='')))"
      ]
     },
     "metadata": {},
     "output_type": "display_data"
    },
    {
     "name": "stdout",
     "output_type": "stream",
     "text": [
      "\n",
      "Average beta:  0.24\n"
     ]
    },
    {
     "data": {
      "application/vnd.jupyter.widget-view+json": {
       "model_id": "3d0c8de488614ba883cc607b04f2c1ec",
       "version_major": 2,
       "version_minor": 0
      },
      "text/html": [
       "<p>Failed to display Jupyter Widget of type <code>HBox</code>.</p>\n",
       "<p>\n",
       "  If you're reading this message in the Jupyter Notebook or JupyterLab Notebook, it may mean\n",
       "  that the widgets JavaScript is still loading. If this message persists, it\n",
       "  likely means that the widgets JavaScript library is either not installed or\n",
       "  not enabled. See the <a href=\"https://ipywidgets.readthedocs.io/en/stable/user_install.html\">Jupyter\n",
       "  Widgets Documentation</a> for setup instructions.\n",
       "</p>\n",
       "<p>\n",
       "  If you're reading this message in another frontend (for example, a static\n",
       "  rendering on GitHub or <a href=\"https://nbviewer.jupyter.org/\">NBViewer</a>),\n",
       "  it may mean that your frontend doesn't currently support widgets.\n",
       "</p>\n"
      ],
      "text/plain": [
       "HBox(children=(IntProgress(value=0, max=300), HTML(value='')))"
      ]
     },
     "metadata": {},
     "output_type": "display_data"
    },
    {
     "name": "stdout",
     "output_type": "stream",
     "text": [
      "\n",
      "Average beta:  0.2\n"
     ]
    },
    {
     "data": {
      "application/vnd.jupyter.widget-view+json": {
       "model_id": "c1ffe04044db462e92bfa6bdf768b086",
       "version_major": 2,
       "version_minor": 0
      },
      "text/html": [
       "<p>Failed to display Jupyter Widget of type <code>HBox</code>.</p>\n",
       "<p>\n",
       "  If you're reading this message in the Jupyter Notebook or JupyterLab Notebook, it may mean\n",
       "  that the widgets JavaScript is still loading. If this message persists, it\n",
       "  likely means that the widgets JavaScript library is either not installed or\n",
       "  not enabled. See the <a href=\"https://ipywidgets.readthedocs.io/en/stable/user_install.html\">Jupyter\n",
       "  Widgets Documentation</a> for setup instructions.\n",
       "</p>\n",
       "<p>\n",
       "  If you're reading this message in another frontend (for example, a static\n",
       "  rendering on GitHub or <a href=\"https://nbviewer.jupyter.org/\">NBViewer</a>),\n",
       "  it may mean that your frontend doesn't currently support widgets.\n",
       "</p>\n"
      ],
      "text/plain": [
       "HBox(children=(IntProgress(value=0, max=300), HTML(value='')))"
      ]
     },
     "metadata": {},
     "output_type": "display_data"
    },
    {
     "name": "stdout",
     "output_type": "stream",
     "text": [
      "\n",
      "Average beta:  0.165\n"
     ]
    },
    {
     "data": {
      "application/vnd.jupyter.widget-view+json": {
       "model_id": "a1d0527445854a059a766e5b828b4513",
       "version_major": 2,
       "version_minor": 0
      },
      "text/html": [
       "<p>Failed to display Jupyter Widget of type <code>HBox</code>.</p>\n",
       "<p>\n",
       "  If you're reading this message in the Jupyter Notebook or JupyterLab Notebook, it may mean\n",
       "  that the widgets JavaScript is still loading. If this message persists, it\n",
       "  likely means that the widgets JavaScript library is either not installed or\n",
       "  not enabled. See the <a href=\"https://ipywidgets.readthedocs.io/en/stable/user_install.html\">Jupyter\n",
       "  Widgets Documentation</a> for setup instructions.\n",
       "</p>\n",
       "<p>\n",
       "  If you're reading this message in another frontend (for example, a static\n",
       "  rendering on GitHub or <a href=\"https://nbviewer.jupyter.org/\">NBViewer</a>),\n",
       "  it may mean that your frontend doesn't currently support widgets.\n",
       "</p>\n"
      ],
      "text/plain": [
       "HBox(children=(IntProgress(value=0, max=300), HTML(value='')))"
      ]
     },
     "metadata": {},
     "output_type": "display_data"
    },
    {
     "name": "stdout",
     "output_type": "stream",
     "text": [
      "\n",
      "Average beta:  0.14\n"
     ]
    },
    {
     "data": {
      "application/vnd.jupyter.widget-view+json": {
       "model_id": "863f9d04399a444f98897d2f513a4461",
       "version_major": 2,
       "version_minor": 0
      },
      "text/html": [
       "<p>Failed to display Jupyter Widget of type <code>HBox</code>.</p>\n",
       "<p>\n",
       "  If you're reading this message in the Jupyter Notebook or JupyterLab Notebook, it may mean\n",
       "  that the widgets JavaScript is still loading. If this message persists, it\n",
       "  likely means that the widgets JavaScript library is either not installed or\n",
       "  not enabled. See the <a href=\"https://ipywidgets.readthedocs.io/en/stable/user_install.html\">Jupyter\n",
       "  Widgets Documentation</a> for setup instructions.\n",
       "</p>\n",
       "<p>\n",
       "  If you're reading this message in another frontend (for example, a static\n",
       "  rendering on GitHub or <a href=\"https://nbviewer.jupyter.org/\">NBViewer</a>),\n",
       "  it may mean that your frontend doesn't currently support widgets.\n",
       "</p>\n"
      ],
      "text/plain": [
       "HBox(children=(IntProgress(value=0, max=300), HTML(value='')))"
      ]
     },
     "metadata": {},
     "output_type": "display_data"
    },
    {
     "name": "stdout",
     "output_type": "stream",
     "text": [
      "\n",
      "Average beta:  0.12\n"
     ]
    },
    {
     "data": {
      "application/vnd.jupyter.widget-view+json": {
       "model_id": "80c586f74926438cab6c3d0efe65f7d1",
       "version_major": 2,
       "version_minor": 0
      },
      "text/html": [
       "<p>Failed to display Jupyter Widget of type <code>HBox</code>.</p>\n",
       "<p>\n",
       "  If you're reading this message in the Jupyter Notebook or JupyterLab Notebook, it may mean\n",
       "  that the widgets JavaScript is still loading. If this message persists, it\n",
       "  likely means that the widgets JavaScript library is either not installed or\n",
       "  not enabled. See the <a href=\"https://ipywidgets.readthedocs.io/en/stable/user_install.html\">Jupyter\n",
       "  Widgets Documentation</a> for setup instructions.\n",
       "</p>\n",
       "<p>\n",
       "  If you're reading this message in another frontend (for example, a static\n",
       "  rendering on GitHub or <a href=\"https://nbviewer.jupyter.org/\">NBViewer</a>),\n",
       "  it may mean that your frontend doesn't currently support widgets.\n",
       "</p>\n"
      ],
      "text/plain": [
       "HBox(children=(IntProgress(value=0, max=300), HTML(value='')))"
      ]
     },
     "metadata": {},
     "output_type": "display_data"
    },
    {
     "name": "stdout",
     "output_type": "stream",
     "text": [
      "\n",
      "sim:9\n",
      "Average beta:  0.24\n"
     ]
    },
    {
     "data": {
      "application/vnd.jupyter.widget-view+json": {
       "model_id": "0c83f63f0713499cb8ba75721ddb34fe",
       "version_major": 2,
       "version_minor": 0
      },
      "text/html": [
       "<p>Failed to display Jupyter Widget of type <code>HBox</code>.</p>\n",
       "<p>\n",
       "  If you're reading this message in the Jupyter Notebook or JupyterLab Notebook, it may mean\n",
       "  that the widgets JavaScript is still loading. If this message persists, it\n",
       "  likely means that the widgets JavaScript library is either not installed or\n",
       "  not enabled. See the <a href=\"https://ipywidgets.readthedocs.io/en/stable/user_install.html\">Jupyter\n",
       "  Widgets Documentation</a> for setup instructions.\n",
       "</p>\n",
       "<p>\n",
       "  If you're reading this message in another frontend (for example, a static\n",
       "  rendering on GitHub or <a href=\"https://nbviewer.jupyter.org/\">NBViewer</a>),\n",
       "  it may mean that your frontend doesn't currently support widgets.\n",
       "</p>\n"
      ],
      "text/plain": [
       "HBox(children=(IntProgress(value=0, max=300), HTML(value='')))"
      ]
     },
     "metadata": {},
     "output_type": "display_data"
    },
    {
     "name": "stdout",
     "output_type": "stream",
     "text": [
      "\n",
      "Average beta:  0.24\n"
     ]
    },
    {
     "data": {
      "application/vnd.jupyter.widget-view+json": {
       "model_id": "6c2a37f2dcb44341a7c4d05a7ddda1d3",
       "version_major": 2,
       "version_minor": 0
      },
      "text/html": [
       "<p>Failed to display Jupyter Widget of type <code>HBox</code>.</p>\n",
       "<p>\n",
       "  If you're reading this message in the Jupyter Notebook or JupyterLab Notebook, it may mean\n",
       "  that the widgets JavaScript is still loading. If this message persists, it\n",
       "  likely means that the widgets JavaScript library is either not installed or\n",
       "  not enabled. See the <a href=\"https://ipywidgets.readthedocs.io/en/stable/user_install.html\">Jupyter\n",
       "  Widgets Documentation</a> for setup instructions.\n",
       "</p>\n",
       "<p>\n",
       "  If you're reading this message in another frontend (for example, a static\n",
       "  rendering on GitHub or <a href=\"https://nbviewer.jupyter.org/\">NBViewer</a>),\n",
       "  it may mean that your frontend doesn't currently support widgets.\n",
       "</p>\n"
      ],
      "text/plain": [
       "HBox(children=(IntProgress(value=0, max=300), HTML(value='')))"
      ]
     },
     "metadata": {},
     "output_type": "display_data"
    },
    {
     "name": "stdout",
     "output_type": "stream",
     "text": [
      "\n",
      "Average beta:  0.2\n"
     ]
    },
    {
     "data": {
      "application/vnd.jupyter.widget-view+json": {
       "model_id": "bb78ce246a274275a4eb4f77c4150249",
       "version_major": 2,
       "version_minor": 0
      },
      "text/html": [
       "<p>Failed to display Jupyter Widget of type <code>HBox</code>.</p>\n",
       "<p>\n",
       "  If you're reading this message in the Jupyter Notebook or JupyterLab Notebook, it may mean\n",
       "  that the widgets JavaScript is still loading. If this message persists, it\n",
       "  likely means that the widgets JavaScript library is either not installed or\n",
       "  not enabled. See the <a href=\"https://ipywidgets.readthedocs.io/en/stable/user_install.html\">Jupyter\n",
       "  Widgets Documentation</a> for setup instructions.\n",
       "</p>\n",
       "<p>\n",
       "  If you're reading this message in another frontend (for example, a static\n",
       "  rendering on GitHub or <a href=\"https://nbviewer.jupyter.org/\">NBViewer</a>),\n",
       "  it may mean that your frontend doesn't currently support widgets.\n",
       "</p>\n"
      ],
      "text/plain": [
       "HBox(children=(IntProgress(value=0, max=300), HTML(value='')))"
      ]
     },
     "metadata": {},
     "output_type": "display_data"
    },
    {
     "name": "stdout",
     "output_type": "stream",
     "text": [
      "\n",
      "Average beta:  0.165\n"
     ]
    },
    {
     "data": {
      "application/vnd.jupyter.widget-view+json": {
       "model_id": "eeea2c80bbcc48e9ab217ab63eaeefb3",
       "version_major": 2,
       "version_minor": 0
      },
      "text/html": [
       "<p>Failed to display Jupyter Widget of type <code>HBox</code>.</p>\n",
       "<p>\n",
       "  If you're reading this message in the Jupyter Notebook or JupyterLab Notebook, it may mean\n",
       "  that the widgets JavaScript is still loading. If this message persists, it\n",
       "  likely means that the widgets JavaScript library is either not installed or\n",
       "  not enabled. See the <a href=\"https://ipywidgets.readthedocs.io/en/stable/user_install.html\">Jupyter\n",
       "  Widgets Documentation</a> for setup instructions.\n",
       "</p>\n",
       "<p>\n",
       "  If you're reading this message in another frontend (for example, a static\n",
       "  rendering on GitHub or <a href=\"https://nbviewer.jupyter.org/\">NBViewer</a>),\n",
       "  it may mean that your frontend doesn't currently support widgets.\n",
       "</p>\n"
      ],
      "text/plain": [
       "HBox(children=(IntProgress(value=0, max=300), HTML(value='')))"
      ]
     },
     "metadata": {},
     "output_type": "display_data"
    },
    {
     "name": "stdout",
     "output_type": "stream",
     "text": [
      "\n",
      "Average beta:  0.14\n"
     ]
    },
    {
     "data": {
      "application/vnd.jupyter.widget-view+json": {
       "model_id": "9f65b90ca7264ce5bbb54ae39db03fe3",
       "version_major": 2,
       "version_minor": 0
      },
      "text/html": [
       "<p>Failed to display Jupyter Widget of type <code>HBox</code>.</p>\n",
       "<p>\n",
       "  If you're reading this message in the Jupyter Notebook or JupyterLab Notebook, it may mean\n",
       "  that the widgets JavaScript is still loading. If this message persists, it\n",
       "  likely means that the widgets JavaScript library is either not installed or\n",
       "  not enabled. See the <a href=\"https://ipywidgets.readthedocs.io/en/stable/user_install.html\">Jupyter\n",
       "  Widgets Documentation</a> for setup instructions.\n",
       "</p>\n",
       "<p>\n",
       "  If you're reading this message in another frontend (for example, a static\n",
       "  rendering on GitHub or <a href=\"https://nbviewer.jupyter.org/\">NBViewer</a>),\n",
       "  it may mean that your frontend doesn't currently support widgets.\n",
       "</p>\n"
      ],
      "text/plain": [
       "HBox(children=(IntProgress(value=0, max=300), HTML(value='')))"
      ]
     },
     "metadata": {},
     "output_type": "display_data"
    },
    {
     "name": "stdout",
     "output_type": "stream",
     "text": [
      "\n",
      "Average beta:  0.12\n"
     ]
    },
    {
     "data": {
      "application/vnd.jupyter.widget-view+json": {
       "model_id": "a90a20d1325440c6876c961b5f3c9995",
       "version_major": 2,
       "version_minor": 0
      },
      "text/html": [
       "<p>Failed to display Jupyter Widget of type <code>HBox</code>.</p>\n",
       "<p>\n",
       "  If you're reading this message in the Jupyter Notebook or JupyterLab Notebook, it may mean\n",
       "  that the widgets JavaScript is still loading. If this message persists, it\n",
       "  likely means that the widgets JavaScript library is either not installed or\n",
       "  not enabled. See the <a href=\"https://ipywidgets.readthedocs.io/en/stable/user_install.html\">Jupyter\n",
       "  Widgets Documentation</a> for setup instructions.\n",
       "</p>\n",
       "<p>\n",
       "  If you're reading this message in another frontend (for example, a static\n",
       "  rendering on GitHub or <a href=\"https://nbviewer.jupyter.org/\">NBViewer</a>),\n",
       "  it may mean that your frontend doesn't currently support widgets.\n",
       "</p>\n"
      ],
      "text/plain": [
       "HBox(children=(IntProgress(value=0, max=300), HTML(value='')))"
      ]
     },
     "metadata": {},
     "output_type": "display_data"
    },
    {
     "name": "stdout",
     "output_type": "stream",
     "text": [
      "\n"
     ]
    }
   ],
   "source": [
    "np.fill_diagonal(OD, 0)\n",
    "first_infections=first_infections_original*6\n",
    "\n",
    "N_popul = pop.popul.to_numpy()\n",
    "\n",
    "## Uprava OD matice, pocet odchodov moze byt maximalne pocet obyvatelov\n",
    "for j in range(len(N_popul)):\n",
    "    m = np.sum(OD[:, j]) / N_popul[j]\n",
    "    if m > 1:\n",
    "        OD[:, j] = OD[:, j] / m\n",
    "\n",
    "days = 300\n",
    "pocet_simulacii = 10\n",
    "\n",
    "if True:\n",
    "    percSIR_100_240=[]\n",
    "    percSIR_070_240=[]\n",
    "    percSIR_030_200=[]\n",
    "    percSIR_035_165=[]\n",
    "    percSIR_035_140=[]\n",
    "    percSIR_035_120=[]\n",
    "    SIR_100_240=[]\n",
    "    SIR_070_240=[]\n",
    "    SIR_030_200=[]\n",
    "    SIR_035_165=[]\n",
    "    SIR_035_140=[]\n",
    "    SIR_035_120=[]\n",
    "\n",
    "    for sim in np.arange(pocet_simulacii):\n",
    "        print('sim:'+str(sim))\n",
    "        \n",
    "        alpha1 = 1\n",
    "        beta_list = beta_list_240\n",
    "        a1,b1 =simulation(N_popul=pop_N,OD=OD,alpha_vec=np.random.uniform(alpha1-0.1,alpha1+0.1,days),\n",
    "                              R0_correction_demogr=R0_correction_demogr,\n",
    "                              first_infections=first_infections,beta_list=beta_list,gamma=0.1,\n",
    "                              tau= 16/24, T = days)\n",
    "        alpha2 = 0.7\n",
    "        beta_list = beta_list_240\n",
    "        a2,b2 =simulation(N_popul=pop_N,OD=OD,alpha_vec=np.random.uniform(alpha2-0.1, alpha2+0.1,days),\n",
    "                              R0_correction_demogr=R0_correction_demogr,\n",
    "                              first_infections=first_infections,beta_list=beta_list,gamma=0.1,\n",
    "                              tau= 16/24, T = days)\n",
    "        \n",
    "        alpha3 = 0.3\n",
    "        beta_list = beta_list_200\n",
    "        a3,b3 =simulation(N_popul=pop_N,OD=OD,alpha_vec=np.random.uniform(alpha3-0.1, alpha3+0.1,days),\n",
    "                              R0_correction_demogr=R0_correction_demogr,\n",
    "                              first_infections=first_infections,beta_list=beta_list,gamma=0.1,\n",
    "                              tau= 16/24, T = days)\n",
    "        \n",
    "        alpha4 = 0.35\n",
    "        beta_list = beta_list_165\n",
    "        a4,b4 =simulation(N_popul=pop_N,OD=OD,alpha_vec=np.random.uniform(alpha4-0.1, alpha4+0.1,days),\n",
    "                              R0_correction_demogr=R0_correction_demogr,\n",
    "                              first_infections=first_infections,beta_list=beta_list,gamma=0.1,\n",
    "                              tau= 16/24, T = days)\n",
    "        \n",
    "        alpha5 = 0.35\n",
    "        beta_list = beta_list_140\n",
    "        a5,b5 = simulation(N_popul=pop_N,OD=OD,alpha_vec=np.random.uniform(alpha5-0.1, alpha5+0.1,days),\n",
    "                              R0_correction_demogr=R0_correction_demogr,\n",
    "                              first_infections=first_infections,beta_list=beta_list,gamma=0.1,\n",
    "                              tau= 16/24, T = days)\n",
    "        \n",
    "        alpha6 = 0.35\n",
    "        beta_list = beta_list_120\n",
    "        a6,b6 = simulation(N_popul=pop_N,OD=OD,alpha_vec=np.random.uniform(alpha6-0.1, alpha6+0.1,days),\n",
    "                                        R0_correction_demogr=R0_correction_demogr,\n",
    "                                        first_infections=first_infections,beta_list=beta_list,gamma=0.1,\n",
    "                                        tau= 16/24, T = days)\n",
    "        \n",
    "        percSIR_100_240.append(a1)\n",
    "        percSIR_070_240.append(a2)\n",
    "        percSIR_030_200.append(a3)\n",
    "        percSIR_035_165.append(a4)\n",
    "        percSIR_035_140.append(a5)\n",
    "        percSIR_035_120.append(a6)\n",
    "        SIR_100_240.append(b1)\n",
    "        SIR_070_240.append(b2)\n",
    "        SIR_030_200.append(b3)\n",
    "        SIR_035_165.append(b4)\n",
    "        SIR_035_140.append(b5)\n",
    "        SIR_035_120.append(b6)\n",
    "        #with open('./vystupy_model/simulations_29.3.2020_imro_tmp.pickle','wb') as f:\n",
    "        #    pickle.dump([percSIR_100_240,percSIR_070_240,percSIR_030_200,percSIR_035_165,percSIR_035_140,percSIR_035_120,\n",
    "        #     SIR_100_240,SIR_070_240,SIR_030_200,SIR_035_165,SIR_035_140,SIR_035_120],f)\n",
    "   \n",
    "    results=[percSIR_100_240,percSIR_070_240,percSIR_030_200,percSIR_035_165,percSIR_035_140,percSIR_035_120,\n",
    "             SIR_100_240,SIR_070_240,SIR_030_200,SIR_035_165,SIR_035_140,SIR_035_120]\n",
    "    \n",
    "    #with open('./vystupy_model/simulations_30.3.2020.pickle','wb') as f:\n",
    "    #    pickle.dump(results,f)"
   ]
  },
  {
   "cell_type": "code",
   "execution_count": 70,
   "metadata": {},
   "outputs": [],
   "source": [
    "# with open('./vystupy_model/simulations_30.3.2020.pickle','rb') as f:\n",
    "#     results=pickle.load(f)\n",
    "#     f.close()"
   ]
  },
  {
   "cell_type": "markdown",
   "metadata": {},
   "source": [
    "## Grafy"
   ]
  },
  {
   "cell_type": "code",
   "execution_count": 71,
   "metadata": {},
   "outputs": [
    {
     "name": "stdout",
     "output_type": "stream",
     "text": [
      "Alpha 1 R0 2.4, Peak:  0.458 , Day:  8\n",
      "Alpha 0.7 R0 2.4, Peak:  0.451 , Day:  16\n",
      "Alpha 0.3 R0 2.4, Peak:  0.246 , Day:  0\n",
      "Alpha 0.35 R0 2.4, Peak:  0.768 , Day:  8\n"
     ]
    },
    {
     "data": {
      "image/png": "[encoded data removed]",
      "text/plain": [
       "<matplotlib.figure.Figure at 0x12fee9128>"
      ]
     },
     "metadata": {},
     "output_type": "display_data"
    }
   ],
   "source": [
    "## Graf vrcholov nakazy, standardny\n",
    " \n",
    "total_days = 300\n",
    "\n",
    "day_zero = dt.datetime.now() - dt.timedelta(days = 3) \n",
    "end = day_zero + dt.timedelta(days=total_days)\n",
    "days = mdates.drange(day_zero,end,dt.timedelta(days=1))\n",
    "\n",
    "months = mdates.MonthLocator()  # every month\n",
    "\n",
    "day_zero = dt.datetime.now() - dt.timedelta(days = 3) \n",
    "end = day_zero + dt.timedelta(days=total_days)\n",
    "days = mdates.drange(day_zero,end,dt.timedelta(days=1))\n",
    "\n",
    "sns.set(rc={'figure.figsize':(11, 4)})    \n",
    "    \n",
    "fig, ax = plt.subplots()\n",
    "clrs=['red','orange','blue','green', 'purple','teal']\n",
    "with sns.axes_style(\"darkgrid\"):\n",
    "    for i in range(4):\n",
    "        means = np.array(meanlist_inf(results[i]), dtype=np.float64)\n",
    "        sdt = np.array(stdlist_inf(results[i]), dtype=np.float64)\n",
    "        ax.plot(days, means, c=clrs[i])\n",
    "        ax.fill_between(days, means-2*sdt, means+2*sdt ,alpha=0.3, facecolor=clrs[i])\n",
    "        ax.set_xlim([dt.date(2020, 3, 29), dt.date(2021, 1, 8)])\n",
    "        ax.xaxis.set_major_locator(months)\n",
    "        ax.xaxis.set_major_formatter(mdates.DateFormatter('%b' '%y'))\n",
    "\n",
    "plt.title('Porovnanie peaku infekcie podľa mobility')\n",
    "plt.ylabel('Pomer nakazených')\n",
    "plt.legend(['Alpha 1.00, R0 2.4','Alpha 0.70, R0 2.4','Alpha 0.30, R0 2.00','Alpha 0.35, R0 1.65'])\n",
    "\n",
    "plt.savefig('./outputs/plots/v10_plot_inf_rel_alpha_high.png',dpi=300)\n",
    "plt.close\n",
    "\n",
    "means_100_240 = np.array(meanlist_inf(results[0]), dtype=np.float64)\n",
    "means_070_240 = np.array(meanlist_inf(results[1]), dtype=np.float64)\n",
    "means_030_200 = np.array(meanlist_inf(results[2]), dtype=np.float64)\n",
    "means_035_165 = np.array(meanlist_inf(results[3]), dtype=np.float64)\n",
    "\n",
    "print('Alpha', str(alpha1), 'R0 2.4, Peak: ', np.round(means_100_240.max(),3), ', Day: ' , means_100_240.argmax() )\n",
    "print('Alpha', str(alpha2), 'R0 2.4, Peak: ', np.round(means_070_240.max(),3), ', Day: ' , means_070_240.argmax())\n",
    "print('Alpha', str(alpha3), 'R0 2.4, Peak: ', np.round(means_030_200.max(),3),  ', Day: ' , means_030_200.argmax())\n",
    "print('Alpha', str(alpha4), 'R0 2.4, Peak: ', np.round(means_035_165.max(),3), ', Day: ' , means_035_165.argmax())"
   ]
  },
  {
   "cell_type": "code",
   "execution_count": 72,
   "metadata": {},
   "outputs": [
    {
     "name": "stdout",
     "output_type": "stream",
     "text": [
      "Alpha 0.35 R0 1.65, Peak: 0.768 , Day:  8\n",
      "Alpha 0.35 R0 1.40, Peak: 0.432 , Day:  11\n",
      "Alpha 0.35 R0 1.20, Peak: 0.373 , Day:  0\n"
     ]
    },
    {
     "data": {
      "image/png": "[encoded data removed]",
      "text/plain": [
       "<matplotlib.figure.Figure at 0x133df4390>"
      ]
     },
     "metadata": {},
     "output_type": "display_data"
    }
   ],
   "source": [
    "## Graf vrcholov nakazy, nizke scenare\n",
    "        \n",
    "total_days = 300\n",
    "\n",
    "day_zero = dt.datetime.now() - dt.timedelta(days = 3) \n",
    "end = day_zero + dt.timedelta(days=total_days)\n",
    "days = mdates.drange(day_zero,end,dt.timedelta(days=1))\n",
    "months = mdates.MonthLocator()  # every month\n",
    "\n",
    "sns.set(rc={'figure.figsize':(11, 4)})    \n",
    "    \n",
    "fig, ax = plt.subplots()\n",
    "clrs=['red','orange','yellow','blue', 'purple','magenta','green']\n",
    "with sns.axes_style(\"darkgrid\"):\n",
    "    for i in range(3,6):\n",
    "        means = np.array(meanlist_inf(results[i]), dtype=np.float64)\n",
    "        sdt = np.array(stdlist_inf(results[i]),dtype=np.float64)\n",
    "        ax.plot(days, means, c=clrs[i])\n",
    "        ax.fill_between(days, means-2*sdt, means+2*sdt ,alpha=0.3, facecolor=clrs[i])\n",
    "        ax.set_xlim([dt.date(2020, 3, 22), dt.date(2021, 1, 1)])\n",
    "        ax.xaxis.set_major_locator(months)\n",
    "        ax.xaxis.set_major_formatter(mdates.DateFormatter('%b' '%y'))\n",
    "\n",
    "plt.title('Porovnanie peaku infekcie podľa mobility')\n",
    "plt.ylabel('Pomer nakazených')\n",
    "plt.legend(['Alpha 0.35, R0 1.65','Alpha 0.35, R0 1.40','Alpha 0.35, R0 1.20'])\n",
    "\n",
    "plt.savefig('./outputs/plots/v10_plot_inf_rel_low_alpha.png',dpi=300)\n",
    "plt.close\n",
    "\n",
    "\n",
    "means_035_165 = np.array(meanlist_inf(results[3]), dtype=np.float64)\n",
    "means_035_140 = np.array(meanlist_inf(results[4]), dtype=np.float64)\n",
    "means_035_120 = np.array(meanlist_inf(results[5]), dtype=np.float64)\n",
    "\n",
    "print('Alpha', str(alpha4), 'R0 1.65, Peak:'  , np.round(means_035_165.max(),3),  ', Day: ' , means_035_165.argmax())\n",
    "print('Alpha', str(alpha5), 'R0 1.40, Peak:', np.round(means_035_140.max(),3), ', Day: ' , means_035_140.argmax())\n",
    "print('Alpha', str(alpha6), 'R0 1.20, Peak:', np.round(means_035_120.max(),3), ', Day: ' , means_035_120.argmax())"
   ]
  },
  {
   "cell_type": "code",
   "execution_count": 73,
   "metadata": {},
   "outputs": [
    {
     "data": {
      "text/plain": [
       "<function matplotlib.pyplot.close>"
      ]
     },
     "execution_count": 73,
     "metadata": {},
     "output_type": "execute_result"
    },
    {
     "data": {
      "image/png": "[encoded data removed]",
      "text/plain": [
       "<matplotlib.figure.Figure at 0x128ab8320>"
      ]
     },
     "metadata": {},
     "output_type": "display_data"
    }
   ],
   "source": [
    "sns.set(rc={'figure.figsize':(11, 4)})     \n",
    "\n",
    "day_zero = dt.datetime.now() - dt.timedelta(days = 2) \n",
    "end = day_zero + dt.timedelta(days=299)\n",
    "days = mdates.drange(day_zero,end,dt.timedelta(days=1))\n",
    "\n",
    "fig, ax = plt.subplots()\n",
    "clrs=['red','orange','green','blue']\n",
    "with sns.axes_style(\"darkgrid\"):\n",
    "    for i in range(6,10):\n",
    "        means = np.array(meanlist_inf_diff(results[i]), dtype=np.float64)\n",
    "        sdt = np.array(stdlist_inf_diff(results[i]), dtype=np.float64)\n",
    "        ax.plot(days, means, c=clrs[i-6])\n",
    "        #ax.fill_between(epochs, means-2*sdt, means+2*sdt ,alpha=0.3, facecolor=clrs[i])\n",
    "        ax.set_xlim([dt.date(2020, 3, 22), dt.date(2021, 1, 1)])\n",
    "        ax.xaxis.set_major_locator(months)\n",
    "        ax.xaxis.set_major_formatter(mdates.DateFormatter('%b' '%y'))\n",
    "\n",
    "\n",
    "plt.title('Zmena v počte infikovaných')\n",
    "#plt.xlabel('Dni')\n",
    "plt.legend(['Alpha 1.0, R0 2.4','Alpha 0.7, R0 2.4','Alpha 0.3, R0 2.0','Alpha 0.35, R0 1.65'])\n",
    "#plt.ylabel('Počet')\n",
    "plt.savefig('./outputs/plots/v10_plot_inf_abs.png',dpi=300)\n",
    "plt.close"
   ]
  },
  {
   "cell_type": "markdown",
   "metadata": {},
   "source": [
    "## Tabuľky"
   ]
  },
  {
   "cell_type": "code",
   "execution_count": 74,
   "metadata": {},
   "outputs": [],
   "source": [
    "## Tabulka 1\n",
    "days = 300\n",
    "A = pd.DataFrame({'Dni':np.arange(1, days+1),\n",
    "              'I_high':np.sum(sumlist(results[6])[:,1,:], axis = 0),\n",
    "              'I_med':np.sum(sumlist(results[7])[:,1,:], axis = 0),\n",
    "              'I_low':np.sum(sumlist(results[8])[:,1,:], axis = 0),\n",
    "              'I_low_R140':np.sum(sumlist(results[9])[:,1,:], axis = 0)\n",
    "             })\n",
    "\n",
    "A.columns = ['Dni', 'Alpha 1.0, R0 2.4, Počet infikovaných','Alpha 0.7, R0 2.4, Počet infikovaných',\n",
    "             'Alpha 0.3, R0 2.0, Počet infikovaných','Alpha 0.35, R0 1.65, Počet infikovaných'] \n",
    "\n",
    "\n",
    "# Vyber konkretnych dni (Riadok 9 predstavuje den 10)\n",
    "A = A.iloc[ [9,19,29,39,49,59,79,99,149,199] , :]\n",
    "\n",
    "A.to_excel('./outputs/tabulky/v10_Tabulka1.xlsx',engine='xlsxwriter', index = False)\n",
    "\n",
    "## Tabulka 3 (Tabulka 2 je staticka) -- tabulka pouziva scenar s najprisnejsimi opatreniami\n",
    "B = A.loc[:, ['Dni', 'Alpha 0.35, R0 1.65, Počet infikovaných']].copy()\n",
    "B.columns = ['Dni', 'Počet infikovaných']\n",
    "B['Symptomatickí pacienti'] = B['Počet infikovaných']*0.6\n",
    "B['Hospitalizácie'] = B['Symptomatickí pacienti']*0.074306\n",
    "B['Vyžadujúci intenzívnu starostlivosť'] = B['Hospitalizácie']*0.1375\n",
    "\n",
    "B.to_excel('./outputs/tabulky/v10_Tabulka3.xlsx',engine='xlsxwriter', index = False)"
   ]
  },
  {
   "cell_type": "code",
   "execution_count": 75,
   "metadata": {},
   "outputs": [],
   "source": [
    "## Vystup alpha 0.7, R0 2.40\n",
    "gamma = 0.1\n",
    "\n",
    "sim_df_low = pd.DataFrame({'Dni':np.arange(1,301),\n",
    "                       'S': np.sum(sumlist(results[7])[:,0,:], axis = 0),\n",
    "                       'I': np.sum(sumlist(results[7])[:,1,:], axis = 0),\n",
    "                       'R': np.sum(sumlist(results[7])[:,2,:], axis = 0)})\n",
    "\n",
    "sim_df_low['Populácia'] = sim_df_low['S'] + sim_df_low['I'] +sim_df_low['R']\n",
    "sim_df_low['I_cum'] =  sim_df_low['Populácia'] - sim_df_low['S']\n",
    "\n",
    "new_infect = np.array(-sim_df_low['S'].iloc[1:]) + np.array(sim_df_low['S'].iloc[0:-1]) \n",
    "new_infect = np.insert(new_infect, 0, first_infections.sum() , axis = 0)\n",
    "new_recovered = np.array( sim_df_low['R'].iloc[1:]) -np.array(sim_df_low['R'].iloc[0:-1]) \n",
    "new_recovered = np.insert(new_recovered, 0, gamma*first_infections.sum() , axis = 0)\n",
    "\n",
    "sim_df_low['Nové infekcie'] = new_infect\n",
    "sim_df_low['Novovyliečení'] = new_recovered\n",
    "\n",
    "sim_df_low.columns = ['Dni','Náchylní','Infikovaní','Vyliečení', 'Populácia','Niekedy infikovaní','Nové infekcie', 'Novovyliečení']\n",
    "sim_df_low.to_excel('./outputs/tabulky/v10_SIR_vystup_alpha_0.70_R0_2.40.xlsx', index = False)\n",
    "#sim_df_low['Infikovaní'].max()"
   ]
  },
  {
   "cell_type": "code",
   "execution_count": 76,
   "metadata": {},
   "outputs": [],
   "source": [
    "## Vystup alpha 0.35, R0 1.65 -- default\n",
    "sim_df_low = pd.DataFrame({'Dni':np.arange(1,301),\n",
    "                       'S': np.sum(sumlist(results[9])[:,0,:], axis = 0),\n",
    "                       'I': np.sum(sumlist(results[9])[:,1,:], axis = 0),\n",
    "                       'R': np.sum(sumlist(results[9])[:,2,:], axis = 0)})\n",
    "\n",
    "sim_df_low['Populácia'] = sim_df_low['S'] + sim_df_low['I'] +sim_df_low['R']\n",
    "sim_df_low['I_cum'] =  sim_df_low['Populácia'] - sim_df_low['S']\n",
    "\n",
    "new_infect = np.array(-sim_df_low['S'].iloc[1:]) + np.array(sim_df_low['S'].iloc[0:-1]) \n",
    "new_infect = np.insert(new_infect, 0, first_infections.sum() , axis = 0)\n",
    "new_recovered = np.array( sim_df_low['R'].iloc[1:]) -np.array(sim_df_low['R'].iloc[0:-1]) \n",
    "new_recovered = np.insert(new_recovered, 0, gamma*first_infections.sum() , axis = 0)\n",
    "\n",
    "sim_df_low['Nové infekcie'] = new_infect\n",
    "sim_df_low['Novovyliečení'] = new_recovered\n",
    "\n",
    "sim_df_low.columns = ['Dni','Náchylní','Infikovaní','Vyliečení', 'Populácia','Niekedy infikovaní','Nové infekcie', 'Novovyliečení']\n",
    "sim_df_low.to_excel('./outputs/tabulky/v10_SIR_vystup_alpha_0.35_R0_1.65_DEFAULT.xlsx', index = False)\n",
    "#sim_df_low['Infikovaní'].max()"
   ]
  },
  {
   "cell_type": "code",
   "execution_count": 77,
   "metadata": {},
   "outputs": [],
   "source": [
    "## Vystup alpha 0.35, R0 1.40\n",
    "sim_df_low = pd.DataFrame({'Dni':np.arange(1,301),\n",
    "                       'S': np.sum(sumlist(results[10])[:,0,:], axis = 0),\n",
    "                       'I': np.sum(sumlist(results[10])[:,1,:], axis = 0),\n",
    "                       'R': np.sum(sumlist(results[10])[:,2,:], axis = 0)})\n",
    "\n",
    "sim_df_low['Populácia'] = sim_df_low['S'] + sim_df_low['I'] +sim_df_low['R']\n",
    "sim_df_low['I_cum'] =  sim_df_low['Populácia'] - sim_df_low['S']\n",
    "\n",
    "new_infect = np.array(-sim_df_low['S'].iloc[1:]) + np.array(sim_df_low['S'].iloc[0:-1]) \n",
    "new_infect = np.insert(new_infect, 0, first_infections.sum() , axis = 0)\n",
    "new_recovered = np.array( sim_df_low['R'].iloc[1:]) -np.array(sim_df_low['R'].iloc[0:-1]) \n",
    "new_recovered = np.insert(new_recovered, 0, gamma*first_infections.sum() , axis = 0)\n",
    "\n",
    "sim_df_low['Nové infekcie'] = new_infect\n",
    "sim_df_low['Novovyliečení'] = new_recovered\n",
    "\n",
    "sim_df_low.columns = ['Dni','Náchylní','Infikovaní','Vyliečení', 'Populácia','Niekedy infikovaní','Nové infekcie', 'Novovyliečení']\n",
    "sim_df_low.to_excel('./outputs/tabulky/v10_SIR_vystup_alpha_0.35_R0_1.40.xlsx', index = False)\n",
    "#sim_df_low['Infikovaní'].max()"
   ]
  },
  {
   "cell_type": "code",
   "execution_count": 78,
   "metadata": {},
   "outputs": [
    {
     "data": {
      "text/plain": [
       "<function matplotlib.pyplot.close>"
      ]
     },
     "execution_count": 78,
     "metadata": {},
     "output_type": "execute_result"
    },
    {
     "data": {
      "image/png": "[encoded data removed]",
      "text/plain": [
       "<matplotlib.figure.Figure at 0x128ab8fd0>"
      ]
     },
     "metadata": {},
     "output_type": "display_data"
    }
   ],
   "source": [
    "D = pd.DataFrame({'Dni':np.arange(300),\n",
    "                  'S_high': np.sum(sumlist(results[6])[:,0,:], axis = 0),\n",
    "                 'S_med': np.sum(sumlist(results[7])[:,0,:], axis = 0),\n",
    "                 'S_low': np.sum(sumlist(results[8])[:,0,:], axis = 0),\n",
    "                 'S_low2': np.sum(sumlist(results[9])[:,0,:], axis = 0)})\n",
    "\n",
    "N = np.sum(pop.popul.to_numpy())\n",
    "D['I_cum_high'] = N - D['S_high']\n",
    "D['I_cum_med'] = N -  D['S_med']\n",
    "D['I_cum_low'] = N -  D['S_low']\n",
    "D['I_cum_low2'] = N - D['S_low2']\n",
    "\n",
    "D = D.drop(['S_high', 'S_med', 'S_low', 'S_low2'], axis = 1)\n",
    "\n",
    "## Graf poctu novych nakaz v case\n",
    "new_inf_high = np.array(D['I_cum_high'].iloc[1:]) - np.array(D['I_cum_high'].iloc[0:-1])\n",
    "new_inf_med  = np.array(D['I_cum_med'].iloc[1:]) - np.array(D['I_cum_med'].iloc[0:-1])\n",
    "new_inf_low  = np.array(D['I_cum_low'].iloc[1:]) - np.array(D['I_cum_low'].iloc[0:-1])\n",
    "new_inf_low2 = np.array(D['I_cum_low2'].iloc[1:]) - np.array(D['I_cum_low2'].iloc[0:-1])\n",
    "\n",
    "E = pd.DataFrame({'Deň':np.array(range(1,300,1)), \n",
    "                  'Nové infekcie, vysoká mobilita': new_inf_high, 'Nové infekcie, stredná mobilita':new_inf_med, \n",
    "                  'Nové infekcie, nízka mobilita, R0 2.0':new_inf_low, 'Nové infekcie, nízka mobilita, R0 1.65':new_inf_low2})\n",
    "\n",
    "sns.set(rc={'figure.figsize':(11, 4)})    \n",
    "\n",
    "day_zero = dt.datetime.now() - dt.timedelta(days = 2) \n",
    "end = day_zero + dt.timedelta(days=299)\n",
    "days = mdates.drange(day_zero,end,dt.timedelta(days=1))\n",
    "\n",
    "fig, ax = plt.subplots()\n",
    "clrs=['red','orange','green','blue']\n",
    "with sns.axes_style(\"darkgrid\"):\n",
    "    epochs = list( E['Deň'] )    \n",
    "    for i in range(4):\n",
    "        means = np.array(E.iloc[:, i+1] , dtype=np.float64)\n",
    "        ax.plot(days, means, c=clrs[i])\n",
    "        ax.set_xlim([dt.date(2020, 3, 22), dt.date(2021, 1, 1)])\n",
    "        ax.xaxis.set_major_locator(months)\n",
    "        ax.xaxis.set_major_formatter(mdates.DateFormatter('%b' '%y'))\n",
    "\n",
    "plt.title('Počet nových infekcií')\n",
    "plt.legend(['Alpha 1.0, R0 2.4','Alpha 0.7, R0 2.4','Alpha 0.3, R0 2.0','Alpha 0.35, R0 1.65'])\n",
    "#plt.ylabel('Počet')\n",
    "plt.savefig('./outputs/plots/v10_plot_inf_nove.png',dpi=300)\n",
    "plt.close"
   ]
  },
  {
   "cell_type": "code",
   "execution_count": null,
   "metadata": {},
   "outputs": [],
   "source": []
  }
 ],
 "metadata": {
  "kernelspec": {
   "display_name": "Python 3",
   "language": "python",
   "name": "python3"
  },
  "language_info": {
   "codemirror_mode": {
    "name": "ipython",
    "version": 3
   },
   "file_extension": ".py",
   "mimetype": "text/x-python",
   "name": "python",
   "nbconvert_exporter": "python",
   "pygments_lexer": "ipython3",
   "version": "3.6.7"
  }
 },
 "nbformat": 4,
 "nbformat_minor": 2
}
