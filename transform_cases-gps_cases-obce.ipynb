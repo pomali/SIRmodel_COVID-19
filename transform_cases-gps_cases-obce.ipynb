{
 "cells": [
  {
   "cell_type": "code",
   "execution_count": 51,
   "metadata": {},
   "outputs": [
    {
     "name": "stdout",
     "output_type": "stream",
     "text": [
      "            lat       long  kod_obce               name  \\\n",
      "0     48.309891  18.085876    500011              Nitra   \n",
      "1     48.243732  18.308201    500933             Vráble   \n",
      "2     48.383228  18.397635    500968      Zlaté Moravce   \n",
      "3     47.762501  18.130596    501026            Komárno   \n",
      "4     47.879997  18.196161    501140          Hurbanovo   \n",
      "...         ...        ...       ...                ...   \n",
      "2922  48.349743  18.159761    582719            Štitáre   \n",
      "2923  48.397499  18.418669    582816           Žitavany   \n",
      "2924  48.566257  20.873280    599310           Chorváty   \n",
      "2925  48.575825  18.875715    599328  Ladomerská Vieska   \n",
      "2926  48.615105  18.841764    599336             Lutila   \n",
      "\n",
      "                          points  cases  \n",
      "0     (48.30989075, 18.08587646)      4  \n",
      "1     (48.24373245, 18.30820084)      2  \n",
      "2      (48.3832283, 18.39763451)      3  \n",
      "3     (47.76250076, 18.13059616)      0  \n",
      "4     (47.87999725, 18.19616127)      0  \n",
      "...                          ...    ...  \n",
      "2922  (48.34974289, 18.15976143)      0  \n",
      "2923  (48.39749908, 18.41866875)      0  \n",
      "2924  (48.56625748, 20.87327957)      0  \n",
      "2925  (48.57582474, 18.87571526)      0  \n",
      "2926  (48.61510468, 18.84176445)      0  \n",
      "\n",
      "[2927 rows x 6 columns]\n"
     ]
    }
   ],
   "source": [
    "import pandas as pd\n",
    "from scipy.spatial.distance import cdist\n",
    "\n",
    "\n",
    "\n",
    "nakazy_sk_gps = pd.read_json('./inputs/cases-city-gps.json')\n",
    "\n",
    "df_coords = pd.read_json('./inputs/obce_gps.json')\n",
    "\n",
    "def closest_point(point, points, data):\n",
    "    \"\"\" Find closest point from a list of points. \"\"\"\n",
    "    return data.iloc[cdist([point], points).argmin(), :]\n",
    "\n",
    "\n",
    "\n",
    "df_coords['points'] = list(zip(df_coords.lat, df_coords.long))\n",
    "\n",
    "df_coords['cases'] = 0\n",
    "\n",
    "for i,case in nakazy_sk_gps.iterrows():\n",
    "    point = (case.lat, case.long)\n",
    "    closest_muni = closest_point(point, list(df_coords['points']), df_coords)\n",
    "    df_coords.loc[df_coords.kod_obce==closest_muni.kod_obce, 'cases'] += 1\n",
    "\n",
    "\n",
    "print(df_coords)"
   ]
  },
  {
   "cell_type": "code",
   "execution_count": null,
   "metadata": {},
   "outputs": [],
   "source": []
  }
 ],
 "metadata": {
  "kernelspec": {
   "display_name": "Python 3",
   "language": "python",
   "name": "python3"
  },
  "language_info": {
   "codemirror_mode": {
    "name": "ipython",
    "version": 3
   },
   "file_extension": ".py",
   "mimetype": "text/x-python",
   "name": "python",
   "nbconvert_exporter": "python",
   "pygments_lexer": "ipython3",
   "version": "3.6.7"
  }
 },
 "nbformat": 4,
 "nbformat_minor": 2
}
